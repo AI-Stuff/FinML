{
 "cells": [
  {
   "cell_type": "markdown",
   "metadata": {},
   "source": [
    "# Importing data"
   ]
  },
  {
   "cell_type": "code",
   "execution_count": 11,
   "metadata": {},
   "outputs": [],
   "source": [
    "### This is simply reading in the data files necessary for this notebook\n",
    "\n",
    "import pandas as pd\n",
    "github_p = \"https://github.com/firmai/Financial-Machine-Learning/blob/master/Lecture%202%20-%20Python%20for%20Finance/\"\n",
    "try:\n",
    "    path = \"data/\"\n",
    "    df = pd.read_csv(path+'Google.csv',index_col=0,parse_dates=[0]) # Setting the first column as index\n",
    "    \n",
    "except:\n",
    "    print(\"loading github files\")\n",
    "    df = pd.read_csv(github_p+path+'Google.csv'+'?raw=true',index_col=0,parse_dates=[0]) # Setting the first column as index column\n"
   ]
  },
  {
   "cell_type": "code",
   "execution_count": 12,
   "metadata": {},
   "outputs": [
    {
     "data": {
      "text/html": [
       "<div>\n",
       "<style scoped>\n",
       "    .dataframe tbody tr th:only-of-type {\n",
       "        vertical-align: middle;\n",
       "    }\n",
       "\n",
       "    .dataframe tbody tr th {\n",
       "        vertical-align: top;\n",
       "    }\n",
       "\n",
       "    .dataframe thead th {\n",
       "        text-align: right;\n",
       "    }\n",
       "</style>\n",
       "<table border=\"1\" class=\"dataframe\">\n",
       "  <thead>\n",
       "    <tr style=\"text-align: right;\">\n",
       "      <th></th>\n",
       "      <th>Open</th>\n",
       "      <th>High</th>\n",
       "      <th>Low</th>\n",
       "      <th>Close</th>\n",
       "      <th>Volume</th>\n",
       "      <th>Ex-Dividend</th>\n",
       "      <th>Split Ratio</th>\n",
       "      <th>Adj. Open</th>\n",
       "      <th>Adj. High</th>\n",
       "      <th>Adj. Low</th>\n",
       "      <th>Adj. Close</th>\n",
       "      <th>Adj. Volume</th>\n",
       "    </tr>\n",
       "    <tr>\n",
       "      <th>Date</th>\n",
       "      <th></th>\n",
       "      <th></th>\n",
       "      <th></th>\n",
       "      <th></th>\n",
       "      <th></th>\n",
       "      <th></th>\n",
       "      <th></th>\n",
       "      <th></th>\n",
       "      <th></th>\n",
       "      <th></th>\n",
       "      <th></th>\n",
       "      <th></th>\n",
       "    </tr>\n",
       "  </thead>\n",
       "  <tbody>\n",
       "    <tr>\n",
       "      <th>2004-08-19</th>\n",
       "      <td>100.01000</td>\n",
       "      <td>104.06000</td>\n",
       "      <td>95.96000</td>\n",
       "      <td>100.33500</td>\n",
       "      <td>44,659,000.00000</td>\n",
       "      <td>0.00000</td>\n",
       "      <td>1.00000</td>\n",
       "      <td>50.15984</td>\n",
       "      <td>52.19111</td>\n",
       "      <td>48.12857</td>\n",
       "      <td>50.32284</td>\n",
       "      <td>44,659,000.00000</td>\n",
       "    </tr>\n",
       "    <tr>\n",
       "      <th>2004-08-20</th>\n",
       "      <td>101.01000</td>\n",
       "      <td>109.08000</td>\n",
       "      <td>100.50000</td>\n",
       "      <td>108.31000</td>\n",
       "      <td>22,834,300.00000</td>\n",
       "      <td>0.00000</td>\n",
       "      <td>1.00000</td>\n",
       "      <td>50.66139</td>\n",
       "      <td>54.70888</td>\n",
       "      <td>50.40560</td>\n",
       "      <td>54.32269</td>\n",
       "      <td>22,834,300.00000</td>\n",
       "    </tr>\n",
       "    <tr>\n",
       "      <th>2004-08-23</th>\n",
       "      <td>110.76000</td>\n",
       "      <td>113.48000</td>\n",
       "      <td>109.05000</td>\n",
       "      <td>109.40000</td>\n",
       "      <td>18,256,100.00000</td>\n",
       "      <td>0.00000</td>\n",
       "      <td>1.00000</td>\n",
       "      <td>55.55148</td>\n",
       "      <td>56.91569</td>\n",
       "      <td>54.69383</td>\n",
       "      <td>54.86938</td>\n",
       "      <td>18,256,100.00000</td>\n",
       "    </tr>\n",
       "    <tr>\n",
       "      <th>2004-08-24</th>\n",
       "      <td>111.24000</td>\n",
       "      <td>111.60000</td>\n",
       "      <td>103.57000</td>\n",
       "      <td>104.87000</td>\n",
       "      <td>15,247,300.00000</td>\n",
       "      <td>0.00000</td>\n",
       "      <td>1.00000</td>\n",
       "      <td>55.79223</td>\n",
       "      <td>55.97278</td>\n",
       "      <td>51.94535</td>\n",
       "      <td>52.59736</td>\n",
       "      <td>15,247,300.00000</td>\n",
       "    </tr>\n",
       "    <tr>\n",
       "      <th>2004-08-25</th>\n",
       "      <td>104.76000</td>\n",
       "      <td>108.00000</td>\n",
       "      <td>103.88000</td>\n",
       "      <td>106.00000</td>\n",
       "      <td>9,188,600.00000</td>\n",
       "      <td>0.00000</td>\n",
       "      <td>1.00000</td>\n",
       "      <td>52.54219</td>\n",
       "      <td>54.16721</td>\n",
       "      <td>52.10083</td>\n",
       "      <td>53.16411</td>\n",
       "      <td>9,188,600.00000</td>\n",
       "    </tr>\n",
       "  </tbody>\n",
       "</table>\n",
       "</div>"
      ],
      "text/plain": [
       "                Open      High       Low     Close           Volume  \\\n",
       "Date                                                                  \n",
       "2004-08-19 100.01000 104.06000  95.96000 100.33500 44,659,000.00000   \n",
       "2004-08-20 101.01000 109.08000 100.50000 108.31000 22,834,300.00000   \n",
       "2004-08-23 110.76000 113.48000 109.05000 109.40000 18,256,100.00000   \n",
       "2004-08-24 111.24000 111.60000 103.57000 104.87000 15,247,300.00000   \n",
       "2004-08-25 104.76000 108.00000 103.88000 106.00000  9,188,600.00000   \n",
       "\n",
       "            Ex-Dividend  Split Ratio  Adj. Open  Adj. High  Adj. Low  \\\n",
       "Date                                                                   \n",
       "2004-08-19      0.00000      1.00000   50.15984   52.19111  48.12857   \n",
       "2004-08-20      0.00000      1.00000   50.66139   54.70888  50.40560   \n",
       "2004-08-23      0.00000      1.00000   55.55148   56.91569  54.69383   \n",
       "2004-08-24      0.00000      1.00000   55.79223   55.97278  51.94535   \n",
       "2004-08-25      0.00000      1.00000   52.54219   54.16721  52.10083   \n",
       "\n",
       "            Adj. Close      Adj. Volume  \n",
       "Date                                     \n",
       "2004-08-19    50.32284 44,659,000.00000  \n",
       "2004-08-20    54.32269 22,834,300.00000  \n",
       "2004-08-23    54.86938 18,256,100.00000  \n",
       "2004-08-24    52.59736 15,247,300.00000  \n",
       "2004-08-25    53.16411  9,188,600.00000  "
      ]
     },
     "execution_count": 12,
     "metadata": {},
     "output_type": "execute_result"
    }
   ],
   "source": [
    "df.head()"
   ]
  },
  {
   "cell_type": "code",
   "execution_count": 40,
   "metadata": {},
   "outputs": [],
   "source": [
    "df[\"return\"] = ((df.Close - df.Close.shift(1))/df.Close.shift(1))\n",
    "df = df.dropna(subset=[\"return\"])"
   ]
  },
  {
   "cell_type": "markdown",
   "metadata": {},
   "source": [
    "# Questions - Returns"
   ]
  },
  {
   "cell_type": "markdown",
   "metadata": {},
   "source": [
    "### Question - Average Return\n",
    "\n",
    "Calculate the average return of the time series"
   ]
  },
  {
   "cell_type": "code",
   "execution_count": 42,
   "metadata": {},
   "outputs": [
    {
     "data": {
      "text/plain": [
       "0.0009291202098925328"
      ]
     },
     "execution_count": 42,
     "metadata": {},
     "output_type": "execute_result"
    }
   ],
   "source": [
    "### Write Here\n",
    "df[\"return\"].mean()\n"
   ]
  },
  {
   "cell_type": "markdown",
   "metadata": {},
   "source": [
    "**Expected Output:**\n",
    "\n",
    "0.0009291"
   ]
  },
  {
   "cell_type": "markdown",
   "metadata": {},
   "source": [
    "\n",
    "### Question - Return Standard Deviation\n",
    "\n",
    "Calculate the average standard deviation of returns"
   ]
  },
  {
   "cell_type": "code",
   "execution_count": 43,
   "metadata": {},
   "outputs": [
    {
     "data": {
      "text/plain": [
       "0.021662943075354577"
      ]
     },
     "execution_count": 43,
     "metadata": {},
     "output_type": "execute_result"
    }
   ],
   "source": [
    "### Write Here\n",
    "df[\"return\"].std()\n",
    "\n"
   ]
  },
  {
   "cell_type": "markdown",
   "metadata": {},
   "source": [
    "**Expected Output:**\n",
    "\n",
    "0.02166294"
   ]
  },
  {
   "cell_type": "markdown",
   "metadata": {},
   "source": [
    "### Question - Period Return Daily Average\n",
    "\n",
    "Calculate the average daily return from 2004-08-25 to 2005-08-25"
   ]
  },
  {
   "cell_type": "code",
   "execution_count": 60,
   "metadata": {},
   "outputs": [
    {
     "data": {
      "text/plain": [
       "0.0042270656465554215"
      ]
     },
     "execution_count": 60,
     "metadata": {},
     "output_type": "execute_result"
    }
   ],
   "source": [
    "### Write Here\n",
    "df.loc[\"2004-08-25\":\"2005-08-25\"][\"return\"].mean()\n"
   ]
  },
  {
   "cell_type": "markdown",
   "metadata": {},
   "source": [
    "**Expected Output:**\n",
    "\n",
    "0.00422706"
   ]
  },
  {
   "cell_type": "markdown",
   "metadata": {},
   "source": [
    "### Question - Average Daily Return for All Months\n",
    "\n",
    "Calculate the daily average return for all months"
   ]
  },
  {
   "cell_type": "code",
   "execution_count": null,
   "metadata": {},
   "outputs": [],
   "source": [
    "### Write Here\n",
    "\n",
    "df[\"return\"].resample(\"M\").mean()"
   ]
  },
  {
   "cell_type": "raw",
   "metadata": {},
   "source": [
    "**Expected Output:**\n",
    "\n",
    "Date\n",
    "2004-08-31    0.00314\n",
    "2004-09-30    0.01153\n",
    "2004-10-31    0.01940\n",
    "2004-11-30   -0.00155\n",
    "2004-12-31    0.00280\n",
    "2005-01-31    0.00114\n",
    "..........."
   ]
  },
  {
   "cell_type": "markdown",
   "metadata": {},
   "source": [
    "# Questions - Risk Measures"
   ]
  },
  {
   "cell_type": "code",
   "execution_count": 66,
   "metadata": {},
   "outputs": [
    {
     "data": {
      "text/html": [
       "<div>\n",
       "<style scoped>\n",
       "    .dataframe tbody tr th:only-of-type {\n",
       "        vertical-align: middle;\n",
       "    }\n",
       "\n",
       "    .dataframe tbody tr th {\n",
       "        vertical-align: top;\n",
       "    }\n",
       "\n",
       "    .dataframe thead th {\n",
       "        text-align: right;\n",
       "    }\n",
       "</style>\n",
       "<table border=\"1\" class=\"dataframe\">\n",
       "  <thead>\n",
       "    <tr style=\"text-align: right;\">\n",
       "      <th></th>\n",
       "      <th>DoD (%)</th>\n",
       "      <th>FTSE 100 (%)</th>\n",
       "      <th>DoD - FTSE 100 (%)</th>\n",
       "      <th>PDoD</th>\n",
       "      <th>PFTSE 100</th>\n",
       "      <th>PPDoD</th>\n",
       "      <th>PPFTSE 100</th>\n",
       "      <th>Risk-Free Rate (%)</th>\n",
       "    </tr>\n",
       "    <tr>\n",
       "      <th>Dates</th>\n",
       "      <th></th>\n",
       "      <th></th>\n",
       "      <th></th>\n",
       "      <th></th>\n",
       "      <th></th>\n",
       "      <th></th>\n",
       "      <th></th>\n",
       "      <th></th>\n",
       "    </tr>\n",
       "  </thead>\n",
       "  <tbody>\n",
       "    <tr>\n",
       "      <th>2002-01-31</th>\n",
       "      <td>-0.32</td>\n",
       "      <td>-1.01</td>\n",
       "      <td>0.69</td>\n",
       "      <td>1.00</td>\n",
       "      <td>0.99</td>\n",
       "      <td>9,967.66</td>\n",
       "      <td>9,899.18</td>\n",
       "      <td>0.32</td>\n",
       "    </tr>\n",
       "    <tr>\n",
       "      <th>2002-02-28</th>\n",
       "      <td>-2.79</td>\n",
       "      <td>-1.24</td>\n",
       "      <td>-1.55</td>\n",
       "      <td>0.97</td>\n",
       "      <td>0.99</td>\n",
       "      <td>9,693.31</td>\n",
       "      <td>9,776.90</td>\n",
       "      <td>0.32</td>\n",
       "    </tr>\n",
       "    <tr>\n",
       "      <th>2002-03-31</th>\n",
       "      <td>6.22</td>\n",
       "      <td>2.91</td>\n",
       "      <td>3.31</td>\n",
       "      <td>1.06</td>\n",
       "      <td>1.03</td>\n",
       "      <td>10,315.07</td>\n",
       "      <td>10,065.17</td>\n",
       "      <td>0.32</td>\n",
       "    </tr>\n",
       "    <tr>\n",
       "      <th>2002-04-30</th>\n",
       "      <td>-0.32</td>\n",
       "      <td>-1.65</td>\n",
       "      <td>1.33</td>\n",
       "      <td>1.00</td>\n",
       "      <td>0.98</td>\n",
       "      <td>10,282.46</td>\n",
       "      <td>9,900.72</td>\n",
       "      <td>0.33</td>\n",
       "    </tr>\n",
       "    <tr>\n",
       "      <th>2002-05-31</th>\n",
       "      <td>1.32</td>\n",
       "      <td>-1.57</td>\n",
       "      <td>2.89</td>\n",
       "      <td>1.01</td>\n",
       "      <td>0.98</td>\n",
       "      <td>10,418.65</td>\n",
       "      <td>9,746.43</td>\n",
       "      <td>0.33</td>\n",
       "    </tr>\n",
       "  </tbody>\n",
       "</table>\n",
       "</div>"
      ],
      "text/plain": [
       "            DoD (%)  FTSE 100 (%)  DoD - FTSE 100 (%)  PDoD  PFTSE 100  \\\n",
       "Dates                                                                    \n",
       "2002-01-31    -0.32         -1.01                0.69  1.00       0.99   \n",
       "2002-02-28    -2.79         -1.24               -1.55  0.97       0.99   \n",
       "2002-03-31     6.22          2.91                3.31  1.06       1.03   \n",
       "2002-04-30    -0.32         -1.65                1.33  1.00       0.98   \n",
       "2002-05-31     1.32         -1.57                2.89  1.01       0.98   \n",
       "\n",
       "               PPDoD  PPFTSE 100  Risk-Free Rate (%)  \n",
       "Dates                                                 \n",
       "2002-01-31  9,967.66    9,899.18                0.32  \n",
       "2002-02-28  9,693.31    9,776.90                0.32  \n",
       "2002-03-31 10,315.07   10,065.17                0.32  \n",
       "2002-04-30 10,282.46    9,900.72                0.33  \n",
       "2002-05-31 10,418.65    9,746.43                0.33  "
      ]
     },
     "execution_count": 66,
     "metadata": {},
     "output_type": "execute_result"
    }
   ],
   "source": [
    "df.head()"
   ]
  },
  {
   "cell_type": "code",
   "execution_count": 67,
   "metadata": {},
   "outputs": [
    {
     "data": {
      "text/plain": [
       "180"
      ]
     },
     "execution_count": 67,
     "metadata": {},
     "output_type": "execute_result"
    }
   ],
   "source": [
    "len(df)"
   ]
  },
  {
   "cell_type": "code",
   "execution_count": 62,
   "metadata": {},
   "outputs": [],
   "source": [
    "### Not Too Bad - Excess Volarility Does Seem to Play in Effect\n",
    "\n",
    "d = df[\"return\"].mean()\n",
    "s = df[\"return\"].std(ddof = 1)\n",
    "n = np.sqrt(len((df[\"return\"])))"
   ]
  },
  {
   "cell_type": "markdown",
   "metadata": {},
   "source": [
    "### Question - Calculate the t-stat"
   ]
  },
  {
   "cell_type": "code",
   "execution_count": 66,
   "metadata": {},
   "outputs": [
    {
     "data": {
      "text/plain": [
       "2.397231417972479"
      ]
     },
     "execution_count": 66,
     "metadata": {},
     "output_type": "execute_result"
    }
   ],
   "source": [
    "### Write Here\n",
    "\n",
    "t = d/s*n\n",
    "t"
   ]
  },
  {
   "cell_type": "markdown",
   "metadata": {},
   "source": [
    "**Expected Output:**\n",
    "    \n",
    "2.39723"
   ]
  },
  {
   "cell_type": "markdown",
   "metadata": {},
   "source": [
    "### Question - Calculate Skewness and Kurtosis"
   ]
  },
  {
   "cell_type": "code",
   "execution_count": 69,
   "metadata": {},
   "outputs": [
    {
     "data": {
      "text/plain": [
       "-3.1229151882416484"
      ]
     },
     "execution_count": 69,
     "metadata": {},
     "output_type": "execute_result"
    }
   ],
   "source": [
    "### Write Here (Skewness)\n",
    "df[\"return\"].skew()"
   ]
  },
  {
   "cell_type": "markdown",
   "metadata": {},
   "source": [
    "**Expected Output:**\n",
    "    \n",
    "-3.122"
   ]
  },
  {
   "cell_type": "code",
   "execution_count": 115,
   "metadata": {},
   "outputs": [
    {
     "data": {
      "text/plain": [
       "96.20206382176652"
      ]
     },
     "execution_count": 115,
     "metadata": {},
     "output_type": "execute_result"
    }
   ],
   "source": [
    "###  Write Here (Kurtosis)\n",
    "df[\"return\"].kurtosis()"
   ]
  },
  {
   "cell_type": "markdown",
   "metadata": {},
   "source": [
    "**Expected Output:**\n",
    "    \n",
    "96.2"
   ]
  },
  {
   "cell_type": "markdown",
   "metadata": {},
   "source": [
    "### Questions - Dataframe"
   ]
  },
  {
   "cell_type": "code",
   "execution_count": 90,
   "metadata": {},
   "outputs": [
    {
     "data": {
      "text/html": [
       "<div>\n",
       "<style scoped>\n",
       "    .dataframe tbody tr th:only-of-type {\n",
       "        vertical-align: middle;\n",
       "    }\n",
       "\n",
       "    .dataframe tbody tr th {\n",
       "        vertical-align: top;\n",
       "    }\n",
       "\n",
       "    .dataframe thead th {\n",
       "        text-align: right;\n",
       "    }\n",
       "</style>\n",
       "<table border=\"1\" class=\"dataframe\">\n",
       "  <thead>\n",
       "    <tr style=\"text-align: right;\">\n",
       "      <th></th>\n",
       "      <th>Open</th>\n",
       "      <th>High</th>\n",
       "      <th>Low</th>\n",
       "      <th>Close</th>\n",
       "      <th>Volume</th>\n",
       "      <th>Ex-Dividend</th>\n",
       "      <th>Split Ratio</th>\n",
       "      <th>Adj. Open</th>\n",
       "      <th>Adj. High</th>\n",
       "      <th>Adj. Low</th>\n",
       "      <th>Adj. Close</th>\n",
       "      <th>Adj. Volume</th>\n",
       "      <th>return</th>\n",
       "    </tr>\n",
       "    <tr>\n",
       "      <th>Date</th>\n",
       "      <th></th>\n",
       "      <th></th>\n",
       "      <th></th>\n",
       "      <th></th>\n",
       "      <th></th>\n",
       "      <th></th>\n",
       "      <th></th>\n",
       "      <th></th>\n",
       "      <th></th>\n",
       "      <th></th>\n",
       "      <th></th>\n",
       "      <th></th>\n",
       "      <th></th>\n",
       "    </tr>\n",
       "  </thead>\n",
       "  <tbody>\n",
       "    <tr>\n",
       "      <th>2004-08-20</th>\n",
       "      <td>101.01000</td>\n",
       "      <td>109.08000</td>\n",
       "      <td>100.50000</td>\n",
       "      <td>108.31000</td>\n",
       "      <td>22,834,300.00000</td>\n",
       "      <td>0.00000</td>\n",
       "      <td>1.00000</td>\n",
       "      <td>50.66139</td>\n",
       "      <td>54.70888</td>\n",
       "      <td>50.40560</td>\n",
       "      <td>54.32269</td>\n",
       "      <td>22,834,300.00000</td>\n",
       "      <td>0.07948</td>\n",
       "    </tr>\n",
       "    <tr>\n",
       "      <th>2004-08-23</th>\n",
       "      <td>110.76000</td>\n",
       "      <td>113.48000</td>\n",
       "      <td>109.05000</td>\n",
       "      <td>109.40000</td>\n",
       "      <td>18,256,100.00000</td>\n",
       "      <td>0.00000</td>\n",
       "      <td>1.00000</td>\n",
       "      <td>55.55148</td>\n",
       "      <td>56.91569</td>\n",
       "      <td>54.69383</td>\n",
       "      <td>54.86938</td>\n",
       "      <td>18,256,100.00000</td>\n",
       "      <td>0.01006</td>\n",
       "    </tr>\n",
       "    <tr>\n",
       "      <th>2004-08-24</th>\n",
       "      <td>111.24000</td>\n",
       "      <td>111.60000</td>\n",
       "      <td>103.57000</td>\n",
       "      <td>104.87000</td>\n",
       "      <td>15,247,300.00000</td>\n",
       "      <td>0.00000</td>\n",
       "      <td>1.00000</td>\n",
       "      <td>55.79223</td>\n",
       "      <td>55.97278</td>\n",
       "      <td>51.94535</td>\n",
       "      <td>52.59736</td>\n",
       "      <td>15,247,300.00000</td>\n",
       "      <td>-0.04141</td>\n",
       "    </tr>\n",
       "    <tr>\n",
       "      <th>2004-08-25</th>\n",
       "      <td>104.76000</td>\n",
       "      <td>108.00000</td>\n",
       "      <td>103.88000</td>\n",
       "      <td>106.00000</td>\n",
       "      <td>9,188,600.00000</td>\n",
       "      <td>0.00000</td>\n",
       "      <td>1.00000</td>\n",
       "      <td>52.54219</td>\n",
       "      <td>54.16721</td>\n",
       "      <td>52.10083</td>\n",
       "      <td>53.16411</td>\n",
       "      <td>9,188,600.00000</td>\n",
       "      <td>0.01078</td>\n",
       "    </tr>\n",
       "    <tr>\n",
       "      <th>2004-08-26</th>\n",
       "      <td>104.95000</td>\n",
       "      <td>107.95000</td>\n",
       "      <td>104.66000</td>\n",
       "      <td>107.91000</td>\n",
       "      <td>7,094,800.00000</td>\n",
       "      <td>0.00000</td>\n",
       "      <td>1.00000</td>\n",
       "      <td>52.63749</td>\n",
       "      <td>54.14213</td>\n",
       "      <td>52.49204</td>\n",
       "      <td>54.12207</td>\n",
       "      <td>7,094,800.00000</td>\n",
       "      <td>0.01802</td>\n",
       "    </tr>\n",
       "  </tbody>\n",
       "</table>\n",
       "</div>"
      ],
      "text/plain": [
       "                Open      High       Low     Close           Volume  \\\n",
       "Date                                                                  \n",
       "2004-08-20 101.01000 109.08000 100.50000 108.31000 22,834,300.00000   \n",
       "2004-08-23 110.76000 113.48000 109.05000 109.40000 18,256,100.00000   \n",
       "2004-08-24 111.24000 111.60000 103.57000 104.87000 15,247,300.00000   \n",
       "2004-08-25 104.76000 108.00000 103.88000 106.00000  9,188,600.00000   \n",
       "2004-08-26 104.95000 107.95000 104.66000 107.91000  7,094,800.00000   \n",
       "\n",
       "            Ex-Dividend  Split Ratio  Adj. Open  Adj. High  Adj. Low  \\\n",
       "Date                                                                   \n",
       "2004-08-20      0.00000      1.00000   50.66139   54.70888  50.40560   \n",
       "2004-08-23      0.00000      1.00000   55.55148   56.91569  54.69383   \n",
       "2004-08-24      0.00000      1.00000   55.79223   55.97278  51.94535   \n",
       "2004-08-25      0.00000      1.00000   52.54219   54.16721  52.10083   \n",
       "2004-08-26      0.00000      1.00000   52.63749   54.14213  52.49204   \n",
       "\n",
       "            Adj. Close      Adj. Volume   return  \n",
       "Date                                              \n",
       "2004-08-20    54.32269 22,834,300.00000  0.07948  \n",
       "2004-08-23    54.86938 18,256,100.00000  0.01006  \n",
       "2004-08-24    52.59736 15,247,300.00000 -0.04141  \n",
       "2004-08-25    53.16411  9,188,600.00000  0.01078  \n",
       "2004-08-26    54.12207  7,094,800.00000  0.01802  "
      ]
     },
     "execution_count": 90,
     "metadata": {},
     "output_type": "execute_result"
    }
   ],
   "source": [
    "df.head()"
   ]
  },
  {
   "cell_type": "markdown",
   "metadata": {},
   "source": [
    "### Question - Open Lower than Close"
   ]
  },
  {
   "cell_type": "markdown",
   "metadata": {},
   "source": [
    "Count the number of days where the opening price is lower than the close price."
   ]
  },
  {
   "cell_type": "code",
   "execution_count": 92,
   "metadata": {},
   "outputs": [
    {
     "data": {
      "text/plain": [
       "1524"
      ]
     },
     "execution_count": 92,
     "metadata": {},
     "output_type": "execute_result"
    }
   ],
   "source": [
    "### Write Here\n",
    "\n",
    "len(df[df[\"Open\"]<df[\"Close\"]])"
   ]
  },
  {
   "cell_type": "markdown",
   "metadata": {},
   "source": [
    "**Expected Output:**\n",
    "    \n",
    "1524"
   ]
  },
  {
   "cell_type": "markdown",
   "metadata": {},
   "source": [
    "### Question - Top 5 Volume"
   ]
  },
  {
   "cell_type": "markdown",
   "metadata": {},
   "source": [
    "Find the five days with the highest volume trading"
   ]
  },
  {
   "cell_type": "code",
   "execution_count": 96,
   "metadata": {},
   "outputs": [
    {
     "data": {
      "text/plain": [
       "DatetimeIndex(['2006-01-20', '2006-02-28', '2005-02-14', '2004-10-22',\n",
       "               '2006-03-31'],\n",
       "              dtype='datetime64[ns]', name='Date', freq=None)"
      ]
     },
     "execution_count": 96,
     "metadata": {},
     "output_type": "execute_result"
    }
   ],
   "source": [
    "### Write Here\n",
    "\n",
    "df[\"Volume\"].sort_values(ascending=False).head().index"
   ]
  },
  {
   "cell_type": "markdown",
   "metadata": {},
   "source": [
    "**Expected Output:**\n",
    "    \n",
    "DatetimeIndex(['2006-01-20', '2006-02-28', '2005-02-14', '2004-10-22',\n",
    "               '2006-03-31'],\n",
    "              dtype='datetime64[ns]', name='Date', freq=None)"
   ]
  },
  {
   "cell_type": "markdown",
   "metadata": {},
   "source": [
    "### Question - High Returns"
   ]
  },
  {
   "cell_type": "markdown",
   "metadata": {},
   "source": [
    "Count the proportion number of days where the returns are more than 2%"
   ]
  },
  {
   "cell_type": "code",
   "execution_count": 105,
   "metadata": {},
   "outputs": [
    {
     "data": {
      "text/plain": [
       "337"
      ]
     },
     "execution_count": 105,
     "metadata": {},
     "output_type": "execute_result"
    }
   ],
   "source": [
    "### Write Here\n",
    "\n",
    "len(df[df[\"return\"]>0.02])"
   ]
  },
  {
   "cell_type": "markdown",
   "metadata": {},
   "source": [
    "**Expected Output:**\n",
    "    \n",
    "337"
   ]
  },
  {
   "cell_type": "markdown",
   "metadata": {},
   "source": [
    "### Question - Calculate Average returns for Mondays and Fridays"
   ]
  },
  {
   "cell_type": "markdown",
   "metadata": {},
   "source": [
    "Separately Calculate Returns for Mondays and Fridays"
   ]
  },
  {
   "cell_type": "code",
   "execution_count": 109,
   "metadata": {},
   "outputs": [],
   "source": [
    "df[\"date\"] = df.index.values"
   ]
  },
  {
   "cell_type": "code",
   "execution_count": 113,
   "metadata": {},
   "outputs": [
    {
     "data": {
      "text/plain": [
       "0.00045777019229038514"
      ]
     },
     "execution_count": 113,
     "metadata": {},
     "output_type": "execute_result"
    }
   ],
   "source": [
    "###  Write Here (Mondays)\n",
    "\n",
    "df[\"dow\"] = df[\"date\"].dt.day_name()\n",
    "\n",
    "df[df[\"dow\"]==\"Monday\"][\"return\"].mean()"
   ]
  },
  {
   "cell_type": "markdown",
   "metadata": {},
   "source": [
    "**Expected Output:**\n",
    "    \n",
    "0.000457"
   ]
  },
  {
   "cell_type": "code",
   "execution_count": 116,
   "metadata": {},
   "outputs": [
    {
     "data": {
      "text/plain": [
       "0.001232131353859411"
      ]
     },
     "execution_count": 116,
     "metadata": {},
     "output_type": "execute_result"
    }
   ],
   "source": [
    "###  Write Here (Fridays)\n",
    "\n",
    "df[df[\"dow\"]==\"Friday\"][\"return\"].mean()"
   ]
  },
  {
   "cell_type": "markdown",
   "metadata": {},
   "source": [
    "**Expected Output:**\n",
    "    \n",
    "0.00123"
   ]
  },
  {
   "cell_type": "markdown",
   "metadata": {},
   "source": [
    "### Question - Correlation"
   ]
  },
  {
   "cell_type": "markdown",
   "metadata": {},
   "source": [
    "Identify the correlation between the opening and closing price"
   ]
  },
  {
   "cell_type": "code",
   "execution_count": 117,
   "metadata": {},
   "outputs": [
    {
     "data": {
      "text/plain": [
       "0.9992758711729253"
      ]
     },
     "execution_count": 117,
     "metadata": {},
     "output_type": "execute_result"
    }
   ],
   "source": [
    "### Write Here\n",
    "\n",
    "df[\"Open\"].corr(df[\"Close\"])"
   ]
  },
  {
   "cell_type": "markdown",
   "metadata": {},
   "source": [
    "**Expected Output:**\n",
    "    \n",
    "0.9992758711729253"
   ]
  }
 ],
 "metadata": {
  "anaconda-cloud": {},
  "kernelspec": {
   "display_name": "py36",
   "language": "python",
   "name": "py36"
  },
  "language_info": {
   "codemirror_mode": {
    "name": "ipython",
    "version": 3
   },
   "file_extension": ".py",
   "mimetype": "text/x-python",
   "name": "python",
   "nbconvert_exporter": "python",
   "pygments_lexer": "ipython3",
   "version": "3.6.3"
  },
  "toc": {
   "colors": {
    "hover_highlight": "#DAA520",
    "navigate_num": "#000000",
    "navigate_text": "#333333",
    "running_highlight": "#FF0000",
    "selected_highlight": "#FFD700",
    "sidebar_border": "#EEEEEE",
    "wrapper_background": "#FFFFFF"
   },
   "moveMenuLeft": true,
   "nav_menu": {
    "height": "504px",
    "width": "254px"
   },
   "navigate_menu": true,
   "number_sections": true,
   "sideBar": true,
   "threshold": 4,
   "toc_cell": true,
   "toc_section_display": "block",
   "toc_window_display": true,
   "widenNotebook": false
  }
 },
 "nbformat": 4,
 "nbformat_minor": 2
}
