{
 "cells": [
  {
   "cell_type": "markdown",
   "metadata": {},
   "source": [
    "**Chapter 2 – End-to-end Machine Learning project**\n",
    "\n",
    "Welcome to Airbnb Analysis Corp.! Your task is to set the competitive **daily accomodation rate** for a client's house in Bondi Beach. The owner currently charges $500. We have been tasked to estimate a **fair value** that the owner should be charging. The house has the following characteristics and constraints. While developing this model you came to realise that Airbnb can use your model to estimate the fair value of any property on their database, your are effectively creating a recommendation model for all prospective hosts!\n",
    "\n",
    "\n",
    "1. The owner has been a host since **August 2010**\n",
    "1. The location is **lon:151.274506, lat:33.889087**\n",
    "1. The current review score rating **95.0**\n",
    "1. Number of reviews **53**\n",
    "1. Minimum nights **4**\n",
    "1. The house can accomodate **10** people.\n",
    "1. The owner currently charges a cleaning fee of **370**\n",
    "1. The house has **3 bathrooms, 5 bedrooms, 7 beds**.\n",
    "1. The house is available for **255 of the next 365 days**\n",
    "1. The client is **verified**, and they are a **superhost**.\n",
    "1. The cancelation policy is **strict with a 14 days grace period**.\n",
    "1. The host requires a security deposit of **$1,500**\n",
    "\n",
    "\n",
    "*All values strictly apply to the month of July 2018*"
   ]
  },
  {
   "cell_type": "code",
   "execution_count": 1,
   "metadata": {},
   "outputs": [],
   "source": [
    "from dateutil import parser\n",
    "dict_client = {}\n",
    "\n",
    "dict_client[\"city\"] = \"Bondi Beach\"\n",
    "dict_client[\"longitude\"] = 151.274506\n",
    "dict_client[\"latitude\"] = -33.889087\n",
    "dict_client[\"review_scores_rating\"] = 95\n",
    "dict_client[\"number_of_reviews\"] = 53\n",
    "dict_client[\"minimum_nights\"] = 4\n",
    "dict_client[\"accommodates\"] = 10\n",
    "dict_client[\"bathrooms\"] = 3\n",
    "dict_client[\"bedrooms\"] = 5\n",
    "dict_client[\"beds\"] = 7\n",
    "dict_client[\"security_deposit\"] = 1500\n",
    "dict_client[\"cleaning_fee\"] = 370\n",
    "dict_client[\"property_type\"] = \"House\"\n",
    "dict_client[\"room_type\"] = \"Entire home/apt\"\n",
    "dict_client[\"availability_365\"] = 255\n",
    "dict_client[\"host_identity_verified\"] = 1  ## 1 for yes, 0 for no\n",
    "dict_client[\"host_is_superhost\"] = 1\n",
    "dict_client[\"cancellation_policy\"] = \"strict_14_with_grace_period\"\n",
    "dict_client[\"host_since\"] = parser.parse(\"01-08-2010\")\n",
    "\n"
   ]
  },
  {
   "cell_type": "markdown",
   "metadata": {},
   "source": [
    "# Setup"
   ]
  },
  {
   "cell_type": "markdown",
   "metadata": {},
   "source": [
    "First, let's make sure this notebook works well in both python 2 and 3, import a few common modules, ensure MatplotLib plots figures inline and prepare a function to save the figures:"
   ]
  },
  {
   "cell_type": "code",
   "execution_count": 4,
   "metadata": {},
   "outputs": [],
   "source": [
    "# To support both python 2 and python 3\n",
    "from __future__ import division, print_function, unicode_literals\n",
    "# Common imports\n",
    "import numpy as np\n",
    "import os\n",
    "import pandas as pd\n",
    "\n",
    "# to make this notebook's output stable across runs\n",
    "np.random.seed(42)\n",
    "\n",
    "# To plot pretty figures\n",
    "%matplotlib inline\n",
    "import matplotlib\n",
    "import matplotlib.pyplot as plt\n",
    "plt.rcParams['axes.labelsize'] = 14\n",
    "plt.rcParams['xtick.labelsize'] = 12\n",
    "plt.rcParams['ytick.labelsize'] = 12\n",
    "\n",
    "# Where to save the figures\n",
    "PROJECT_ROOT_DIR = \".\"\n",
    "CHAPTER_ID = \"end_to_end_project\"\n",
    "IMAGES_PATH = os.path.join(PROJECT_ROOT_DIR, \"images\", CHAPTER_ID)\n",
    "\n",
    "def save_fig(fig_id, tight_layout=True, fig_extension=\"png\", resolution=300):\n",
    "    path = os.path.join(IMAGES_PATH, fig_id + \".\" + fig_extension)\n",
    "    print(\"Saving figure\", fig_id)\n",
    "    if tight_layout:\n",
    "        plt.tight_layout()\n",
    "    plt.savefig(path, format=fig_extension, dpi=resolution)\n",
    "\n",
    "# Ignore useless warnings (see SciPy issue #5998)\n",
    "import warnings\n",
    "warnings.filterwarnings(action=\"ignore\", message=\"^internal gelsd\")\n",
    "pd.options.display.max_columns = None"
   ]
  },
  {
   "cell_type": "markdown",
   "metadata": {},
   "source": [
    "# Get the data"
   ]
  },
  {
   "cell_type": "code",
   "execution_count": 7,
   "metadata": {},
   "outputs": [
    {
     "name": "stdout",
     "output_type": "stream",
     "text": [
      "Be patient: loading from github\n",
      "Done\n"
     ]
    },
    {
     "name": "stderr",
     "output_type": "stream",
     "text": [
      "/Users/dereksnow/anaconda/envs/py36/lib/python3.6/site-packages/IPython/core/interactiveshell.py:2728: DtypeWarning: Columns (36,54,55) have mixed types. Specify dtype option on import or set low_memory=False.\n",
      "  interactivity=interactivity, compiler=compiler, result=result)\n"
     ]
    }
   ],
   "source": [
    "## This is simply a bit of importing logic that you don't have ..\n",
    "## .. to concern yourself with for now. \n",
    "\n",
    "from pathlib import Path\n",
    "\n",
    "github_p = \"https://raw.githubusercontent.com/Finance-781/FinML/master/Lecture%202%20-%20End-to-End%20ML%20Project%20/Practice/\"\n",
    "\n",
    "my_file = Path(\"datasets/sydney_airbnb.csv\") # Defines path\n",
    "if my_file.is_file():              # See if file exists\n",
    "    print(\"Local file found\")      \n",
    "    df = pd.read_csv('datasets/sydney_airbnb.csv')\n",
    "else:\n",
    "    print(\"Be patient: loading from github (2 minutes)\")\n",
    "    df = pd.read_csv(github_p+'datasets/sydney_airbnb.csv')\n",
    "    print(\"Done\")"
   ]
  },
  {
   "cell_type": "code",
   "execution_count": 8,
   "metadata": {},
   "outputs": [],
   "source": [
    "### To make this project easier, I will select only a small number of features"
   ]
  },
  {
   "cell_type": "code",
   "execution_count": 9,
   "metadata": {},
   "outputs": [],
   "source": [
    "incl = [\"price\",\"city\",\"longitude\",\"latitude\",\"review_scores_rating\",\"number_of_reviews\",\"minimum_nights\",\"security_deposit\",\"cleaning_fee\",\"accommodates\",\"bathrooms\",\"bedrooms\",\"beds\",\"property_type\",\"room_type\",\"availability_365\" ,\"host_identity_verified\", \"host_is_superhost\",\"host_since\",\"cancellation_policy\"] "
   ]
  },
  {
   "cell_type": "code",
   "execution_count": 10,
   "metadata": {},
   "outputs": [],
   "source": [
    "df = df[incl]"
   ]
  },
  {
   "cell_type": "markdown",
   "metadata": {},
   "source": [
    "Lets reformat the price to floats, it is currently a string (object). And lets makes sure the date is in a datetime format."
   ]
  },
  {
   "cell_type": "code",
   "execution_count": 11,
   "metadata": {},
   "outputs": [],
   "source": [
    "import re\n",
    "price_list = [\"price\",\"cleaning_fee\",\"security_deposit\"]\n",
    "\n",
    "for col in price_list:\n",
    "    df[col] = df[col].fillna(\"0\")\n",
    "    df[col] = df[col].apply(lambda x: float(re.compile('[^0-9eE.]').sub('', x)) if len(x)>0 else 0)\n",
    "\n",
    "df['host_since'] = pd.to_datetime(df['host_since'])"
   ]
  },
  {
   "cell_type": "code",
   "execution_count": 12,
   "metadata": {},
   "outputs": [
    {
     "data": {
      "text/plain": [
       "0     65.0\n",
       "1     98.0\n",
       "2    469.0\n",
       "3     63.0\n",
       "4     39.0\n",
       "Name: price, dtype: float64"
      ]
     },
     "execution_count": 12,
     "metadata": {},
     "output_type": "execute_result"
    }
   ],
   "source": [
    "df[\"price\"].head()"
   ]
  },
  {
   "cell_type": "code",
   "execution_count": 13,
   "metadata": {},
   "outputs": [
    {
     "data": {
      "text/plain": [
       "<matplotlib.axes._subplots.AxesSubplot at 0x11239c9e8>"
      ]
     },
     "execution_count": 13,
     "metadata": {},
     "output_type": "execute_result"
    },
    {
     "data": {
      "image/png": "[encoded data removed]",
      "text/plain": [
       "<matplotlib.figure.Figure at 0x12450c588>"
      ]
     },
     "metadata": {},
     "output_type": "display_data"
    }
   ],
   "source": [
    "## Winsorize for high price values, outliers.\n",
    "\n",
    "df.boxplot(column=\"price\")"
   ]
  },
  {
   "cell_type": "code",
   "execution_count": 14,
   "metadata": {},
   "outputs": [
    {
     "data": {
      "text/plain": [
       "13.808558337216192"
      ]
     },
     "execution_count": 14,
     "metadata": {},
     "output_type": "execute_result"
    }
   ],
   "source": [
    "## this is high, because we have a price we expect it to be high.\n",
    "## however, it shouldn't be much above 3. \n",
    "df[\"price\"].skew()"
   ]
  },
  {
   "cell_type": "code",
   "execution_count": 15,
   "metadata": {},
   "outputs": [
    {
     "data": {
      "text/plain": [
       "1600.0"
      ]
     },
     "execution_count": 15,
     "metadata": {},
     "output_type": "execute_result"
    }
   ],
   "source": [
    "## This value is still relatively high\n",
    "df[\"price\"].quantile(0.995) ## @99.5% "
   ]
  },
  {
   "cell_type": "code",
   "execution_count": 16,
   "metadata": {},
   "outputs": [],
   "source": [
    "df = df[df[\"price\"]<df[\"price\"].quantile(0.995)].reset_index(drop=True)"
   ]
  },
  {
   "cell_type": "code",
   "execution_count": 17,
   "metadata": {},
   "outputs": [
    {
     "data": {
      "text/plain": [
       "2.957872457159033"
      ]
     },
     "execution_count": 17,
     "metadata": {},
     "output_type": "execute_result"
    }
   ],
   "source": [
    "## This would do for now, it might also be worth transforming ..\n",
    "## .. the price with a log function at a later stage\n",
    "df[\"price\"].skew()"
   ]
  },
  {
   "cell_type": "code",
   "execution_count": 18,
   "metadata": {},
   "outputs": [
    {
     "data": {
      "text/plain": [
       "price                        0\n",
       "city                        32\n",
       "longitude                    0\n",
       "latitude                     0\n",
       "review_scores_rating      7466\n",
       "number_of_reviews            0\n",
       "minimum_nights               0\n",
       "security_deposit             0\n",
       "cleaning_fee                 0\n",
       "accommodates                 0\n",
       "bathrooms                   22\n",
       "bedrooms                     8\n",
       "beds                        33\n",
       "property_type                0\n",
       "room_type                    0\n",
       "availability_365             0\n",
       "host_identity_verified      34\n",
       "host_is_superhost           34\n",
       "host_since                  34\n",
       "cancellation_policy          0\n",
       "dtype: int64"
      ]
     },
     "execution_count": 18,
     "metadata": {},
     "output_type": "execute_result"
    }
   ],
   "source": [
    "df.isnull().sum()"
   ]
  },
  {
   "cell_type": "code",
   "execution_count": 19,
   "metadata": {},
   "outputs": [
    {
     "name": "stdout",
     "output_type": "stream",
     "text": [
      "<class 'pandas.core.frame.DataFrame'>\n",
      "RangeIndex: 26931 entries, 0 to 26930\n",
      "Data columns (total 20 columns):\n",
      "price                     26931 non-null float64\n",
      "city                      26899 non-null object\n",
      "longitude                 26931 non-null float64\n",
      "latitude                  26931 non-null float64\n",
      "review_scores_rating      19465 non-null float64\n",
      "number_of_reviews         26931 non-null int64\n",
      "minimum_nights            26931 non-null int64\n",
      "security_deposit          26931 non-null float64\n",
      "cleaning_fee              26931 non-null float64\n",
      "accommodates              26931 non-null int64\n",
      "bathrooms                 26909 non-null float64\n",
      "bedrooms                  26923 non-null float64\n",
      "beds                      26898 non-null float64\n",
      "property_type             26931 non-null object\n",
      "room_type                 26931 non-null object\n",
      "availability_365          26931 non-null int64\n",
      "host_identity_verified    26897 non-null object\n",
      "host_is_superhost         26897 non-null object\n",
      "host_since                26897 non-null datetime64[ns]\n",
      "cancellation_policy       26931 non-null object\n",
      "dtypes: datetime64[ns](1), float64(9), int64(4), object(6)\n",
      "memory usage: 4.1+ MB\n"
     ]
    }
   ],
   "source": [
    "df.info()"
   ]
  },
  {
   "cell_type": "code",
   "execution_count": 20,
   "metadata": {},
   "outputs": [
    {
     "data": {
      "text/plain": [
       "strict_14_with_grace_period    11585\n",
       "flexible                        8538\n",
       "moderate                        6776\n",
       "super_strict_60                   31\n",
       "super_strict_30                    1\n",
       "Name: cancellation_policy, dtype: int64"
      ]
     },
     "execution_count": 20,
     "metadata": {},
     "output_type": "execute_result"
    }
   ],
   "source": [
    "df[\"cancellation_policy\"].value_counts()"
   ]
  },
  {
   "cell_type": "code",
   "execution_count": 21,
   "metadata": {},
   "outputs": [
    {
     "data": {
      "text/html": [
       "<div>\n",
       "<style scoped>\n",
       "    .dataframe tbody tr th:only-of-type {\n",
       "        vertical-align: middle;\n",
       "    }\n",
       "\n",
       "    .dataframe tbody tr th {\n",
       "        vertical-align: top;\n",
       "    }\n",
       "\n",
       "    .dataframe thead th {\n",
       "        text-align: right;\n",
       "    }\n",
       "</style>\n",
       "<table border=\"1\" class=\"dataframe\">\n",
       "  <thead>\n",
       "    <tr style=\"text-align: right;\">\n",
       "      <th></th>\n",
       "      <th>price</th>\n",
       "      <th>longitude</th>\n",
       "      <th>latitude</th>\n",
       "      <th>review_scores_rating</th>\n",
       "      <th>number_of_reviews</th>\n",
       "      <th>minimum_nights</th>\n",
       "      <th>security_deposit</th>\n",
       "      <th>cleaning_fee</th>\n",
       "      <th>accommodates</th>\n",
       "      <th>bathrooms</th>\n",
       "      <th>bedrooms</th>\n",
       "      <th>beds</th>\n",
       "      <th>availability_365</th>\n",
       "    </tr>\n",
       "  </thead>\n",
       "  <tbody>\n",
       "    <tr>\n",
       "      <th>count</th>\n",
       "      <td>26931.000000</td>\n",
       "      <td>26931.000000</td>\n",
       "      <td>26931.000000</td>\n",
       "      <td>19465.000000</td>\n",
       "      <td>26931.000000</td>\n",
       "      <td>26931.000000</td>\n",
       "      <td>26931.000000</td>\n",
       "      <td>26931.000000</td>\n",
       "      <td>26931.000000</td>\n",
       "      <td>26909.000000</td>\n",
       "      <td>26923.000000</td>\n",
       "      <td>26898.000000</td>\n",
       "      <td>26931.000000</td>\n",
       "    </tr>\n",
       "    <tr>\n",
       "      <th>mean</th>\n",
       "      <td>196.065464</td>\n",
       "      <td>151.210438</td>\n",
       "      <td>-33.862675</td>\n",
       "      <td>93.404932</td>\n",
       "      <td>14.070031</td>\n",
       "      <td>4.482010</td>\n",
       "      <td>293.870261</td>\n",
       "      <td>65.268687</td>\n",
       "      <td>3.357395</td>\n",
       "      <td>1.340964</td>\n",
       "      <td>1.600787</td>\n",
       "      <td>1.996542</td>\n",
       "      <td>101.575916</td>\n",
       "    </tr>\n",
       "    <tr>\n",
       "      <th>std</th>\n",
       "      <td>199.813830</td>\n",
       "      <td>0.079425</td>\n",
       "      <td>0.071861</td>\n",
       "      <td>9.358515</td>\n",
       "      <td>29.870227</td>\n",
       "      <td>14.421896</td>\n",
       "      <td>549.642202</td>\n",
       "      <td>84.886663</td>\n",
       "      <td>2.160004</td>\n",
       "      <td>0.638187</td>\n",
       "      <td>1.091213</td>\n",
       "      <td>1.506535</td>\n",
       "      <td>127.822623</td>\n",
       "    </tr>\n",
       "    <tr>\n",
       "      <th>min</th>\n",
       "      <td>0.000000</td>\n",
       "      <td>150.644964</td>\n",
       "      <td>-34.135212</td>\n",
       "      <td>20.000000</td>\n",
       "      <td>0.000000</td>\n",
       "      <td>1.000000</td>\n",
       "      <td>0.000000</td>\n",
       "      <td>0.000000</td>\n",
       "      <td>1.000000</td>\n",
       "      <td>0.000000</td>\n",
       "      <td>0.000000</td>\n",
       "      <td>0.000000</td>\n",
       "      <td>0.000000</td>\n",
       "    </tr>\n",
       "    <tr>\n",
       "      <th>25%</th>\n",
       "      <td>80.000000</td>\n",
       "      <td>151.184336</td>\n",
       "      <td>-33.897653</td>\n",
       "      <td>90.000000</td>\n",
       "      <td>1.000000</td>\n",
       "      <td>1.000000</td>\n",
       "      <td>0.000000</td>\n",
       "      <td>0.000000</td>\n",
       "      <td>2.000000</td>\n",
       "      <td>1.000000</td>\n",
       "      <td>1.000000</td>\n",
       "      <td>1.000000</td>\n",
       "      <td>0.000000</td>\n",
       "    </tr>\n",
       "    <tr>\n",
       "      <th>50%</th>\n",
       "      <td>132.000000</td>\n",
       "      <td>151.223029</td>\n",
       "      <td>-33.883161</td>\n",
       "      <td>96.000000</td>\n",
       "      <td>3.000000</td>\n",
       "      <td>2.000000</td>\n",
       "      <td>0.000000</td>\n",
       "      <td>40.000000</td>\n",
       "      <td>2.000000</td>\n",
       "      <td>1.000000</td>\n",
       "      <td>1.000000</td>\n",
       "      <td>1.000000</td>\n",
       "      <td>32.000000</td>\n",
       "    </tr>\n",
       "    <tr>\n",
       "      <th>75%</th>\n",
       "      <td>225.000000</td>\n",
       "      <td>151.264706</td>\n",
       "      <td>-33.832189</td>\n",
       "      <td>100.000000</td>\n",
       "      <td>13.000000</td>\n",
       "      <td>5.000000</td>\n",
       "      <td>400.000000</td>\n",
       "      <td>99.000000</td>\n",
       "      <td>4.000000</td>\n",
       "      <td>1.500000</td>\n",
       "      <td>2.000000</td>\n",
       "      <td>2.000000</td>\n",
       "      <td>179.000000</td>\n",
       "    </tr>\n",
       "    <tr>\n",
       "      <th>max</th>\n",
       "      <td>1599.000000</td>\n",
       "      <td>151.339811</td>\n",
       "      <td>-33.389728</td>\n",
       "      <td>100.000000</td>\n",
       "      <td>468.000000</td>\n",
       "      <td>1000.000000</td>\n",
       "      <td>7000.000000</td>\n",
       "      <td>999.000000</td>\n",
       "      <td>16.000000</td>\n",
       "      <td>10.000000</td>\n",
       "      <td>46.000000</td>\n",
       "      <td>29.000000</td>\n",
       "      <td>365.000000</td>\n",
       "    </tr>\n",
       "  </tbody>\n",
       "</table>\n",
       "</div>"
      ],
      "text/plain": [
       "              price     longitude      latitude  review_scores_rating  \\\n",
       "count  26931.000000  26931.000000  26931.000000          19465.000000   \n",
       "mean     196.065464    151.210438    -33.862675             93.404932   \n",
       "std      199.813830      0.079425      0.071861              9.358515   \n",
       "min        0.000000    150.644964    -34.135212             20.000000   \n",
       "25%       80.000000    151.184336    -33.897653             90.000000   \n",
       "50%      132.000000    151.223029    -33.883161             96.000000   \n",
       "75%      225.000000    151.264706    -33.832189            100.000000   \n",
       "max     1599.000000    151.339811    -33.389728            100.000000   \n",
       "\n",
       "       number_of_reviews  minimum_nights  security_deposit  cleaning_fee  \\\n",
       "count       26931.000000    26931.000000      26931.000000  26931.000000   \n",
       "mean           14.070031        4.482010        293.870261     65.268687   \n",
       "std            29.870227       14.421896        549.642202     84.886663   \n",
       "min             0.000000        1.000000          0.000000      0.000000   \n",
       "25%             1.000000        1.000000          0.000000      0.000000   \n",
       "50%             3.000000        2.000000          0.000000     40.000000   \n",
       "75%            13.000000        5.000000        400.000000     99.000000   \n",
       "max           468.000000     1000.000000       7000.000000    999.000000   \n",
       "\n",
       "       accommodates     bathrooms      bedrooms          beds  \\\n",
       "count  26931.000000  26909.000000  26923.000000  26898.000000   \n",
       "mean       3.357395      1.340964      1.600787      1.996542   \n",
       "std        2.160004      0.638187      1.091213      1.506535   \n",
       "min        1.000000      0.000000      0.000000      0.000000   \n",
       "25%        2.000000      1.000000      1.000000      1.000000   \n",
       "50%        2.000000      1.000000      1.000000      1.000000   \n",
       "75%        4.000000      1.500000      2.000000      2.000000   \n",
       "max       16.000000     10.000000     46.000000     29.000000   \n",
       "\n",
       "       availability_365  \n",
       "count      26931.000000  \n",
       "mean         101.575916  \n",
       "std          127.822623  \n",
       "min            0.000000  \n",
       "25%            0.000000  \n",
       "50%           32.000000  \n",
       "75%          179.000000  \n",
       "max          365.000000  "
      ]
     },
     "execution_count": 21,
     "metadata": {},
     "output_type": "execute_result"
    }
   ],
   "source": [
    "df.describe()"
   ]
  },
  {
   "cell_type": "code",
   "execution_count": 22,
   "metadata": {},
   "outputs": [
    {
     "name": "stdout",
     "output_type": "stream",
     "text": [
      "Saving figure attribute_histogram_plots\n"
     ]
    },
    {
     "data": {
      "image/png": "[encoded data removed]",
      "text/plain": [
       "<matplotlib.figure.Figure at 0x1158984a8>"
      ]
     },
     "metadata": {},
     "output_type": "display_data"
    }
   ],
   "source": [
    "%matplotlib inline\n",
    "import matplotlib.pyplot as plt\n",
    "\n",
    "try:\n",
    "    df.iloc[:,6:].hist(bins=50, figsize=(20,15))\n",
    "    save_fig(\"attribute_histogram_plots\")\n",
    "    plt.show()\n",
    "except AttributeError:\n",
    "    pass\n"
   ]
  },
  {
   "cell_type": "code",
   "execution_count": 23,
   "metadata": {},
   "outputs": [
    {
     "data": {
      "text/plain": [
       "Bondi Beach     1671\n",
       "Manly            958\n",
       "Surry Hills      919\n",
       "Bondi            785\n",
       "Randwick         684\n",
       "Sydney           682\n",
       "Coogee           675\n",
       "Darlinghurst     660\n",
       "North Bondi      629\n",
       "Newtown          490\n",
       "Name: city, dtype: int64"
      ]
     },
     "execution_count": 23,
     "metadata": {},
     "output_type": "execute_result"
    }
   ],
   "source": [
    "## Even though our customer, sepecifcally wants information about..\n",
    "## .. Bondi the addition of other areas will help the final prediction\n",
    "\n",
    "df[\"city\"].value_counts().head(10)"
   ]
  },
  {
   "cell_type": "code",
   "execution_count": 24,
   "metadata": {},
   "outputs": [],
   "source": [
    "## For this taks we will keep the top 20 Sydney locations\n",
    "\n",
    "list_of_20 = list(df[\"city\"].value_counts().head(10).index)\n",
    "df = df[df[\"city\"].isin(list_of_20)].reset_index(drop=True)"
   ]
  },
  {
   "cell_type": "code",
   "execution_count": 25,
   "metadata": {},
   "outputs": [
    {
     "data": {
      "text/plain": [
       "Apartment             5970\n",
       "House                 1497\n",
       "Townhouse              271\n",
       "Condominium            115\n",
       "Loft                    59\n",
       "Guest suite             44\n",
       "Other                   33\n",
       "Hostel                  30\n",
       "Bed and breakfast       25\n",
       "Guesthouse              24\n",
       "Serviced apartment      23\n",
       "Villa                   16\n",
       "Bungalow                 7\n",
       "Boutique hotel           6\n",
       "Cottage                  6\n",
       "Tent                     6\n",
       "Resort                   5\n",
       "Tiny house               5\n",
       "Hotel                    3\n",
       "Cabin                    2\n",
       "Earth house              1\n",
       "Houseboat                1\n",
       "Camper/RV                1\n",
       "Chalet                   1\n",
       "Aparthotel               1\n",
       "Yurt                     1\n",
       "Name: property_type, dtype: int64"
      ]
     },
     "execution_count": 25,
     "metadata": {},
     "output_type": "execute_result"
    }
   ],
   "source": [
    "df[\"property_type\"].value_counts()"
   ]
  },
  {
   "cell_type": "code",
   "execution_count": 26,
   "metadata": {},
   "outputs": [],
   "source": [
    "## Remove rare occurences in categories as is necessary for..\n",
    "## .. the eventaul cross validation step, the below step is somewhat ..\n",
    "## .. similar for what has been done with cities above\n",
    "\n",
    "item_counts = df.groupby(['property_type']).size()\n",
    "rare_items = list(item_counts.loc[item_counts <= 10].index.values)"
   ]
  },
  {
   "cell_type": "code",
   "execution_count": 27,
   "metadata": {},
   "outputs": [],
   "source": [
    "df = df[~df[\"property_type\"].isin(rare_items)].reset_index(drop=True)"
   ]
  },
  {
   "cell_type": "code",
   "execution_count": 28,
   "metadata": {},
   "outputs": [],
   "source": [
    "# to make this notebook's output identical at every run\n",
    "np.random.seed(42)"
   ]
  },
  {
   "cell_type": "code",
   "execution_count": 29,
   "metadata": {},
   "outputs": [],
   "source": [
    "import numpy as np\n",
    "\n",
    "# For illustration only. Sklearn has train_test_split()\n",
    "def split_train_test(data, test_ratio):\n",
    "    shuffled_indices = np.random.permutation(len(data))\n",
    "    test_set_size = int(len(data) * test_ratio)\n",
    "    test_indices = shuffled_indices[:test_set_size]\n",
    "    train_indices = shuffled_indices[test_set_size:]\n",
    "    return data.iloc[train_indices], data.iloc[test_indices]"
   ]
  },
  {
   "cell_type": "code",
   "execution_count": 30,
   "metadata": {},
   "outputs": [
    {
     "name": "stdout",
     "output_type": "stream",
     "text": [
      "6486 train + 1621 test\n"
     ]
    }
   ],
   "source": [
    "train_set, test_set = split_train_test(df, 0.2)\n",
    "print(len(train_set), \"train +\", len(test_set), \"test\")"
   ]
  },
  {
   "cell_type": "code",
   "execution_count": 31,
   "metadata": {},
   "outputs": [],
   "source": [
    "from zlib import crc32\n",
    "\n",
    "def test_set_check(identifier, test_ratio):\n",
    "    return crc32(np.int64(identifier)) & 0xffffffff < test_ratio * 2**32\n",
    "\n",
    "def split_train_test_by_id(data, test_ratio, id_column):\n",
    "    ids = data[id_column]\n",
    "    in_test_set = ids.apply(lambda id_: test_set_check(id_, test_ratio))\n",
    "    return data.loc[~in_test_set], data.loc[in_test_set]"
   ]
  },
  {
   "cell_type": "markdown",
   "metadata": {},
   "source": [
    "The implementation of `test_set_check()` above works fine in both Python 2 and Python 3. In earlier releases, the following implementation was proposed, which supported any hash function, but was much slower and did not support Python 2:"
   ]
  },
  {
   "cell_type": "code",
   "execution_count": 32,
   "metadata": {},
   "outputs": [],
   "source": [
    "import hashlib\n",
    "\n",
    "def test_set_check(identifier, test_ratio, hash=hashlib.md5):\n",
    "    return hash(np.int64(identifier)).digest()[-1] < 256 * test_ratio"
   ]
  },
  {
   "cell_type": "markdown",
   "metadata": {},
   "source": [
    "If you want an implementation that supports any hash function and is compatible with both Python 2 and Python 3, here is one:"
   ]
  },
  {
   "cell_type": "code",
   "execution_count": 33,
   "metadata": {},
   "outputs": [],
   "source": [
    "def test_set_check(identifier, test_ratio, hash=hashlib.md5):\n",
    "    return bytearray(hash(np.int64(identifier)).digest())[-1] < 256 * test_ratio"
   ]
  },
  {
   "cell_type": "code",
   "execution_count": 34,
   "metadata": {},
   "outputs": [],
   "source": [
    "df_with_id = df.reset_index()   # adds an `index` column\n",
    "train_set, test_set = split_train_test_by_id(df_with_id, 0.2, \"index\")"
   ]
  },
  {
   "cell_type": "code",
   "execution_count": 35,
   "metadata": {},
   "outputs": [],
   "source": [
    "df_with_id[\"id\"] = df[\"longitude\"] * 1000 + df_with_id[\"latitude\"]\n",
    "train_set, test_set = split_train_test_by_id(df_with_id, 0.2, \"id\")"
   ]
  },
  {
   "cell_type": "code",
   "execution_count": 36,
   "metadata": {},
   "outputs": [
    {
     "data": {
      "text/html": [
       "<div>\n",
       "<style scoped>\n",
       "    .dataframe tbody tr th:only-of-type {\n",
       "        vertical-align: middle;\n",
       "    }\n",
       "\n",
       "    .dataframe tbody tr th {\n",
       "        vertical-align: top;\n",
       "    }\n",
       "\n",
       "    .dataframe thead th {\n",
       "        text-align: right;\n",
       "    }\n",
       "</style>\n",
       "<table border=\"1\" class=\"dataframe\">\n",
       "  <thead>\n",
       "    <tr style=\"text-align: right;\">\n",
       "      <th></th>\n",
       "      <th>index</th>\n",
       "      <th>price</th>\n",
       "      <th>city</th>\n",
       "      <th>longitude</th>\n",
       "      <th>latitude</th>\n",
       "      <th>review_scores_rating</th>\n",
       "      <th>number_of_reviews</th>\n",
       "      <th>minimum_nights</th>\n",
       "      <th>security_deposit</th>\n",
       "      <th>cleaning_fee</th>\n",
       "      <th>accommodates</th>\n",
       "      <th>bathrooms</th>\n",
       "      <th>bedrooms</th>\n",
       "      <th>beds</th>\n",
       "      <th>property_type</th>\n",
       "      <th>room_type</th>\n",
       "      <th>availability_365</th>\n",
       "      <th>host_identity_verified</th>\n",
       "      <th>host_is_superhost</th>\n",
       "      <th>host_since</th>\n",
       "      <th>cancellation_policy</th>\n",
       "      <th>id</th>\n",
       "    </tr>\n",
       "  </thead>\n",
       "  <tbody>\n",
       "    <tr>\n",
       "      <th>0</th>\n",
       "      <td>0</td>\n",
       "      <td>111.0</td>\n",
       "      <td>Darlinghurst</td>\n",
       "      <td>151.216541</td>\n",
       "      <td>-33.880455</td>\n",
       "      <td>88.0</td>\n",
       "      <td>272</td>\n",
       "      <td>2</td>\n",
       "      <td>0.0</td>\n",
       "      <td>0.0</td>\n",
       "      <td>2</td>\n",
       "      <td>1.0</td>\n",
       "      <td>1.0</td>\n",
       "      <td>1.0</td>\n",
       "      <td>Apartment</td>\n",
       "      <td>Private room</td>\n",
       "      <td>285</td>\n",
       "      <td>t</td>\n",
       "      <td>f</td>\n",
       "      <td>2009-03-12</td>\n",
       "      <td>strict_14_with_grace_period</td>\n",
       "      <td>151182.660345</td>\n",
       "    </tr>\n",
       "    <tr>\n",
       "      <th>4</th>\n",
       "      <td>4</td>\n",
       "      <td>130.0</td>\n",
       "      <td>Bondi Beach</td>\n",
       "      <td>151.273084</td>\n",
       "      <td>-33.891846</td>\n",
       "      <td>95.0</td>\n",
       "      <td>119</td>\n",
       "      <td>4</td>\n",
       "      <td>200.0</td>\n",
       "      <td>60.0</td>\n",
       "      <td>2</td>\n",
       "      <td>1.0</td>\n",
       "      <td>1.0</td>\n",
       "      <td>1.0</td>\n",
       "      <td>Apartment</td>\n",
       "      <td>Entire home/apt</td>\n",
       "      <td>94</td>\n",
       "      <td>t</td>\n",
       "      <td>t</td>\n",
       "      <td>2012-01-18</td>\n",
       "      <td>strict_14_with_grace_period</td>\n",
       "      <td>151239.192454</td>\n",
       "    </tr>\n",
       "    <tr>\n",
       "      <th>5</th>\n",
       "      <td>5</td>\n",
       "      <td>111.0</td>\n",
       "      <td>Sydney</td>\n",
       "      <td>151.268865</td>\n",
       "      <td>-33.885690</td>\n",
       "      <td>89.0</td>\n",
       "      <td>11</td>\n",
       "      <td>4</td>\n",
       "      <td>0.0</td>\n",
       "      <td>100.0</td>\n",
       "      <td>4</td>\n",
       "      <td>1.0</td>\n",
       "      <td>2.0</td>\n",
       "      <td>2.0</td>\n",
       "      <td>Apartment</td>\n",
       "      <td>Entire home/apt</td>\n",
       "      <td>14</td>\n",
       "      <td>f</td>\n",
       "      <td>f</td>\n",
       "      <td>2010-12-14</td>\n",
       "      <td>strict_14_with_grace_period</td>\n",
       "      <td>151234.979210</td>\n",
       "    </tr>\n",
       "    <tr>\n",
       "      <th>9</th>\n",
       "      <td>9</td>\n",
       "      <td>990.0</td>\n",
       "      <td>Coogee</td>\n",
       "      <td>151.260116</td>\n",
       "      <td>-33.914816</td>\n",
       "      <td>98.0</td>\n",
       "      <td>13</td>\n",
       "      <td>7</td>\n",
       "      <td>3000.0</td>\n",
       "      <td>0.0</td>\n",
       "      <td>12</td>\n",
       "      <td>5.0</td>\n",
       "      <td>6.0</td>\n",
       "      <td>6.0</td>\n",
       "      <td>Villa</td>\n",
       "      <td>Entire home/apt</td>\n",
       "      <td>33</td>\n",
       "      <td>t</td>\n",
       "      <td>f</td>\n",
       "      <td>2011-10-02</td>\n",
       "      <td>strict_14_with_grace_period</td>\n",
       "      <td>151226.201484</td>\n",
       "    </tr>\n",
       "    <tr>\n",
       "      <th>12</th>\n",
       "      <td>12</td>\n",
       "      <td>202.0</td>\n",
       "      <td>Bondi</td>\n",
       "      <td>151.268418</td>\n",
       "      <td>-33.895158</td>\n",
       "      <td>91.0</td>\n",
       "      <td>90</td>\n",
       "      <td>1</td>\n",
       "      <td>1000.0</td>\n",
       "      <td>150.0</td>\n",
       "      <td>4</td>\n",
       "      <td>1.0</td>\n",
       "      <td>2.0</td>\n",
       "      <td>2.0</td>\n",
       "      <td>Apartment</td>\n",
       "      <td>Entire home/apt</td>\n",
       "      <td>204</td>\n",
       "      <td>f</td>\n",
       "      <td>f</td>\n",
       "      <td>2011-03-31</td>\n",
       "      <td>strict_14_with_grace_period</td>\n",
       "      <td>151234.523342</td>\n",
       "    </tr>\n",
       "  </tbody>\n",
       "</table>\n",
       "</div>"
      ],
      "text/plain": [
       "    index  price          city   longitude   latitude  review_scores_rating  \\\n",
       "0       0  111.0  Darlinghurst  151.216541 -33.880455                  88.0   \n",
       "4       4  130.0   Bondi Beach  151.273084 -33.891846                  95.0   \n",
       "5       5  111.0        Sydney  151.268865 -33.885690                  89.0   \n",
       "9       9  990.0        Coogee  151.260116 -33.914816                  98.0   \n",
       "12     12  202.0         Bondi  151.268418 -33.895158                  91.0   \n",
       "\n",
       "    number_of_reviews  minimum_nights  security_deposit  cleaning_fee  \\\n",
       "0                 272               2               0.0           0.0   \n",
       "4                 119               4             200.0          60.0   \n",
       "5                  11               4               0.0         100.0   \n",
       "9                  13               7            3000.0           0.0   \n",
       "12                 90               1            1000.0         150.0   \n",
       "\n",
       "    accommodates  bathrooms  bedrooms  beds property_type        room_type  \\\n",
       "0              2        1.0       1.0   1.0     Apartment     Private room   \n",
       "4              2        1.0       1.0   1.0     Apartment  Entire home/apt   \n",
       "5              4        1.0       2.0   2.0     Apartment  Entire home/apt   \n",
       "9             12        5.0       6.0   6.0         Villa  Entire home/apt   \n",
       "12             4        1.0       2.0   2.0     Apartment  Entire home/apt   \n",
       "\n",
       "    availability_365 host_identity_verified host_is_superhost host_since  \\\n",
       "0                285                      t                 f 2009-03-12   \n",
       "4                 94                      t                 t 2012-01-18   \n",
       "5                 14                      f                 f 2010-12-14   \n",
       "9                 33                      t                 f 2011-10-02   \n",
       "12               204                      f                 f 2011-03-31   \n",
       "\n",
       "            cancellation_policy             id  \n",
       "0   strict_14_with_grace_period  151182.660345  \n",
       "4   strict_14_with_grace_period  151239.192454  \n",
       "5   strict_14_with_grace_period  151234.979210  \n",
       "9   strict_14_with_grace_period  151226.201484  \n",
       "12  strict_14_with_grace_period  151234.523342  "
      ]
     },
     "execution_count": 36,
     "metadata": {},
     "output_type": "execute_result"
    }
   ],
   "source": [
    "test_set.head()"
   ]
  },
  {
   "cell_type": "code",
   "execution_count": 37,
   "metadata": {},
   "outputs": [],
   "source": [
    "from sklearn.model_selection import train_test_split\n",
    "\n",
    "train_set, test_set = train_test_split(df, test_size=0.2, random_state=42)"
   ]
  },
  {
   "cell_type": "code",
   "execution_count": 38,
   "metadata": {},
   "outputs": [
    {
     "data": {
      "text/html": [
       "<div>\n",
       "<style scoped>\n",
       "    .dataframe tbody tr th:only-of-type {\n",
       "        vertical-align: middle;\n",
       "    }\n",
       "\n",
       "    .dataframe tbody tr th {\n",
       "        vertical-align: top;\n",
       "    }\n",
       "\n",
       "    .dataframe thead th {\n",
       "        text-align: right;\n",
       "    }\n",
       "</style>\n",
       "<table border=\"1\" class=\"dataframe\">\n",
       "  <thead>\n",
       "    <tr style=\"text-align: right;\">\n",
       "      <th></th>\n",
       "      <th>price</th>\n",
       "      <th>city</th>\n",
       "      <th>longitude</th>\n",
       "      <th>latitude</th>\n",
       "      <th>review_scores_rating</th>\n",
       "      <th>number_of_reviews</th>\n",
       "      <th>minimum_nights</th>\n",
       "      <th>security_deposit</th>\n",
       "      <th>cleaning_fee</th>\n",
       "      <th>accommodates</th>\n",
       "      <th>bathrooms</th>\n",
       "      <th>bedrooms</th>\n",
       "      <th>beds</th>\n",
       "      <th>property_type</th>\n",
       "      <th>room_type</th>\n",
       "      <th>availability_365</th>\n",
       "      <th>host_identity_verified</th>\n",
       "      <th>host_is_superhost</th>\n",
       "      <th>host_since</th>\n",
       "      <th>cancellation_policy</th>\n",
       "    </tr>\n",
       "  </thead>\n",
       "  <tbody>\n",
       "    <tr>\n",
       "      <th>4084</th>\n",
       "      <td>68.0</td>\n",
       "      <td>North Bondi</td>\n",
       "      <td>151.279684</td>\n",
       "      <td>-33.884092</td>\n",
       "      <td>93.0</td>\n",
       "      <td>3</td>\n",
       "      <td>7</td>\n",
       "      <td>150.0</td>\n",
       "      <td>0.0</td>\n",
       "      <td>2</td>\n",
       "      <td>2.5</td>\n",
       "      <td>1.0</td>\n",
       "      <td>1.0</td>\n",
       "      <td>House</td>\n",
       "      <td>Private room</td>\n",
       "      <td>4</td>\n",
       "      <td>t</td>\n",
       "      <td>f</td>\n",
       "      <td>2016-08-18</td>\n",
       "      <td>strict_14_with_grace_period</td>\n",
       "    </tr>\n",
       "    <tr>\n",
       "      <th>965</th>\n",
       "      <td>128.0</td>\n",
       "      <td>Surry Hills</td>\n",
       "      <td>151.212610</td>\n",
       "      <td>-33.891416</td>\n",
       "      <td>100.0</td>\n",
       "      <td>4</td>\n",
       "      <td>5</td>\n",
       "      <td>690.0</td>\n",
       "      <td>99.0</td>\n",
       "      <td>4</td>\n",
       "      <td>1.0</td>\n",
       "      <td>2.0</td>\n",
       "      <td>2.0</td>\n",
       "      <td>Townhouse</td>\n",
       "      <td>Entire home/apt</td>\n",
       "      <td>173</td>\n",
       "      <td>t</td>\n",
       "      <td>t</td>\n",
       "      <td>2014-10-31</td>\n",
       "      <td>moderate</td>\n",
       "    </tr>\n",
       "    <tr>\n",
       "      <th>8100</th>\n",
       "      <td>115.0</td>\n",
       "      <td>Darlinghurst</td>\n",
       "      <td>151.217882</td>\n",
       "      <td>-33.874271</td>\n",
       "      <td>98.0</td>\n",
       "      <td>8</td>\n",
       "      <td>2</td>\n",
       "      <td>0.0</td>\n",
       "      <td>30.0</td>\n",
       "      <td>3</td>\n",
       "      <td>1.0</td>\n",
       "      <td>1.0</td>\n",
       "      <td>1.0</td>\n",
       "      <td>Apartment</td>\n",
       "      <td>Entire home/apt</td>\n",
       "      <td>12</td>\n",
       "      <td>f</td>\n",
       "      <td>f</td>\n",
       "      <td>2017-04-02</td>\n",
       "      <td>moderate</td>\n",
       "    </tr>\n",
       "    <tr>\n",
       "      <th>3882</th>\n",
       "      <td>125.0</td>\n",
       "      <td>Sydney</td>\n",
       "      <td>151.204837</td>\n",
       "      <td>-33.875924</td>\n",
       "      <td>NaN</td>\n",
       "      <td>0</td>\n",
       "      <td>2</td>\n",
       "      <td>150.0</td>\n",
       "      <td>50.0</td>\n",
       "      <td>4</td>\n",
       "      <td>1.0</td>\n",
       "      <td>1.0</td>\n",
       "      <td>3.0</td>\n",
       "      <td>Other</td>\n",
       "      <td>Shared room</td>\n",
       "      <td>363</td>\n",
       "      <td>f</td>\n",
       "      <td>f</td>\n",
       "      <td>2014-12-01</td>\n",
       "      <td>flexible</td>\n",
       "    </tr>\n",
       "    <tr>\n",
       "      <th>1010</th>\n",
       "      <td>250.0</td>\n",
       "      <td>North Bondi</td>\n",
       "      <td>151.274298</td>\n",
       "      <td>-33.885652</td>\n",
       "      <td>100.0</td>\n",
       "      <td>4</td>\n",
       "      <td>2</td>\n",
       "      <td>0.0</td>\n",
       "      <td>80.0</td>\n",
       "      <td>2</td>\n",
       "      <td>1.0</td>\n",
       "      <td>1.0</td>\n",
       "      <td>1.0</td>\n",
       "      <td>Apartment</td>\n",
       "      <td>Entire home/apt</td>\n",
       "      <td>363</td>\n",
       "      <td>t</td>\n",
       "      <td>f</td>\n",
       "      <td>2012-09-29</td>\n",
       "      <td>strict_14_with_grace_period</td>\n",
       "    </tr>\n",
       "  </tbody>\n",
       "</table>\n",
       "</div>"
      ],
      "text/plain": [
       "      price          city   longitude   latitude  review_scores_rating  \\\n",
       "4084   68.0   North Bondi  151.279684 -33.884092                  93.0   \n",
       "965   128.0   Surry Hills  151.212610 -33.891416                 100.0   \n",
       "8100  115.0  Darlinghurst  151.217882 -33.874271                  98.0   \n",
       "3882  125.0        Sydney  151.204837 -33.875924                   NaN   \n",
       "1010  250.0   North Bondi  151.274298 -33.885652                 100.0   \n",
       "\n",
       "      number_of_reviews  minimum_nights  security_deposit  cleaning_fee  \\\n",
       "4084                  3               7             150.0           0.0   \n",
       "965                   4               5             690.0          99.0   \n",
       "8100                  8               2               0.0          30.0   \n",
       "3882                  0               2             150.0          50.0   \n",
       "1010                  4               2               0.0          80.0   \n",
       "\n",
       "      accommodates  bathrooms  bedrooms  beds property_type        room_type  \\\n",
       "4084             2        2.5       1.0   1.0         House     Private room   \n",
       "965              4        1.0       2.0   2.0     Townhouse  Entire home/apt   \n",
       "8100             3        1.0       1.0   1.0     Apartment  Entire home/apt   \n",
       "3882             4        1.0       1.0   3.0         Other      Shared room   \n",
       "1010             2        1.0       1.0   1.0     Apartment  Entire home/apt   \n",
       "\n",
       "      availability_365 host_identity_verified host_is_superhost host_since  \\\n",
       "4084                 4                      t                 f 2016-08-18   \n",
       "965                173                      t                 t 2014-10-31   \n",
       "8100                12                      f                 f 2017-04-02   \n",
       "3882               363                      f                 f 2014-12-01   \n",
       "1010               363                      t                 f 2012-09-29   \n",
       "\n",
       "              cancellation_policy  \n",
       "4084  strict_14_with_grace_period  \n",
       "965                      moderate  \n",
       "8100                     moderate  \n",
       "3882                     flexible  \n",
       "1010  strict_14_with_grace_period  "
      ]
     },
     "execution_count": 38,
     "metadata": {},
     "output_type": "execute_result"
    }
   ],
   "source": [
    "test_set.head()"
   ]
  },
  {
   "cell_type": "markdown",
   "metadata": {},
   "source": [
    "The models that would be used in this project can't read textual data, thus we have to turn text categories into numeric categories. The code below will create city codes, this time for the purpose of statified sampeing. \n"
   ]
  },
  {
   "cell_type": "code",
   "execution_count": 39,
   "metadata": {},
   "outputs": [],
   "source": [
    "from sklearn import preprocessing\n",
    "le = preprocessing.LabelEncoder()\n",
    "\n",
    "for col in [\"city\"]:\n",
    "    df[col+\"_code\"] = le.fit_transform(df[col])\n"
   ]
  },
  {
   "cell_type": "code",
   "execution_count": 40,
   "metadata": {},
   "outputs": [],
   "source": [
    "##  Similar to above encoding, here we encode binary 1, 0 for t and f. \n",
    "\n",
    "df[\"host_identity_verified\"] = df[\"host_identity_verified\"].apply(lambda x: 1 if x==\"t\" else 0)\n",
    "df[\"host_is_superhost\"] = df[\"host_is_superhost\"].apply(lambda x: 1 if x==\"t\" else 0)\n"
   ]
  },
  {
   "cell_type": "code",
   "execution_count": 41,
   "metadata": {},
   "outputs": [],
   "source": [
    "from sklearn.model_selection import StratifiedShuffleSplit\n",
    "\n",
    "## we will stratify according to city\n",
    "\n",
    "split = StratifiedShuffleSplit(n_splits=1, test_size=0.2, random_state=42)\n",
    "for train_index, test_index in split.split(df, df[\"city_code\"]):\n",
    "    del df[\"city_code\"]\n",
    "    strat_train_set = df.loc[train_index]\n",
    "    strat_test_set = df.loc[test_index]"
   ]
  },
  {
   "cell_type": "code",
   "execution_count": 42,
   "metadata": {},
   "outputs": [
    {
     "data": {
      "text/plain": [
       "city\n",
       "Bondi           198.745223\n",
       "Bondi Beach     199.879880\n",
       "Coogee          196.574627\n",
       "Darlinghurst    184.700000\n",
       "Manly           223.447368\n",
       "Newtown         117.938776\n",
       "North Bondi     248.857143\n",
       "Randwick        178.072993\n",
       "Surry Hills     175.732240\n",
       "Sydney          193.962687\n",
       "Name: price, dtype: float64"
      ]
     },
     "execution_count": 42,
     "metadata": {},
     "output_type": "execute_result"
    }
   ],
   "source": [
    "## Average price per area\n",
    "strat_test_set.groupby(\"city\")[\"price\"].mean()"
   ]
  },
  {
   "cell_type": "markdown",
   "metadata": {},
   "source": [
    "# Discover and visualize the data to gain insights"
   ]
  },
  {
   "cell_type": "code",
   "execution_count": 43,
   "metadata": {},
   "outputs": [],
   "source": [
    "traval = strat_train_set.copy() ##traval - training and validation set"
   ]
  },
  {
   "cell_type": "code",
   "execution_count": 44,
   "metadata": {},
   "outputs": [
    {
     "name": "stdout",
     "output_type": "stream",
     "text": [
      "Saving figure bad_visualization_plot\n"
     ]
    },
    {
     "data": {
      "image/png": "[encoded data removed]",
      "text/plain": [
       "<matplotlib.figure.Figure at 0x1189ab080>"
      ]
     },
     "metadata": {},
     "output_type": "display_data"
    }
   ],
   "source": [
    "traval.plot(kind=\"scatter\", x=\"longitude\", y=\"latitude\")\n",
    "save_fig(\"bad_visualization_plot\")"
   ]
  },
  {
   "cell_type": "code",
   "execution_count": 45,
   "metadata": {},
   "outputs": [
    {
     "name": "stdout",
     "output_type": "stream",
     "text": [
      "Saving figure better_visualization_plot\n"
     ]
    },
    {
     "data": {
      "image/png": "[encoded data removed]",
      "text/plain": [
       "<matplotlib.figure.Figure at 0x116b1d9b0>"
      ]
     },
     "metadata": {},
     "output_type": "display_data"
    }
   ],
   "source": [
    "traval.plot(kind=\"scatter\", x=\"longitude\", y=\"latitude\", alpha=0.1)\n",
    "save_fig(\"better_visualization_plot\")"
   ]
  },
  {
   "cell_type": "markdown",
   "metadata": {},
   "source": [
    "The argument `sharex=False` fixes a display bug (the x-axis values and legend were not displayed). This is a temporary fix (see: https://github.com/pandas-dev/pandas/issues/10611). Thanks to Wilmer Arellano for pointing it out."
   ]
  },
  {
   "cell_type": "code",
   "execution_count": 46,
   "metadata": {},
   "outputs": [],
   "source": [
    "traval_co = traval[(traval[\"longitude\"]>151.16)&(traval[\"latitude\"]<-33.75)].reset_index(drop=True)\n",
    "\n",
    "traval_co = traval_co[traval_co[\"latitude\"]>-33.95].reset_index(drop=True)\n",
    "\n",
    "traval_co = traval_co[traval_co[\"price\"]<600].reset_index(drop=True)"
   ]
  },
  {
   "cell_type": "code",
   "execution_count": 47,
   "metadata": {},
   "outputs": [
    {
     "name": "stdout",
     "output_type": "stream",
     "text": [
      "Saving figure housing_prices_scatterplot\n"
     ]
    },
    {
     "data": {
      "image/png": "[encoded data removed]",
      "text/plain": [
       "<matplotlib.figure.Figure at 0x116b34cf8>"
      ]
     },
     "metadata": {},
     "output_type": "display_data"
    }
   ],
   "source": [
    "traval_co.plot(kind=\"scatter\", x=\"longitude\", y=\"latitude\", alpha=0.5,\n",
    "    s=traval_co[\"number_of_reviews\"]/2, label=\"Reviews\", figsize=(10,7),\n",
    "    c=\"price\", cmap=plt.get_cmap(\"jet\"), colorbar=True,\n",
    "    sharex=False)\n",
    "plt.legend()\n",
    "save_fig(\"housing_prices_scatterplot\")"
   ]
  },
  {
   "cell_type": "code",
   "execution_count": 48,
   "metadata": {},
   "outputs": [],
   "source": [
    "corr_matrix = traval.corr()"
   ]
  },
  {
   "cell_type": "code",
   "execution_count": 49,
   "metadata": {},
   "outputs": [
    {
     "data": {
      "text/plain": [
       "price                     1.000000\n",
       "accommodates              0.674368\n",
       "bedrooms                  0.668963\n",
       "beds                      0.582378\n",
       "bathrooms                 0.553773\n",
       "cleaning_fee              0.529834\n",
       "security_deposit          0.469423\n",
       "longitude                 0.157902\n",
       "availability_365          0.148263\n",
       "latitude                  0.131160\n",
       "review_scores_rating      0.067066\n",
       "host_identity_verified    0.048821\n",
       "minimum_nights            0.022103\n",
       "host_is_superhost        -0.016695\n",
       "number_of_reviews        -0.064011\n",
       "Name: price, dtype: float64"
      ]
     },
     "execution_count": 49,
     "metadata": {},
     "output_type": "execute_result"
    }
   ],
   "source": [
    "corr_matrix[\"price\"].sort_values(ascending=False)"
   ]
  },
  {
   "cell_type": "code",
   "execution_count": 50,
   "metadata": {},
   "outputs": [
    {
     "name": "stdout",
     "output_type": "stream",
     "text": [
      "Saving figure scatter_matrix_plot\n"
     ]
    },
    {
     "data": {
      "image/png": "[encoded data removed]",
      "text/plain": [
       "<matplotlib.figure.Figure at 0x119bda940>"
      ]
     },
     "metadata": {},
     "output_type": "display_data"
    }
   ],
   "source": [
    "# from pandas.tools.plotting import scatter_matrix # For older versions of Pandas\n",
    "from pandas.plotting import scatter_matrix\n",
    "\n",
    "attributes = [\"price\", \"accommodates\", \"bedrooms\",\n",
    "              \"cleaning_fee\",\"review_scores_rating\"]\n",
    "scatter_matrix(traval[attributes], figsize=(12, 8))\n",
    "save_fig(\"scatter_matrix_plot\")"
   ]
  },
  {
   "cell_type": "code",
   "execution_count": 51,
   "metadata": {},
   "outputs": [
    {
     "name": "stdout",
     "output_type": "stream",
     "text": [
      "Saving figure income_vs_house_value_scatterplot\n"
     ]
    },
    {
     "data": {
      "image/png": "[encoded data removed]",
      "text/plain": [
       "<matplotlib.figure.Figure at 0x1129c9b38>"
      ]
     },
     "metadata": {},
     "output_type": "display_data"
    }
   ],
   "source": [
    "traval.plot(kind=\"scatter\", x=\"accommodates\", y=\"price\",\n",
    "             alpha=0.1)\n",
    "save_fig(\"income_vs_house_value_scatterplot\")"
   ]
  },
  {
   "cell_type": "code",
   "execution_count": 52,
   "metadata": {},
   "outputs": [
    {
     "data": {
      "text/html": [
       "<div>\n",
       "<style scoped>\n",
       "    .dataframe tbody tr th:only-of-type {\n",
       "        vertical-align: middle;\n",
       "    }\n",
       "\n",
       "    .dataframe tbody tr th {\n",
       "        vertical-align: top;\n",
       "    }\n",
       "\n",
       "    .dataframe thead th {\n",
       "        text-align: right;\n",
       "    }\n",
       "</style>\n",
       "<table border=\"1\" class=\"dataframe\">\n",
       "  <thead>\n",
       "    <tr style=\"text-align: right;\">\n",
       "      <th></th>\n",
       "      <th>price</th>\n",
       "      <th>city</th>\n",
       "      <th>longitude</th>\n",
       "      <th>latitude</th>\n",
       "      <th>review_scores_rating</th>\n",
       "      <th>number_of_reviews</th>\n",
       "      <th>minimum_nights</th>\n",
       "      <th>security_deposit</th>\n",
       "      <th>cleaning_fee</th>\n",
       "      <th>accommodates</th>\n",
       "      <th>bathrooms</th>\n",
       "      <th>bedrooms</th>\n",
       "      <th>beds</th>\n",
       "      <th>property_type</th>\n",
       "      <th>room_type</th>\n",
       "      <th>availability_365</th>\n",
       "      <th>host_identity_verified</th>\n",
       "      <th>host_is_superhost</th>\n",
       "      <th>host_since</th>\n",
       "      <th>cancellation_policy</th>\n",
       "    </tr>\n",
       "  </thead>\n",
       "  <tbody>\n",
       "    <tr>\n",
       "      <th>5484</th>\n",
       "      <td>200.0</td>\n",
       "      <td>Newtown</td>\n",
       "      <td>151.178552</td>\n",
       "      <td>-33.907150</td>\n",
       "      <td>96.0</td>\n",
       "      <td>61</td>\n",
       "      <td>2</td>\n",
       "      <td>250.0</td>\n",
       "      <td>85.0</td>\n",
       "      <td>4</td>\n",
       "      <td>1.0</td>\n",
       "      <td>2.0</td>\n",
       "      <td>2.0</td>\n",
       "      <td>House</td>\n",
       "      <td>Entire home/apt</td>\n",
       "      <td>127</td>\n",
       "      <td>1</td>\n",
       "      <td>0</td>\n",
       "      <td>2016-01-22</td>\n",
       "      <td>moderate</td>\n",
       "    </tr>\n",
       "    <tr>\n",
       "      <th>1267</th>\n",
       "      <td>183.0</td>\n",
       "      <td>Randwick</td>\n",
       "      <td>151.249030</td>\n",
       "      <td>-33.906190</td>\n",
       "      <td>97.0</td>\n",
       "      <td>6</td>\n",
       "      <td>4</td>\n",
       "      <td>0.0</td>\n",
       "      <td>20.0</td>\n",
       "      <td>2</td>\n",
       "      <td>1.0</td>\n",
       "      <td>1.0</td>\n",
       "      <td>1.0</td>\n",
       "      <td>Apartment</td>\n",
       "      <td>Private room</td>\n",
       "      <td>0</td>\n",
       "      <td>1</td>\n",
       "      <td>0</td>\n",
       "      <td>2014-03-28</td>\n",
       "      <td>moderate</td>\n",
       "    </tr>\n",
       "    <tr>\n",
       "      <th>6658</th>\n",
       "      <td>175.0</td>\n",
       "      <td>Manly</td>\n",
       "      <td>151.288491</td>\n",
       "      <td>-33.802074</td>\n",
       "      <td>100.0</td>\n",
       "      <td>2</td>\n",
       "      <td>2</td>\n",
       "      <td>0.0</td>\n",
       "      <td>40.0</td>\n",
       "      <td>2</td>\n",
       "      <td>1.0</td>\n",
       "      <td>1.0</td>\n",
       "      <td>1.0</td>\n",
       "      <td>Apartment</td>\n",
       "      <td>Entire home/apt</td>\n",
       "      <td>0</td>\n",
       "      <td>1</td>\n",
       "      <td>0</td>\n",
       "      <td>2014-01-09</td>\n",
       "      <td>strict_14_with_grace_period</td>\n",
       "    </tr>\n",
       "    <tr>\n",
       "      <th>2522</th>\n",
       "      <td>85.0</td>\n",
       "      <td>Randwick</td>\n",
       "      <td>151.236423</td>\n",
       "      <td>-33.913614</td>\n",
       "      <td>94.0</td>\n",
       "      <td>20</td>\n",
       "      <td>3</td>\n",
       "      <td>0.0</td>\n",
       "      <td>0.0</td>\n",
       "      <td>2</td>\n",
       "      <td>1.0</td>\n",
       "      <td>1.0</td>\n",
       "      <td>1.0</td>\n",
       "      <td>Apartment</td>\n",
       "      <td>Private room</td>\n",
       "      <td>90</td>\n",
       "      <td>0</td>\n",
       "      <td>0</td>\n",
       "      <td>2015-11-22</td>\n",
       "      <td>flexible</td>\n",
       "    </tr>\n",
       "    <tr>\n",
       "      <th>722</th>\n",
       "      <td>80.0</td>\n",
       "      <td>Coogee</td>\n",
       "      <td>151.259342</td>\n",
       "      <td>-33.918435</td>\n",
       "      <td>92.0</td>\n",
       "      <td>139</td>\n",
       "      <td>30</td>\n",
       "      <td>0.0</td>\n",
       "      <td>0.0</td>\n",
       "      <td>3</td>\n",
       "      <td>1.0</td>\n",
       "      <td>1.0</td>\n",
       "      <td>2.0</td>\n",
       "      <td>Apartment</td>\n",
       "      <td>Private room</td>\n",
       "      <td>0</td>\n",
       "      <td>1</td>\n",
       "      <td>0</td>\n",
       "      <td>2014-01-07</td>\n",
       "      <td>strict_14_with_grace_period</td>\n",
       "    </tr>\n",
       "  </tbody>\n",
       "</table>\n",
       "</div>"
      ],
      "text/plain": [
       "      price      city   longitude   latitude  review_scores_rating  \\\n",
       "5484  200.0   Newtown  151.178552 -33.907150                  96.0   \n",
       "1267  183.0  Randwick  151.249030 -33.906190                  97.0   \n",
       "6658  175.0     Manly  151.288491 -33.802074                 100.0   \n",
       "2522   85.0  Randwick  151.236423 -33.913614                  94.0   \n",
       "722    80.0    Coogee  151.259342 -33.918435                  92.0   \n",
       "\n",
       "      number_of_reviews  minimum_nights  security_deposit  cleaning_fee  \\\n",
       "5484                 61               2             250.0          85.0   \n",
       "1267                  6               4               0.0          20.0   \n",
       "6658                  2               2               0.0          40.0   \n",
       "2522                 20               3               0.0           0.0   \n",
       "722                 139              30               0.0           0.0   \n",
       "\n",
       "      accommodates  bathrooms  bedrooms  beds property_type        room_type  \\\n",
       "5484             4        1.0       2.0   2.0         House  Entire home/apt   \n",
       "1267             2        1.0       1.0   1.0     Apartment     Private room   \n",
       "6658             2        1.0       1.0   1.0     Apartment  Entire home/apt   \n",
       "2522             2        1.0       1.0   1.0     Apartment     Private room   \n",
       "722              3        1.0       1.0   2.0     Apartment     Private room   \n",
       "\n",
       "      availability_365  host_identity_verified  host_is_superhost host_since  \\\n",
       "5484               127                       1                  0 2016-01-22   \n",
       "1267                 0                       1                  0 2014-03-28   \n",
       "6658                 0                       1                  0 2014-01-09   \n",
       "2522                90                       0                  0 2015-11-22   \n",
       "722                  0                       1                  0 2014-01-07   \n",
       "\n",
       "              cancellation_policy  \n",
       "5484                     moderate  \n",
       "1267                     moderate  \n",
       "6658  strict_14_with_grace_period  \n",
       "2522                     flexible  \n",
       "722   strict_14_with_grace_period  "
      ]
     },
     "execution_count": 52,
     "metadata": {},
     "output_type": "execute_result"
    }
   ],
   "source": [
    "traval.head()"
   ]
  },
  {
   "cell_type": "code",
   "execution_count": 53,
   "metadata": {},
   "outputs": [],
   "source": [
    "#### Some Feature Engineering"
   ]
  },
  {
   "cell_type": "code",
   "execution_count": 54,
   "metadata": {},
   "outputs": [],
   "source": [
    "traval[\"bedrooms_per_person\"] = traval[\"bedrooms\"]/traval[\"accommodates\"]\n",
    "traval[\"bathrooms_per_person\"] = traval[\"bathrooms\"]/traval[\"accommodates\"]\n",
    "traval['host_since'] = pd.to_datetime(traval['host_since'])\n",
    "traval['days_on_airbnb'] = (pd.to_datetime('today') - traval['host_since']).dt.days"
   ]
  },
  {
   "cell_type": "markdown",
   "metadata": {},
   "source": [
    "# Prepare the data for Machine Learning algorithms"
   ]
  },
  {
   "cell_type": "code",
   "execution_count": 55,
   "metadata": {},
   "outputs": [],
   "source": [
    "## Here I will forget about traval and use a more formal way of introducing...\n",
    "## ..preprocessin using pipelines"
   ]
  },
  {
   "cell_type": "code",
   "execution_count": 56,
   "metadata": {},
   "outputs": [],
   "source": [
    "X  = traval.copy().drop(\"price\", axis=1) # drop labels for training set"
   ]
  },
  {
   "cell_type": "code",
   "execution_count": 57,
   "metadata": {},
   "outputs": [
    {
     "name": "stdout",
     "output_type": "stream",
     "text": [
      "(5, 22)\n"
     ]
    },
    {
     "data": {
      "text/html": [
       "<div>\n",
       "<style scoped>\n",
       "    .dataframe tbody tr th:only-of-type {\n",
       "        vertical-align: middle;\n",
       "    }\n",
       "\n",
       "    .dataframe tbody tr th {\n",
       "        vertical-align: top;\n",
       "    }\n",
       "\n",
       "    .dataframe thead th {\n",
       "        text-align: right;\n",
       "    }\n",
       "</style>\n",
       "<table border=\"1\" class=\"dataframe\">\n",
       "  <thead>\n",
       "    <tr style=\"text-align: right;\">\n",
       "      <th></th>\n",
       "      <th>city</th>\n",
       "      <th>longitude</th>\n",
       "      <th>latitude</th>\n",
       "      <th>review_scores_rating</th>\n",
       "      <th>number_of_reviews</th>\n",
       "      <th>minimum_nights</th>\n",
       "      <th>security_deposit</th>\n",
       "      <th>cleaning_fee</th>\n",
       "      <th>accommodates</th>\n",
       "      <th>bathrooms</th>\n",
       "      <th>bedrooms</th>\n",
       "      <th>beds</th>\n",
       "      <th>property_type</th>\n",
       "      <th>room_type</th>\n",
       "      <th>availability_365</th>\n",
       "      <th>host_identity_verified</th>\n",
       "      <th>host_is_superhost</th>\n",
       "      <th>host_since</th>\n",
       "      <th>cancellation_policy</th>\n",
       "      <th>bedrooms_per_person</th>\n",
       "      <th>bathrooms_per_person</th>\n",
       "      <th>days_on_airbnb</th>\n",
       "    </tr>\n",
       "  </thead>\n",
       "  <tbody>\n",
       "    <tr>\n",
       "      <th>5594</th>\n",
       "      <td>Randwick</td>\n",
       "      <td>151.238806</td>\n",
       "      <td>-33.913834</td>\n",
       "      <td>NaN</td>\n",
       "      <td>0</td>\n",
       "      <td>2</td>\n",
       "      <td>800.0</td>\n",
       "      <td>80.0</td>\n",
       "      <td>6</td>\n",
       "      <td>1.0</td>\n",
       "      <td>3.0</td>\n",
       "      <td>3.0</td>\n",
       "      <td>House</td>\n",
       "      <td>Entire home/apt</td>\n",
       "      <td>0</td>\n",
       "      <td>0</td>\n",
       "      <td>0</td>\n",
       "      <td>2013-11-27</td>\n",
       "      <td>moderate</td>\n",
       "      <td>0.500000</td>\n",
       "      <td>0.166667</td>\n",
       "      <td>1896.0</td>\n",
       "    </tr>\n",
       "    <tr>\n",
       "      <th>5439</th>\n",
       "      <td>Newtown</td>\n",
       "      <td>151.184469</td>\n",
       "      <td>-33.894582</td>\n",
       "      <td>NaN</td>\n",
       "      <td>0</td>\n",
       "      <td>3</td>\n",
       "      <td>5000.0</td>\n",
       "      <td>100.0</td>\n",
       "      <td>11</td>\n",
       "      <td>2.0</td>\n",
       "      <td>3.0</td>\n",
       "      <td>4.0</td>\n",
       "      <td>Apartment</td>\n",
       "      <td>Entire home/apt</td>\n",
       "      <td>0</td>\n",
       "      <td>1</td>\n",
       "      <td>0</td>\n",
       "      <td>2014-07-16</td>\n",
       "      <td>strict_14_with_grace_period</td>\n",
       "      <td>0.272727</td>\n",
       "      <td>0.181818</td>\n",
       "      <td>1665.0</td>\n",
       "    </tr>\n",
       "    <tr>\n",
       "      <th>3847</th>\n",
       "      <td>Bondi Beach</td>\n",
       "      <td>151.273077</td>\n",
       "      <td>-33.895142</td>\n",
       "      <td>NaN</td>\n",
       "      <td>0</td>\n",
       "      <td>7</td>\n",
       "      <td>271.0</td>\n",
       "      <td>27.0</td>\n",
       "      <td>2</td>\n",
       "      <td>1.0</td>\n",
       "      <td>1.0</td>\n",
       "      <td>1.0</td>\n",
       "      <td>Apartment</td>\n",
       "      <td>Private room</td>\n",
       "      <td>0</td>\n",
       "      <td>0</td>\n",
       "      <td>0</td>\n",
       "      <td>2015-12-07</td>\n",
       "      <td>strict_14_with_grace_period</td>\n",
       "      <td>0.500000</td>\n",
       "      <td>0.500000</td>\n",
       "      <td>1156.0</td>\n",
       "    </tr>\n",
       "    <tr>\n",
       "      <th>1312</th>\n",
       "      <td>Randwick</td>\n",
       "      <td>151.245793</td>\n",
       "      <td>-33.920622</td>\n",
       "      <td>NaN</td>\n",
       "      <td>0</td>\n",
       "      <td>3</td>\n",
       "      <td>0.0</td>\n",
       "      <td>80.0</td>\n",
       "      <td>3</td>\n",
       "      <td>1.0</td>\n",
       "      <td>2.0</td>\n",
       "      <td>2.0</td>\n",
       "      <td>Apartment</td>\n",
       "      <td>Entire home/apt</td>\n",
       "      <td>0</td>\n",
       "      <td>0</td>\n",
       "      <td>0</td>\n",
       "      <td>2015-10-02</td>\n",
       "      <td>strict_14_with_grace_period</td>\n",
       "      <td>0.666667</td>\n",
       "      <td>0.333333</td>\n",
       "      <td>1222.0</td>\n",
       "    </tr>\n",
       "    <tr>\n",
       "      <th>6194</th>\n",
       "      <td>Bondi Beach</td>\n",
       "      <td>151.273411</td>\n",
       "      <td>-33.888113</td>\n",
       "      <td>NaN</td>\n",
       "      <td>0</td>\n",
       "      <td>10</td>\n",
       "      <td>0.0</td>\n",
       "      <td>0.0</td>\n",
       "      <td>2</td>\n",
       "      <td>1.0</td>\n",
       "      <td>1.0</td>\n",
       "      <td>1.0</td>\n",
       "      <td>Apartment</td>\n",
       "      <td>Private room</td>\n",
       "      <td>0</td>\n",
       "      <td>1</td>\n",
       "      <td>0</td>\n",
       "      <td>2015-08-14</td>\n",
       "      <td>moderate</td>\n",
       "      <td>0.500000</td>\n",
       "      <td>0.500000</td>\n",
       "      <td>1271.0</td>\n",
       "    </tr>\n",
       "  </tbody>\n",
       "</table>\n",
       "</div>"
      ],
      "text/plain": [
       "             city   longitude   latitude  review_scores_rating  \\\n",
       "5594     Randwick  151.238806 -33.913834                   NaN   \n",
       "5439      Newtown  151.184469 -33.894582                   NaN   \n",
       "3847  Bondi Beach  151.273077 -33.895142                   NaN   \n",
       "1312     Randwick  151.245793 -33.920622                   NaN   \n",
       "6194  Bondi Beach  151.273411 -33.888113                   NaN   \n",
       "\n",
       "      number_of_reviews  minimum_nights  security_deposit  cleaning_fee  \\\n",
       "5594                  0               2             800.0          80.0   \n",
       "5439                  0               3            5000.0         100.0   \n",
       "3847                  0               7             271.0          27.0   \n",
       "1312                  0               3               0.0          80.0   \n",
       "6194                  0              10               0.0           0.0   \n",
       "\n",
       "      accommodates  bathrooms  bedrooms  beds property_type        room_type  \\\n",
       "5594             6        1.0       3.0   3.0         House  Entire home/apt   \n",
       "5439            11        2.0       3.0   4.0     Apartment  Entire home/apt   \n",
       "3847             2        1.0       1.0   1.0     Apartment     Private room   \n",
       "1312             3        1.0       2.0   2.0     Apartment  Entire home/apt   \n",
       "6194             2        1.0       1.0   1.0     Apartment     Private room   \n",
       "\n",
       "      availability_365  host_identity_verified  host_is_superhost host_since  \\\n",
       "5594                 0                       0                  0 2013-11-27   \n",
       "5439                 0                       1                  0 2014-07-16   \n",
       "3847                 0                       0                  0 2015-12-07   \n",
       "1312                 0                       0                  0 2015-10-02   \n",
       "6194                 0                       1                  0 2015-08-14   \n",
       "\n",
       "              cancellation_policy  bedrooms_per_person  bathrooms_per_person  \\\n",
       "5594                     moderate             0.500000              0.166667   \n",
       "5439  strict_14_with_grace_period             0.272727              0.181818   \n",
       "3847  strict_14_with_grace_period             0.500000              0.500000   \n",
       "1312  strict_14_with_grace_period             0.666667              0.333333   \n",
       "6194                     moderate             0.500000              0.500000   \n",
       "\n",
       "      days_on_airbnb  \n",
       "5594          1896.0  \n",
       "5439          1665.0  \n",
       "3847          1156.0  \n",
       "1312          1222.0  \n",
       "6194          1271.0  "
      ]
     },
     "execution_count": 57,
     "metadata": {},
     "output_type": "execute_result"
    }
   ],
   "source": [
    "sample_incomplete_rows = X[X.isnull().any(axis=1)].head()\n",
    "print(sample_incomplete_rows.shape)\n",
    "sample_incomplete_rows"
   ]
  },
  {
   "cell_type": "code",
   "execution_count": 58,
   "metadata": {},
   "outputs": [
    {
     "data": {
      "text/html": [
       "<div>\n",
       "<style scoped>\n",
       "    .dataframe tbody tr th:only-of-type {\n",
       "        vertical-align: middle;\n",
       "    }\n",
       "\n",
       "    .dataframe tbody tr th {\n",
       "        vertical-align: top;\n",
       "    }\n",
       "\n",
       "    .dataframe thead th {\n",
       "        text-align: right;\n",
       "    }\n",
       "</style>\n",
       "<table border=\"1\" class=\"dataframe\">\n",
       "  <thead>\n",
       "    <tr style=\"text-align: right;\">\n",
       "      <th></th>\n",
       "      <th>city</th>\n",
       "      <th>longitude</th>\n",
       "      <th>latitude</th>\n",
       "      <th>review_scores_rating</th>\n",
       "      <th>number_of_reviews</th>\n",
       "      <th>minimum_nights</th>\n",
       "      <th>security_deposit</th>\n",
       "      <th>cleaning_fee</th>\n",
       "      <th>accommodates</th>\n",
       "      <th>bathrooms</th>\n",
       "      <th>bedrooms</th>\n",
       "      <th>beds</th>\n",
       "      <th>property_type</th>\n",
       "      <th>room_type</th>\n",
       "      <th>availability_365</th>\n",
       "      <th>host_identity_verified</th>\n",
       "      <th>host_is_superhost</th>\n",
       "      <th>host_since</th>\n",
       "      <th>cancellation_policy</th>\n",
       "      <th>bedrooms_per_person</th>\n",
       "      <th>bathrooms_per_person</th>\n",
       "      <th>days_on_airbnb</th>\n",
       "    </tr>\n",
       "  </thead>\n",
       "  <tbody>\n",
       "  </tbody>\n",
       "</table>\n",
       "</div>"
      ],
      "text/plain": [
       "Empty DataFrame\n",
       "Columns: [city, longitude, latitude, review_scores_rating, number_of_reviews, minimum_nights, security_deposit, cleaning_fee, accommodates, bathrooms, bedrooms, beds, property_type, room_type, availability_365, host_identity_verified, host_is_superhost, host_since, cancellation_policy, bedrooms_per_person, bathrooms_per_person, days_on_airbnb]\n",
       "Index: []"
      ]
     },
     "execution_count": 58,
     "metadata": {},
     "output_type": "execute_result"
    }
   ],
   "source": [
    "# Rows Remove\n",
    "sample_incomplete_rows.dropna(subset=[\"review_scores_rating\"])    # option 1"
   ]
  },
  {
   "cell_type": "code",
   "execution_count": 59,
   "metadata": {},
   "outputs": [
    {
     "data": {
      "text/html": [
       "<div>\n",
       "<style scoped>\n",
       "    .dataframe tbody tr th:only-of-type {\n",
       "        vertical-align: middle;\n",
       "    }\n",
       "\n",
       "    .dataframe tbody tr th {\n",
       "        vertical-align: top;\n",
       "    }\n",
       "\n",
       "    .dataframe thead th {\n",
       "        text-align: right;\n",
       "    }\n",
       "</style>\n",
       "<table border=\"1\" class=\"dataframe\">\n",
       "  <thead>\n",
       "    <tr style=\"text-align: right;\">\n",
       "      <th></th>\n",
       "      <th>city</th>\n",
       "      <th>longitude</th>\n",
       "      <th>latitude</th>\n",
       "      <th>number_of_reviews</th>\n",
       "      <th>minimum_nights</th>\n",
       "      <th>security_deposit</th>\n",
       "      <th>cleaning_fee</th>\n",
       "      <th>accommodates</th>\n",
       "      <th>bathrooms</th>\n",
       "      <th>bedrooms</th>\n",
       "      <th>beds</th>\n",
       "      <th>property_type</th>\n",
       "      <th>room_type</th>\n",
       "      <th>availability_365</th>\n",
       "      <th>host_identity_verified</th>\n",
       "      <th>host_is_superhost</th>\n",
       "      <th>host_since</th>\n",
       "      <th>cancellation_policy</th>\n",
       "      <th>bedrooms_per_person</th>\n",
       "      <th>bathrooms_per_person</th>\n",
       "      <th>days_on_airbnb</th>\n",
       "    </tr>\n",
       "  </thead>\n",
       "  <tbody>\n",
       "    <tr>\n",
       "      <th>5594</th>\n",
       "      <td>Randwick</td>\n",
       "      <td>151.238806</td>\n",
       "      <td>-33.913834</td>\n",
       "      <td>0</td>\n",
       "      <td>2</td>\n",
       "      <td>800.0</td>\n",
       "      <td>80.0</td>\n",
       "      <td>6</td>\n",
       "      <td>1.0</td>\n",
       "      <td>3.0</td>\n",
       "      <td>3.0</td>\n",
       "      <td>House</td>\n",
       "      <td>Entire home/apt</td>\n",
       "      <td>0</td>\n",
       "      <td>0</td>\n",
       "      <td>0</td>\n",
       "      <td>2013-11-27</td>\n",
       "      <td>moderate</td>\n",
       "      <td>0.500000</td>\n",
       "      <td>0.166667</td>\n",
       "      <td>1896.0</td>\n",
       "    </tr>\n",
       "    <tr>\n",
       "      <th>5439</th>\n",
       "      <td>Newtown</td>\n",
       "      <td>151.184469</td>\n",
       "      <td>-33.894582</td>\n",
       "      <td>0</td>\n",
       "      <td>3</td>\n",
       "      <td>5000.0</td>\n",
       "      <td>100.0</td>\n",
       "      <td>11</td>\n",
       "      <td>2.0</td>\n",
       "      <td>3.0</td>\n",
       "      <td>4.0</td>\n",
       "      <td>Apartment</td>\n",
       "      <td>Entire home/apt</td>\n",
       "      <td>0</td>\n",
       "      <td>1</td>\n",
       "      <td>0</td>\n",
       "      <td>2014-07-16</td>\n",
       "      <td>strict_14_with_grace_period</td>\n",
       "      <td>0.272727</td>\n",
       "      <td>0.181818</td>\n",
       "      <td>1665.0</td>\n",
       "    </tr>\n",
       "    <tr>\n",
       "      <th>3847</th>\n",
       "      <td>Bondi Beach</td>\n",
       "      <td>151.273077</td>\n",
       "      <td>-33.895142</td>\n",
       "      <td>0</td>\n",
       "      <td>7</td>\n",
       "      <td>271.0</td>\n",
       "      <td>27.0</td>\n",
       "      <td>2</td>\n",
       "      <td>1.0</td>\n",
       "      <td>1.0</td>\n",
       "      <td>1.0</td>\n",
       "      <td>Apartment</td>\n",
       "      <td>Private room</td>\n",
       "      <td>0</td>\n",
       "      <td>0</td>\n",
       "      <td>0</td>\n",
       "      <td>2015-12-07</td>\n",
       "      <td>strict_14_with_grace_period</td>\n",
       "      <td>0.500000</td>\n",
       "      <td>0.500000</td>\n",
       "      <td>1156.0</td>\n",
       "    </tr>\n",
       "    <tr>\n",
       "      <th>1312</th>\n",
       "      <td>Randwick</td>\n",
       "      <td>151.245793</td>\n",
       "      <td>-33.920622</td>\n",
       "      <td>0</td>\n",
       "      <td>3</td>\n",
       "      <td>0.0</td>\n",
       "      <td>80.0</td>\n",
       "      <td>3</td>\n",
       "      <td>1.0</td>\n",
       "      <td>2.0</td>\n",
       "      <td>2.0</td>\n",
       "      <td>Apartment</td>\n",
       "      <td>Entire home/apt</td>\n",
       "      <td>0</td>\n",
       "      <td>0</td>\n",
       "      <td>0</td>\n",
       "      <td>2015-10-02</td>\n",
       "      <td>strict_14_with_grace_period</td>\n",
       "      <td>0.666667</td>\n",
       "      <td>0.333333</td>\n",
       "      <td>1222.0</td>\n",
       "    </tr>\n",
       "    <tr>\n",
       "      <th>6194</th>\n",
       "      <td>Bondi Beach</td>\n",
       "      <td>151.273411</td>\n",
       "      <td>-33.888113</td>\n",
       "      <td>0</td>\n",
       "      <td>10</td>\n",
       "      <td>0.0</td>\n",
       "      <td>0.0</td>\n",
       "      <td>2</td>\n",
       "      <td>1.0</td>\n",
       "      <td>1.0</td>\n",
       "      <td>1.0</td>\n",
       "      <td>Apartment</td>\n",
       "      <td>Private room</td>\n",
       "      <td>0</td>\n",
       "      <td>1</td>\n",
       "      <td>0</td>\n",
       "      <td>2015-08-14</td>\n",
       "      <td>moderate</td>\n",
       "      <td>0.500000</td>\n",
       "      <td>0.500000</td>\n",
       "      <td>1271.0</td>\n",
       "    </tr>\n",
       "  </tbody>\n",
       "</table>\n",
       "</div>"
      ],
      "text/plain": [
       "             city   longitude   latitude  number_of_reviews  minimum_nights  \\\n",
       "5594     Randwick  151.238806 -33.913834                  0               2   \n",
       "5439      Newtown  151.184469 -33.894582                  0               3   \n",
       "3847  Bondi Beach  151.273077 -33.895142                  0               7   \n",
       "1312     Randwick  151.245793 -33.920622                  0               3   \n",
       "6194  Bondi Beach  151.273411 -33.888113                  0              10   \n",
       "\n",
       "      security_deposit  cleaning_fee  accommodates  bathrooms  bedrooms  beds  \\\n",
       "5594             800.0          80.0             6        1.0       3.0   3.0   \n",
       "5439            5000.0         100.0            11        2.0       3.0   4.0   \n",
       "3847             271.0          27.0             2        1.0       1.0   1.0   \n",
       "1312               0.0          80.0             3        1.0       2.0   2.0   \n",
       "6194               0.0           0.0             2        1.0       1.0   1.0   \n",
       "\n",
       "     property_type        room_type  availability_365  host_identity_verified  \\\n",
       "5594         House  Entire home/apt                 0                       0   \n",
       "5439     Apartment  Entire home/apt                 0                       1   \n",
       "3847     Apartment     Private room                 0                       0   \n",
       "1312     Apartment  Entire home/apt                 0                       0   \n",
       "6194     Apartment     Private room                 0                       1   \n",
       "\n",
       "      host_is_superhost host_since          cancellation_policy  \\\n",
       "5594                  0 2013-11-27                     moderate   \n",
       "5439                  0 2014-07-16  strict_14_with_grace_period   \n",
       "3847                  0 2015-12-07  strict_14_with_grace_period   \n",
       "1312                  0 2015-10-02  strict_14_with_grace_period   \n",
       "6194                  0 2015-08-14                     moderate   \n",
       "\n",
       "      bedrooms_per_person  bathrooms_per_person  days_on_airbnb  \n",
       "5594             0.500000              0.166667          1896.0  \n",
       "5439             0.272727              0.181818          1665.0  \n",
       "3847             0.500000              0.500000          1156.0  \n",
       "1312             0.666667              0.333333          1222.0  \n",
       "6194             0.500000              0.500000          1271.0  "
      ]
     },
     "execution_count": 59,
     "metadata": {},
     "output_type": "execute_result"
    }
   ],
   "source": [
    "# Columns Remove\n",
    "sample_incomplete_rows.drop([\"review_scores_rating\"], axis=1)       # option 2"
   ]
  },
  {
   "cell_type": "code",
   "execution_count": 60,
   "metadata": {},
   "outputs": [
    {
     "data": {
      "text/html": [
       "<div>\n",
       "<style scoped>\n",
       "    .dataframe tbody tr th:only-of-type {\n",
       "        vertical-align: middle;\n",
       "    }\n",
       "\n",
       "    .dataframe tbody tr th {\n",
       "        vertical-align: top;\n",
       "    }\n",
       "\n",
       "    .dataframe thead th {\n",
       "        text-align: right;\n",
       "    }\n",
       "</style>\n",
       "<table border=\"1\" class=\"dataframe\">\n",
       "  <thead>\n",
       "    <tr style=\"text-align: right;\">\n",
       "      <th></th>\n",
       "      <th>city</th>\n",
       "      <th>longitude</th>\n",
       "      <th>latitude</th>\n",
       "      <th>review_scores_rating</th>\n",
       "      <th>number_of_reviews</th>\n",
       "      <th>minimum_nights</th>\n",
       "      <th>security_deposit</th>\n",
       "      <th>cleaning_fee</th>\n",
       "      <th>accommodates</th>\n",
       "      <th>bathrooms</th>\n",
       "      <th>bedrooms</th>\n",
       "      <th>beds</th>\n",
       "      <th>property_type</th>\n",
       "      <th>room_type</th>\n",
       "      <th>availability_365</th>\n",
       "      <th>host_identity_verified</th>\n",
       "      <th>host_is_superhost</th>\n",
       "      <th>host_since</th>\n",
       "      <th>cancellation_policy</th>\n",
       "      <th>bedrooms_per_person</th>\n",
       "      <th>bathrooms_per_person</th>\n",
       "      <th>days_on_airbnb</th>\n",
       "    </tr>\n",
       "  </thead>\n",
       "  <tbody>\n",
       "    <tr>\n",
       "      <th>5594</th>\n",
       "      <td>Randwick</td>\n",
       "      <td>151.238806</td>\n",
       "      <td>-33.913834</td>\n",
       "      <td>96.0</td>\n",
       "      <td>0</td>\n",
       "      <td>2</td>\n",
       "      <td>800.0</td>\n",
       "      <td>80.0</td>\n",
       "      <td>6</td>\n",
       "      <td>1.0</td>\n",
       "      <td>3.0</td>\n",
       "      <td>3.0</td>\n",
       "      <td>House</td>\n",
       "      <td>Entire home/apt</td>\n",
       "      <td>0</td>\n",
       "      <td>0</td>\n",
       "      <td>0</td>\n",
       "      <td>2013-11-27</td>\n",
       "      <td>moderate</td>\n",
       "      <td>0.500000</td>\n",
       "      <td>0.166667</td>\n",
       "      <td>1896.0</td>\n",
       "    </tr>\n",
       "    <tr>\n",
       "      <th>5439</th>\n",
       "      <td>Newtown</td>\n",
       "      <td>151.184469</td>\n",
       "      <td>-33.894582</td>\n",
       "      <td>96.0</td>\n",
       "      <td>0</td>\n",
       "      <td>3</td>\n",
       "      <td>5000.0</td>\n",
       "      <td>100.0</td>\n",
       "      <td>11</td>\n",
       "      <td>2.0</td>\n",
       "      <td>3.0</td>\n",
       "      <td>4.0</td>\n",
       "      <td>Apartment</td>\n",
       "      <td>Entire home/apt</td>\n",
       "      <td>0</td>\n",
       "      <td>1</td>\n",
       "      <td>0</td>\n",
       "      <td>2014-07-16</td>\n",
       "      <td>strict_14_with_grace_period</td>\n",
       "      <td>0.272727</td>\n",
       "      <td>0.181818</td>\n",
       "      <td>1665.0</td>\n",
       "    </tr>\n",
       "    <tr>\n",
       "      <th>3847</th>\n",
       "      <td>Bondi Beach</td>\n",
       "      <td>151.273077</td>\n",
       "      <td>-33.895142</td>\n",
       "      <td>96.0</td>\n",
       "      <td>0</td>\n",
       "      <td>7</td>\n",
       "      <td>271.0</td>\n",
       "      <td>27.0</td>\n",
       "      <td>2</td>\n",
       "      <td>1.0</td>\n",
       "      <td>1.0</td>\n",
       "      <td>1.0</td>\n",
       "      <td>Apartment</td>\n",
       "      <td>Private room</td>\n",
       "      <td>0</td>\n",
       "      <td>0</td>\n",
       "      <td>0</td>\n",
       "      <td>2015-12-07</td>\n",
       "      <td>strict_14_with_grace_period</td>\n",
       "      <td>0.500000</td>\n",
       "      <td>0.500000</td>\n",
       "      <td>1156.0</td>\n",
       "    </tr>\n",
       "    <tr>\n",
       "      <th>1312</th>\n",
       "      <td>Randwick</td>\n",
       "      <td>151.245793</td>\n",
       "      <td>-33.920622</td>\n",
       "      <td>96.0</td>\n",
       "      <td>0</td>\n",
       "      <td>3</td>\n",
       "      <td>0.0</td>\n",
       "      <td>80.0</td>\n",
       "      <td>3</td>\n",
       "      <td>1.0</td>\n",
       "      <td>2.0</td>\n",
       "      <td>2.0</td>\n",
       "      <td>Apartment</td>\n",
       "      <td>Entire home/apt</td>\n",
       "      <td>0</td>\n",
       "      <td>0</td>\n",
       "      <td>0</td>\n",
       "      <td>2015-10-02</td>\n",
       "      <td>strict_14_with_grace_period</td>\n",
       "      <td>0.666667</td>\n",
       "      <td>0.333333</td>\n",
       "      <td>1222.0</td>\n",
       "    </tr>\n",
       "    <tr>\n",
       "      <th>6194</th>\n",
       "      <td>Bondi Beach</td>\n",
       "      <td>151.273411</td>\n",
       "      <td>-33.888113</td>\n",
       "      <td>96.0</td>\n",
       "      <td>0</td>\n",
       "      <td>10</td>\n",
       "      <td>0.0</td>\n",
       "      <td>0.0</td>\n",
       "      <td>2</td>\n",
       "      <td>1.0</td>\n",
       "      <td>1.0</td>\n",
       "      <td>1.0</td>\n",
       "      <td>Apartment</td>\n",
       "      <td>Private room</td>\n",
       "      <td>0</td>\n",
       "      <td>1</td>\n",
       "      <td>0</td>\n",
       "      <td>2015-08-14</td>\n",
       "      <td>moderate</td>\n",
       "      <td>0.500000</td>\n",
       "      <td>0.500000</td>\n",
       "      <td>1271.0</td>\n",
       "    </tr>\n",
       "  </tbody>\n",
       "</table>\n",
       "</div>"
      ],
      "text/plain": [
       "             city   longitude   latitude  review_scores_rating  \\\n",
       "5594     Randwick  151.238806 -33.913834                  96.0   \n",
       "5439      Newtown  151.184469 -33.894582                  96.0   \n",
       "3847  Bondi Beach  151.273077 -33.895142                  96.0   \n",
       "1312     Randwick  151.245793 -33.920622                  96.0   \n",
       "6194  Bondi Beach  151.273411 -33.888113                  96.0   \n",
       "\n",
       "      number_of_reviews  minimum_nights  security_deposit  cleaning_fee  \\\n",
       "5594                  0               2             800.0          80.0   \n",
       "5439                  0               3            5000.0         100.0   \n",
       "3847                  0               7             271.0          27.0   \n",
       "1312                  0               3               0.0          80.0   \n",
       "6194                  0              10               0.0           0.0   \n",
       "\n",
       "      accommodates  bathrooms  bedrooms  beds property_type        room_type  \\\n",
       "5594             6        1.0       3.0   3.0         House  Entire home/apt   \n",
       "5439            11        2.0       3.0   4.0     Apartment  Entire home/apt   \n",
       "3847             2        1.0       1.0   1.0     Apartment     Private room   \n",
       "1312             3        1.0       2.0   2.0     Apartment  Entire home/apt   \n",
       "6194             2        1.0       1.0   1.0     Apartment     Private room   \n",
       "\n",
       "      availability_365  host_identity_verified  host_is_superhost host_since  \\\n",
       "5594                 0                       0                  0 2013-11-27   \n",
       "5439                 0                       1                  0 2014-07-16   \n",
       "3847                 0                       0                  0 2015-12-07   \n",
       "1312                 0                       0                  0 2015-10-02   \n",
       "6194                 0                       1                  0 2015-08-14   \n",
       "\n",
       "              cancellation_policy  bedrooms_per_person  bathrooms_per_person  \\\n",
       "5594                     moderate             0.500000              0.166667   \n",
       "5439  strict_14_with_grace_period             0.272727              0.181818   \n",
       "3847  strict_14_with_grace_period             0.500000              0.500000   \n",
       "1312  strict_14_with_grace_period             0.666667              0.333333   \n",
       "6194                     moderate             0.500000              0.500000   \n",
       "\n",
       "      days_on_airbnb  \n",
       "5594          1896.0  \n",
       "5439          1665.0  \n",
       "3847          1156.0  \n",
       "1312          1222.0  \n",
       "6194          1271.0  "
      ]
     },
     "execution_count": 60,
     "metadata": {},
     "output_type": "execute_result"
    }
   ],
   "source": [
    "median = X[\"review_scores_rating\"].median()\n",
    "sample_incomplete_rows[\"review_scores_rating\"].fillna(median, inplace=True) # option 3\n",
    "\n",
    "sample_incomplete_rows"
   ]
  },
  {
   "cell_type": "code",
   "execution_count": 61,
   "metadata": {},
   "outputs": [],
   "source": [
    "from sklearn.preprocessing import Imputer\n",
    "\n",
    "imputer = Imputer(strategy=\"median\")"
   ]
  },
  {
   "cell_type": "markdown",
   "metadata": {},
   "source": [
    "Remove the text attribute because median can only be calculated on numerical attributes:"
   ]
  },
  {
   "cell_type": "code",
   "execution_count": 62,
   "metadata": {},
   "outputs": [],
   "source": [
    "cat_cols = [\"city\",\"cancellation_policy\",\"host_since\",\"room_type\",\"property_type\",\"host_since\"]\n",
    "X_num = X.drop(cat_cols, axis=1)\n",
    "# alternatively: X_num = X.select_dtypes(include=[int, float])"
   ]
  },
  {
   "cell_type": "code",
   "execution_count": 63,
   "metadata": {},
   "outputs": [
    {
     "data": {
      "text/plain": [
       "Imputer(axis=0, copy=True, missing_values='NaN', strategy='median', verbose=0)"
      ]
     },
     "execution_count": 63,
     "metadata": {},
     "output_type": "execute_result"
    }
   ],
   "source": [
    "imputer.fit(X_num)"
   ]
  },
  {
   "cell_type": "code",
   "execution_count": 64,
   "metadata": {},
   "outputs": [
    {
     "data": {
      "text/plain": [
       "array([ 1.51259665e+02, -3.38885369e+01,  9.60000000e+01,  3.00000000e+00,\n",
       "        3.00000000e+00,  0.00000000e+00,  5.00000000e+01,  2.00000000e+00,\n",
       "        1.00000000e+00,  1.00000000e+00,  1.00000000e+00,  4.00000000e+00,\n",
       "        1.00000000e+00,  0.00000000e+00,  5.00000000e-01,  5.00000000e-01,\n",
       "        1.53600000e+03])"
      ]
     },
     "execution_count": 64,
     "metadata": {},
     "output_type": "execute_result"
    }
   ],
   "source": [
    "imputer.statistics_"
   ]
  },
  {
   "cell_type": "markdown",
   "metadata": {},
   "source": [
    "Check that this is the same as manually computing the median of each attribute:"
   ]
  },
  {
   "cell_type": "code",
   "execution_count": 65,
   "metadata": {},
   "outputs": [
    {
     "data": {
      "text/plain": [
       "array([ 1.51259665e+02, -3.38885369e+01,  9.60000000e+01,  3.00000000e+00,\n",
       "        3.00000000e+00,  0.00000000e+00,  5.00000000e+01,  2.00000000e+00,\n",
       "        1.00000000e+00,  1.00000000e+00,  1.00000000e+00,  4.00000000e+00,\n",
       "        1.00000000e+00,  0.00000000e+00,  5.00000000e-01,  5.00000000e-01,\n",
       "        1.53600000e+03])"
      ]
     },
     "execution_count": 65,
     "metadata": {},
     "output_type": "execute_result"
    }
   ],
   "source": [
    "X_num.median().values"
   ]
  },
  {
   "cell_type": "markdown",
   "metadata": {},
   "source": [
    "Transform the training set:"
   ]
  },
  {
   "cell_type": "code",
   "execution_count": 66,
   "metadata": {},
   "outputs": [],
   "source": [
    "X_num_np = imputer.transform(X_num)"
   ]
  },
  {
   "cell_type": "code",
   "execution_count": 67,
   "metadata": {},
   "outputs": [],
   "source": [
    "X_num = pd.DataFrame(X_num_np, columns=X_num.columns,\n",
    "                          index = list(X_num.index.values))"
   ]
  },
  {
   "cell_type": "code",
   "execution_count": 68,
   "metadata": {},
   "outputs": [
    {
     "data": {
      "text/html": [
       "<div>\n",
       "<style scoped>\n",
       "    .dataframe tbody tr th:only-of-type {\n",
       "        vertical-align: middle;\n",
       "    }\n",
       "\n",
       "    .dataframe tbody tr th {\n",
       "        vertical-align: top;\n",
       "    }\n",
       "\n",
       "    .dataframe thead th {\n",
       "        text-align: right;\n",
       "    }\n",
       "</style>\n",
       "<table border=\"1\" class=\"dataframe\">\n",
       "  <thead>\n",
       "    <tr style=\"text-align: right;\">\n",
       "      <th></th>\n",
       "      <th>longitude</th>\n",
       "      <th>latitude</th>\n",
       "      <th>review_scores_rating</th>\n",
       "      <th>number_of_reviews</th>\n",
       "      <th>minimum_nights</th>\n",
       "      <th>security_deposit</th>\n",
       "      <th>cleaning_fee</th>\n",
       "      <th>accommodates</th>\n",
       "      <th>bathrooms</th>\n",
       "      <th>bedrooms</th>\n",
       "      <th>beds</th>\n",
       "      <th>availability_365</th>\n",
       "      <th>host_identity_verified</th>\n",
       "      <th>host_is_superhost</th>\n",
       "      <th>bedrooms_per_person</th>\n",
       "      <th>bathrooms_per_person</th>\n",
       "      <th>days_on_airbnb</th>\n",
       "    </tr>\n",
       "  </thead>\n",
       "  <tbody>\n",
       "    <tr>\n",
       "      <th>5594</th>\n",
       "      <td>151.238806</td>\n",
       "      <td>-33.913834</td>\n",
       "      <td>96.0</td>\n",
       "      <td>0.0</td>\n",
       "      <td>2.0</td>\n",
       "      <td>800.0</td>\n",
       "      <td>80.0</td>\n",
       "      <td>6.0</td>\n",
       "      <td>1.0</td>\n",
       "      <td>3.0</td>\n",
       "      <td>3.0</td>\n",
       "      <td>0.0</td>\n",
       "      <td>0.0</td>\n",
       "      <td>0.0</td>\n",
       "      <td>0.500000</td>\n",
       "      <td>0.166667</td>\n",
       "      <td>1896.0</td>\n",
       "    </tr>\n",
       "    <tr>\n",
       "      <th>5439</th>\n",
       "      <td>151.184469</td>\n",
       "      <td>-33.894582</td>\n",
       "      <td>96.0</td>\n",
       "      <td>0.0</td>\n",
       "      <td>3.0</td>\n",
       "      <td>5000.0</td>\n",
       "      <td>100.0</td>\n",
       "      <td>11.0</td>\n",
       "      <td>2.0</td>\n",
       "      <td>3.0</td>\n",
       "      <td>4.0</td>\n",
       "      <td>0.0</td>\n",
       "      <td>1.0</td>\n",
       "      <td>0.0</td>\n",
       "      <td>0.272727</td>\n",
       "      <td>0.181818</td>\n",
       "      <td>1665.0</td>\n",
       "    </tr>\n",
       "    <tr>\n",
       "      <th>3847</th>\n",
       "      <td>151.273077</td>\n",
       "      <td>-33.895142</td>\n",
       "      <td>96.0</td>\n",
       "      <td>0.0</td>\n",
       "      <td>7.0</td>\n",
       "      <td>271.0</td>\n",
       "      <td>27.0</td>\n",
       "      <td>2.0</td>\n",
       "      <td>1.0</td>\n",
       "      <td>1.0</td>\n",
       "      <td>1.0</td>\n",
       "      <td>0.0</td>\n",
       "      <td>0.0</td>\n",
       "      <td>0.0</td>\n",
       "      <td>0.500000</td>\n",
       "      <td>0.500000</td>\n",
       "      <td>1156.0</td>\n",
       "    </tr>\n",
       "    <tr>\n",
       "      <th>1312</th>\n",
       "      <td>151.245793</td>\n",
       "      <td>-33.920622</td>\n",
       "      <td>96.0</td>\n",
       "      <td>0.0</td>\n",
       "      <td>3.0</td>\n",
       "      <td>0.0</td>\n",
       "      <td>80.0</td>\n",
       "      <td>3.0</td>\n",
       "      <td>1.0</td>\n",
       "      <td>2.0</td>\n",
       "      <td>2.0</td>\n",
       "      <td>0.0</td>\n",
       "      <td>0.0</td>\n",
       "      <td>0.0</td>\n",
       "      <td>0.666667</td>\n",
       "      <td>0.333333</td>\n",
       "      <td>1222.0</td>\n",
       "    </tr>\n",
       "    <tr>\n",
       "      <th>6194</th>\n",
       "      <td>151.273411</td>\n",
       "      <td>-33.888113</td>\n",
       "      <td>96.0</td>\n",
       "      <td>0.0</td>\n",
       "      <td>10.0</td>\n",
       "      <td>0.0</td>\n",
       "      <td>0.0</td>\n",
       "      <td>2.0</td>\n",
       "      <td>1.0</td>\n",
       "      <td>1.0</td>\n",
       "      <td>1.0</td>\n",
       "      <td>0.0</td>\n",
       "      <td>1.0</td>\n",
       "      <td>0.0</td>\n",
       "      <td>0.500000</td>\n",
       "      <td>0.500000</td>\n",
       "      <td>1271.0</td>\n",
       "    </tr>\n",
       "  </tbody>\n",
       "</table>\n",
       "</div>"
      ],
      "text/plain": [
       "       longitude   latitude  review_scores_rating  number_of_reviews  \\\n",
       "5594  151.238806 -33.913834                  96.0                0.0   \n",
       "5439  151.184469 -33.894582                  96.0                0.0   \n",
       "3847  151.273077 -33.895142                  96.0                0.0   \n",
       "1312  151.245793 -33.920622                  96.0                0.0   \n",
       "6194  151.273411 -33.888113                  96.0                0.0   \n",
       "\n",
       "      minimum_nights  security_deposit  cleaning_fee  accommodates  bathrooms  \\\n",
       "5594             2.0             800.0          80.0           6.0        1.0   \n",
       "5439             3.0            5000.0         100.0          11.0        2.0   \n",
       "3847             7.0             271.0          27.0           2.0        1.0   \n",
       "1312             3.0               0.0          80.0           3.0        1.0   \n",
       "6194            10.0               0.0           0.0           2.0        1.0   \n",
       "\n",
       "      bedrooms  beds  availability_365  host_identity_verified  \\\n",
       "5594       3.0   3.0               0.0                     0.0   \n",
       "5439       3.0   4.0               0.0                     1.0   \n",
       "3847       1.0   1.0               0.0                     0.0   \n",
       "1312       2.0   2.0               0.0                     0.0   \n",
       "6194       1.0   1.0               0.0                     1.0   \n",
       "\n",
       "      host_is_superhost  bedrooms_per_person  bathrooms_per_person  \\\n",
       "5594                0.0             0.500000              0.166667   \n",
       "5439                0.0             0.272727              0.181818   \n",
       "3847                0.0             0.500000              0.500000   \n",
       "1312                0.0             0.666667              0.333333   \n",
       "6194                0.0             0.500000              0.500000   \n",
       "\n",
       "      days_on_airbnb  \n",
       "5594          1896.0  \n",
       "5439          1665.0  \n",
       "3847          1156.0  \n",
       "1312          1222.0  \n",
       "6194          1271.0  "
      ]
     },
     "execution_count": 68,
     "metadata": {},
     "output_type": "execute_result"
    }
   ],
   "source": [
    "X_num.loc[sample_incomplete_rows.index.values]"
   ]
  },
  {
   "cell_type": "code",
   "execution_count": 69,
   "metadata": {},
   "outputs": [
    {
     "data": {
      "text/plain": [
       "'median'"
      ]
     },
     "execution_count": 69,
     "metadata": {},
     "output_type": "execute_result"
    }
   ],
   "source": [
    "imputer.strategy"
   ]
  },
  {
   "cell_type": "markdown",
   "metadata": {},
   "source": [
    "Now let's preprocess the categorical input feature, `ocean_proximity`:"
   ]
  },
  {
   "cell_type": "code",
   "execution_count": 70,
   "metadata": {},
   "outputs": [
    {
     "data": {
      "text/html": [
       "<div>\n",
       "<style scoped>\n",
       "    .dataframe tbody tr th:only-of-type {\n",
       "        vertical-align: middle;\n",
       "    }\n",
       "\n",
       "    .dataframe tbody tr th {\n",
       "        vertical-align: top;\n",
       "    }\n",
       "\n",
       "    .dataframe thead th {\n",
       "        text-align: right;\n",
       "    }\n",
       "</style>\n",
       "<table border=\"1\" class=\"dataframe\">\n",
       "  <thead>\n",
       "    <tr style=\"text-align: right;\">\n",
       "      <th></th>\n",
       "      <th>city</th>\n",
       "      <th>property_type</th>\n",
       "      <th>room_type</th>\n",
       "      <th>cancellation_policy</th>\n",
       "    </tr>\n",
       "  </thead>\n",
       "  <tbody>\n",
       "    <tr>\n",
       "      <th>5484</th>\n",
       "      <td>Newtown</td>\n",
       "      <td>House</td>\n",
       "      <td>Entire home/apt</td>\n",
       "      <td>moderate</td>\n",
       "    </tr>\n",
       "    <tr>\n",
       "      <th>1267</th>\n",
       "      <td>Randwick</td>\n",
       "      <td>Apartment</td>\n",
       "      <td>Private room</td>\n",
       "      <td>moderate</td>\n",
       "    </tr>\n",
       "    <tr>\n",
       "      <th>6658</th>\n",
       "      <td>Manly</td>\n",
       "      <td>Apartment</td>\n",
       "      <td>Entire home/apt</td>\n",
       "      <td>strict_14_with_grace_period</td>\n",
       "    </tr>\n",
       "    <tr>\n",
       "      <th>2522</th>\n",
       "      <td>Randwick</td>\n",
       "      <td>Apartment</td>\n",
       "      <td>Private room</td>\n",
       "      <td>flexible</td>\n",
       "    </tr>\n",
       "    <tr>\n",
       "      <th>722</th>\n",
       "      <td>Coogee</td>\n",
       "      <td>Apartment</td>\n",
       "      <td>Private room</td>\n",
       "      <td>strict_14_with_grace_period</td>\n",
       "    </tr>\n",
       "    <tr>\n",
       "      <th>3150</th>\n",
       "      <td>Manly</td>\n",
       "      <td>Apartment</td>\n",
       "      <td>Entire home/apt</td>\n",
       "      <td>strict_14_with_grace_period</td>\n",
       "    </tr>\n",
       "    <tr>\n",
       "      <th>2865</th>\n",
       "      <td>Surry Hills</td>\n",
       "      <td>Apartment</td>\n",
       "      <td>Entire home/apt</td>\n",
       "      <td>strict_14_with_grace_period</td>\n",
       "    </tr>\n",
       "    <tr>\n",
       "      <th>4906</th>\n",
       "      <td>Bondi Beach</td>\n",
       "      <td>Apartment</td>\n",
       "      <td>Entire home/apt</td>\n",
       "      <td>strict_14_with_grace_period</td>\n",
       "    </tr>\n",
       "    <tr>\n",
       "      <th>575</th>\n",
       "      <td>Coogee</td>\n",
       "      <td>Apartment</td>\n",
       "      <td>Entire home/apt</td>\n",
       "      <td>strict_14_with_grace_period</td>\n",
       "    </tr>\n",
       "    <tr>\n",
       "      <th>5827</th>\n",
       "      <td>Newtown</td>\n",
       "      <td>House</td>\n",
       "      <td>Private room</td>\n",
       "      <td>flexible</td>\n",
       "    </tr>\n",
       "  </tbody>\n",
       "</table>\n",
       "</div>"
      ],
      "text/plain": [
       "             city property_type        room_type          cancellation_policy\n",
       "5484      Newtown         House  Entire home/apt                     moderate\n",
       "1267     Randwick     Apartment     Private room                     moderate\n",
       "6658        Manly     Apartment  Entire home/apt  strict_14_with_grace_period\n",
       "2522     Randwick     Apartment     Private room                     flexible\n",
       "722        Coogee     Apartment     Private room  strict_14_with_grace_period\n",
       "3150        Manly     Apartment  Entire home/apt  strict_14_with_grace_period\n",
       "2865  Surry Hills     Apartment  Entire home/apt  strict_14_with_grace_period\n",
       "4906  Bondi Beach     Apartment  Entire home/apt  strict_14_with_grace_period\n",
       "575        Coogee     Apartment  Entire home/apt  strict_14_with_grace_period\n",
       "5827      Newtown         House     Private room                     flexible"
      ]
     },
     "execution_count": 70,
     "metadata": {},
     "output_type": "execute_result"
    }
   ],
   "source": [
    "X_cat = X.select_dtypes(include=[object])\n",
    "X_cat.head(10)"
   ]
  },
  {
   "cell_type": "markdown",
   "metadata": {},
   "source": [
    "**Warning**: earlier versions of the book used the `LabelEncoder` class or Pandas' `Series.factorize()` method to encode string categorical attributes as integers. However, the `OrdinalEncoder` class that is planned to be introduced in Scikit-Learn 0.20 (see [PR #10521](https://github.com/scikit-learn/scikit-learn/issues/10521)) is preferable since it is designed for input features (`X` instead of labels `y`) and it plays well with pipelines (introduced later in this notebook). For now, we will import it from `future_encoders.py`, but once it is available you can import it directly from `sklearn.preprocessing`."
   ]
  },
  {
   "cell_type": "code",
   "execution_count": 71,
   "metadata": {},
   "outputs": [],
   "source": [
    "from future_encoders import OrdinalEncoder"
   ]
  },
  {
   "cell_type": "code",
   "execution_count": 72,
   "metadata": {},
   "outputs": [
    {
     "data": {
      "text/html": [
       "<div>\n",
       "<style scoped>\n",
       "    .dataframe tbody tr th:only-of-type {\n",
       "        vertical-align: middle;\n",
       "    }\n",
       "\n",
       "    .dataframe tbody tr th {\n",
       "        vertical-align: top;\n",
       "    }\n",
       "\n",
       "    .dataframe thead th {\n",
       "        text-align: right;\n",
       "    }\n",
       "</style>\n",
       "<table border=\"1\" class=\"dataframe\">\n",
       "  <thead>\n",
       "    <tr style=\"text-align: right;\">\n",
       "      <th></th>\n",
       "      <th>city</th>\n",
       "      <th>property_type</th>\n",
       "      <th>room_type</th>\n",
       "      <th>cancellation_policy</th>\n",
       "    </tr>\n",
       "  </thead>\n",
       "  <tbody>\n",
       "    <tr>\n",
       "      <th>5484</th>\n",
       "      <td>Newtown</td>\n",
       "      <td>House</td>\n",
       "      <td>Entire home/apt</td>\n",
       "      <td>moderate</td>\n",
       "    </tr>\n",
       "    <tr>\n",
       "      <th>1267</th>\n",
       "      <td>Randwick</td>\n",
       "      <td>Apartment</td>\n",
       "      <td>Private room</td>\n",
       "      <td>moderate</td>\n",
       "    </tr>\n",
       "    <tr>\n",
       "      <th>6658</th>\n",
       "      <td>Manly</td>\n",
       "      <td>Apartment</td>\n",
       "      <td>Entire home/apt</td>\n",
       "      <td>strict_14_with_grace_period</td>\n",
       "    </tr>\n",
       "    <tr>\n",
       "      <th>2522</th>\n",
       "      <td>Randwick</td>\n",
       "      <td>Apartment</td>\n",
       "      <td>Private room</td>\n",
       "      <td>flexible</td>\n",
       "    </tr>\n",
       "    <tr>\n",
       "      <th>722</th>\n",
       "      <td>Coogee</td>\n",
       "      <td>Apartment</td>\n",
       "      <td>Private room</td>\n",
       "      <td>strict_14_with_grace_period</td>\n",
       "    </tr>\n",
       "  </tbody>\n",
       "</table>\n",
       "</div>"
      ],
      "text/plain": [
       "          city property_type        room_type          cancellation_policy\n",
       "5484   Newtown         House  Entire home/apt                     moderate\n",
       "1267  Randwick     Apartment     Private room                     moderate\n",
       "6658     Manly     Apartment  Entire home/apt  strict_14_with_grace_period\n",
       "2522  Randwick     Apartment     Private room                     flexible\n",
       "722     Coogee     Apartment     Private room  strict_14_with_grace_period"
      ]
     },
     "execution_count": 72,
     "metadata": {},
     "output_type": "execute_result"
    }
   ],
   "source": [
    "X_cat.head()"
   ]
  },
  {
   "cell_type": "code",
   "execution_count": 73,
   "metadata": {},
   "outputs": [
    {
     "data": {
      "text/plain": [
       "array([[5., 6., 0., 1.],\n",
       "       [7., 0., 1., 1.],\n",
       "       [4., 0., 0., 2.],\n",
       "       [7., 0., 1., 0.],\n",
       "       [2., 0., 1., 2.],\n",
       "       [4., 0., 0., 2.],\n",
       "       [8., 0., 0., 2.],\n",
       "       [1., 0., 0., 2.],\n",
       "       [2., 0., 0., 2.],\n",
       "       [5., 6., 1., 0.]])"
      ]
     },
     "execution_count": 73,
     "metadata": {},
     "output_type": "execute_result"
    }
   ],
   "source": [
    "ordinal_encoder = OrdinalEncoder()\n",
    "X_cat_enc = ordinal_encoder.fit_transform(X_cat)\n",
    "X_cat_enc[:10]"
   ]
  },
  {
   "cell_type": "code",
   "execution_count": 74,
   "metadata": {},
   "outputs": [
    {
     "data": {
      "text/plain": [
       "[array(['Bondi', 'Bondi Beach', 'Coogee', 'Darlinghurst', 'Manly',\n",
       "        'Newtown', 'North Bondi', 'Randwick', 'Surry Hills', 'Sydney'],\n",
       "       dtype=object),\n",
       " array(['Apartment', 'Bed and breakfast', 'Condominium', 'Guest suite',\n",
       "        'Guesthouse', 'Hostel', 'House', 'Loft', 'Other',\n",
       "        'Serviced apartment', 'Townhouse', 'Villa'], dtype=object),\n",
       " array(['Entire home/apt', 'Private room', 'Shared room'], dtype=object),\n",
       " array(['flexible', 'moderate', 'strict_14_with_grace_period',\n",
       "        'super_strict_60'], dtype=object)]"
      ]
     },
     "execution_count": 74,
     "metadata": {},
     "output_type": "execute_result"
    }
   ],
   "source": [
    "ordinal_encoder.categories_"
   ]
  },
  {
   "cell_type": "markdown",
   "metadata": {},
   "source": [
    "**Warning**: earlier versions of the book used the `LabelBinarizer` or `CategoricalEncoder` classes to convert each categorical value to a one-hot vector. It is now preferable to use the `OneHotEncoder` class. Right now it can only handle integer categorical inputs, but in Scikit-Learn 0.20 it will also handle string categorical inputs (see [PR #10521](https://github.com/scikit-learn/scikit-learn/issues/10521)). So for now we import it from `future_encoders.py`, but when Scikit-Learn 0.20 is released, you can import it from `sklearn.preprocessing` instead:"
   ]
  },
  {
   "cell_type": "code",
   "execution_count": 75,
   "metadata": {},
   "outputs": [
    {
     "data": {
      "text/plain": [
       "<6485x29 sparse matrix of type '<class 'numpy.float64'>'\n",
       "\twith 25940 stored elements in Compressed Sparse Row format>"
      ]
     },
     "execution_count": 75,
     "metadata": {},
     "output_type": "execute_result"
    }
   ],
   "source": [
    "from future_encoders import OneHotEncoder\n",
    "\n",
    "cat_encoder = OneHotEncoder()\n",
    "X_cat_1hot = cat_encoder.fit_transform(X_cat)\n",
    "X_cat_1hot"
   ]
  },
  {
   "cell_type": "markdown",
   "metadata": {},
   "source": [
    "By default, the `OneHotEncoder` class returns a sparse array, but we can convert it to a dense array if needed by calling the `toarray()` method:"
   ]
  },
  {
   "cell_type": "code",
   "execution_count": 76,
   "metadata": {},
   "outputs": [
    {
     "data": {
      "text/plain": [
       "array([[0., 0., 0., ..., 1., 0., 0.],\n",
       "       [0., 0., 0., ..., 1., 0., 0.],\n",
       "       [0., 0., 0., ..., 0., 1., 0.],\n",
       "       ...,\n",
       "       [1., 0., 0., ..., 1., 0., 0.],\n",
       "       [0., 0., 0., ..., 0., 1., 0.],\n",
       "       [0., 0., 1., ..., 0., 1., 0.]])"
      ]
     },
     "execution_count": 76,
     "metadata": {},
     "output_type": "execute_result"
    }
   ],
   "source": [
    "X_cat_1hot.toarray()"
   ]
  },
  {
   "cell_type": "markdown",
   "metadata": {},
   "source": [
    "Alternatively, you can set `sparse=False` when creating the `OneHotEncoder`:"
   ]
  },
  {
   "cell_type": "code",
   "execution_count": 77,
   "metadata": {},
   "outputs": [
    {
     "data": {
      "text/plain": [
       "array([[0., 0., 0., ..., 1., 0., 0.],\n",
       "       [0., 0., 0., ..., 1., 0., 0.],\n",
       "       [0., 0., 0., ..., 0., 1., 0.],\n",
       "       ...,\n",
       "       [1., 0., 0., ..., 1., 0., 0.],\n",
       "       [0., 0., 0., ..., 0., 1., 0.],\n",
       "       [0., 0., 1., ..., 0., 1., 0.]])"
      ]
     },
     "execution_count": 77,
     "metadata": {},
     "output_type": "execute_result"
    }
   ],
   "source": [
    "cat_encoder = OneHotEncoder(sparse=False)\n",
    "X_cat_1hot = cat_encoder.fit_transform(X_cat)\n",
    "X_cat_1hot"
   ]
  },
  {
   "cell_type": "code",
   "execution_count": 78,
   "metadata": {},
   "outputs": [
    {
     "data": {
      "text/plain": [
       "[array(['Bondi', 'Bondi Beach', 'Coogee', 'Darlinghurst', 'Manly',\n",
       "        'Newtown', 'North Bondi', 'Randwick', 'Surry Hills', 'Sydney'],\n",
       "       dtype=object),\n",
       " array(['Apartment', 'Bed and breakfast', 'Condominium', 'Guest suite',\n",
       "        'Guesthouse', 'Hostel', 'House', 'Loft', 'Other',\n",
       "        'Serviced apartment', 'Townhouse', 'Villa'], dtype=object),\n",
       " array(['Entire home/apt', 'Private room', 'Shared room'], dtype=object),\n",
       " array(['flexible', 'moderate', 'strict_14_with_grace_period',\n",
       "        'super_strict_60'], dtype=object)]"
      ]
     },
     "execution_count": 78,
     "metadata": {},
     "output_type": "execute_result"
    }
   ],
   "source": [
    "cat_encoder.categories_"
   ]
  },
  {
   "cell_type": "markdown",
   "metadata": {},
   "source": [
    "Let's create a custom transformer to add extra attributes:"
   ]
  },
  {
   "cell_type": "markdown",
   "metadata": {},
   "source": [
    "#### **Now let's create a pipeline for preprocessing that is built on the techniques we used up and till now and introduce some new pipeline techniques.**"
   ]
  },
  {
   "cell_type": "code",
   "execution_count": 79,
   "metadata": {},
   "outputs": [],
   "source": [
    "from sklearn.base import BaseEstimator, TransformerMixin\n",
    "from datetime import datetime\n",
    "numerics = ['int16', 'int32', 'int64', 'float16', 'float32', 'float64']\n",
    "\n",
    "# Receive numpy array, convert to pandas for features, convert back to array for output.\n",
    "\n",
    "class CombinedAttributesAdder(BaseEstimator, TransformerMixin):\n",
    "    def __init__(self, popularity = True, num_cols=[]): # no *args or **kargs\n",
    "        self.popularity = popularity\n",
    "    def fit(self, X, y=None):\n",
    "        return self  # nothing else to do\n",
    "    def transform(self, X, y=None):\n",
    "        \n",
    "        ### Some feature engineering\n",
    "        X = pd.DataFrame(X, columns=num_cols)\n",
    "        X[\"bedrooms_per_person\"] = X[\"bedrooms\"]/X[\"accommodates\"]\n",
    "        X[\"bathrooms_per_person\"] = X[\"bathrooms\"]/X[\"accommodates\"]\n",
    "        \n",
    "        global feats\n",
    "        feats = [\"bedrooms_per_person\",\"bathrooms_per_person\"]\n",
    "\n",
    "        if self.popularity:\n",
    "            X[\"past_and_future_popularity\"]=X[\"number_of_reviews\"]/(X[\"availability_365\"]+1)\n",
    "            feats.append(\"past_and_future_popularity\")\n",
    "            \n",
    "            return X.values\n",
    "        else:\n",
    "            return X.values\n",
    "        "
   ]
  },
  {
   "cell_type": "code",
   "execution_count": 80,
   "metadata": {},
   "outputs": [],
   "source": [
    "from sklearn.pipeline import Pipeline\n",
    "from sklearn.preprocessing import StandardScaler\n",
    "\n",
    "X = strat_train_set.copy().drop(\"price\",axis=1)\n",
    "Y = strat_train_set[\"price\"]\n",
    "\n",
    "num_cols = list(X.select_dtypes(include=numerics).columns)\n",
    "cat_cols = list(X.select_dtypes(include=[object]).columns)\n",
    "\n",
    "num_pipeline = Pipeline([\n",
    "        ('imputer', Imputer(strategy=\"median\")),\n",
    "        ('attribs_adder', CombinedAttributesAdder(num_cols=num_cols,popularity=True)),\n",
    "        ('std_scaler', StandardScaler()),\n",
    "    ])"
   ]
  },
  {
   "cell_type": "markdown",
   "metadata": {},
   "source": [
    "**Warning**: earlier versions of the book applied different transformations to different columns using a solution based on a `DataFrameSelector` transformer and a `FeatureUnion` (see below). It is now preferable to use the `ColumnTransformer` class that will be introduced in Scikit-Learn 0.20. For now we import it from `future_encoders.py`, but when Scikit-Learn 0.20 is released, you can import it from `sklearn.compose` instead:"
   ]
  },
  {
   "cell_type": "code",
   "execution_count": 81,
   "metadata": {},
   "outputs": [],
   "source": [
    "from future_encoders import ColumnTransformer\n",
    "import itertools\n",
    "\n",
    "\n",
    "numerics = ['int16', 'int32', 'int64', 'float16', 'float32', 'float64']\n",
    "\n",
    "mid_pipeline = ColumnTransformer([\n",
    "        (\"num\", num_pipeline, num_cols),\n",
    "        (\"cat\", OneHotEncoder(),cat_cols ),\n",
    "    ])"
   ]
  },
  {
   "cell_type": "code",
   "execution_count": 82,
   "metadata": {},
   "outputs": [],
   "source": [
    "mid_pipeline.fit(X) # this one specifically has to be fitted for the cat names\n",
    "cat_encoder = mid_pipeline.named_transformers_[\"cat\"]\n",
    "sublists = [list(bas) for bas in cat_encoder.categories_]\n",
    "one_cols = list(itertools.chain(*sublists))\n",
    "\n",
    "## In this class, I will be converting numpy back to pandas\n",
    "\n",
    "class ToPandasDF(BaseEstimator, TransformerMixin):\n",
    "    def __init__(self, fit_index = [] ): # no *args or **kargs\n",
    "        self.fit_index = fit_index\n",
    "    def fit(self, X_df, y=None):\n",
    "        return self  # nothing else to do\n",
    "    def transform(self, X_df, y=None):\n",
    "        global cols\n",
    "        cols = num_cols.copy()\n",
    "        cols.extend(feats)\n",
    "        cols.extend(one_cols) # one in place of cat\n",
    "        X_df = pd.DataFrame(X_df, columns=cols,index=self.fit_index)\n",
    "\n",
    "        return X_df\n",
    "\n",
    "def pipe(inds):\n",
    "    return Pipeline([\n",
    "            (\"mid\", mid_pipeline),\n",
    "            (\"PD\", ToPandasDF(inds)),\n",
    "        ])\n",
    "    \n",
    "params = {\"inds\" : list(X.index)}\n",
    "\n",
    "X_pr = pipe(**params).fit_transform(X) # Now we have done all the preprocessing instead of\n",
    "                                   #.. doing it bit by bit. The pipeline becomes \n",
    "                                   #.. extremely handy in the cross-validation step."
   ]
  },
  {
   "cell_type": "markdown",
   "metadata": {},
   "source": [
    "# Select and train a model "
   ]
  },
  {
   "cell_type": "code",
   "execution_count": 83,
   "metadata": {},
   "outputs": [
    {
     "data": {
      "text/plain": [
       "LinearRegression(copy_X=True, fit_intercept=True, n_jobs=1, normalize=False)"
      ]
     },
     "execution_count": 83,
     "metadata": {},
     "output_type": "execute_result"
    }
   ],
   "source": [
    "from sklearn.linear_model import LinearRegression\n",
    "Y_pr = Y.copy() # just for naming convention, _pr for processed.\n",
    "\n",
    "lin_reg = LinearRegression()\n",
    "lin_reg.fit(X_pr, Y_pr)"
   ]
  },
  {
   "cell_type": "code",
   "execution_count": 84,
   "metadata": {},
   "outputs": [
    {
     "name": "stdout",
     "output_type": "stream",
     "text": [
      "Predictions: [213.73373314  41.43930499 159.42015301  51.73470971  57.8647697 ]\n"
     ]
    }
   ],
   "source": [
    "# let's try the full preprocessing pipeline on a few training instances\n",
    "some_data = X.iloc[:5]\n",
    "some_labels = Y.iloc[:5]\n",
    "some_data_prepared = pipe(inds=list(some_data.index)).transform(some_data)\n",
    "\n",
    "print(\"Predictions:\", lin_reg.predict(some_data_prepared))"
   ]
  },
  {
   "cell_type": "markdown",
   "metadata": {},
   "source": [
    "Compare against the actual values:"
   ]
  },
  {
   "cell_type": "code",
   "execution_count": 85,
   "metadata": {},
   "outputs": [
    {
     "name": "stdout",
     "output_type": "stream",
     "text": [
      "Labels: [200.0, 183.0, 175.0, 85.0, 80.0]\n"
     ]
    }
   ],
   "source": [
    "print(\"Labels:\", list(some_labels))"
   ]
  },
  {
   "cell_type": "code",
   "execution_count": 86,
   "metadata": {},
   "outputs": [],
   "source": [
    "## Naturally, these metrics are not that fair, because it is insample.\n",
    "## However the first model is linear so overfitting is less likley.\n",
    "## We will deal with out of sample validation later on. "
   ]
  },
  {
   "cell_type": "code",
   "execution_count": 87,
   "metadata": {},
   "outputs": [
    {
     "data": {
      "text/plain": [
       "105.96524352798795"
      ]
     },
     "execution_count": 87,
     "metadata": {},
     "output_type": "execute_result"
    }
   ],
   "source": [
    "from sklearn.metrics import mean_squared_error, mean_absolute_error\n",
    "\n",
    "X_pred = lin_reg.predict(X_pr)\n",
    "lin_mse = mean_squared_error(Y, X_pred)\n",
    "lin_rmse = np.sqrt(lin_mse)\n",
    "lin_rmse"
   ]
  },
  {
   "cell_type": "code",
   "execution_count": 88,
   "metadata": {},
   "outputs": [
    {
     "data": {
      "text/plain": [
       "67.26978406629443"
      ]
     },
     "execution_count": 88,
     "metadata": {},
     "output_type": "execute_result"
    }
   ],
   "source": [
    "from sklearn.metrics import mean_absolute_error\n",
    "\n",
    "lin_mae = mean_absolute_error(Y, X_pred)\n",
    "lin_mae"
   ]
  },
  {
   "cell_type": "code",
   "execution_count": 89,
   "metadata": {},
   "outputs": [
    {
     "data": {
      "text/plain": [
       "DecisionTreeRegressor(criterion='mse', max_depth=None, max_features=None,\n",
       "           max_leaf_nodes=None, min_impurity_decrease=0.0,\n",
       "           min_impurity_split=None, min_samples_leaf=1,\n",
       "           min_samples_split=2, min_weight_fraction_leaf=0.0,\n",
       "           presort=False, random_state=42, splitter='best')"
      ]
     },
     "execution_count": 89,
     "metadata": {},
     "output_type": "execute_result"
    }
   ],
   "source": [
    "from sklearn.tree import DecisionTreeRegressor\n",
    "\n",
    "tree_reg = DecisionTreeRegressor(random_state=42)\n",
    "tree_reg.fit(X_pr, Y)"
   ]
  },
  {
   "cell_type": "code",
   "execution_count": 90,
   "metadata": {},
   "outputs": [
    {
     "data": {
      "text/plain": [
       "0.0"
      ]
     },
     "execution_count": 90,
     "metadata": {},
     "output_type": "execute_result"
    }
   ],
   "source": [
    "X_pred = tree_reg.predict(X_pr)\n",
    "tree_mse = mean_squared_error(Y, X_pred)\n",
    "tree_rmse = np.sqrt(tree_mse)\n",
    "tree_rmse  ## Model is complex and overfits."
   ]
  },
  {
   "cell_type": "markdown",
   "metadata": {},
   "source": [
    "# Fine-tune your model"
   ]
  },
  {
   "cell_type": "code",
   "execution_count": 91,
   "metadata": {},
   "outputs": [],
   "source": [
    "from sklearn.model_selection import cross_val_score\n",
    "\n",
    "scores = cross_val_score(DecisionTreeRegressor(random_state=42), X_pr, Y,\n",
    "                         scoring=\"neg_mean_squared_error\", cv=10)\n",
    "tree_rmse_scores = np.sqrt(-scores)"
   ]
  },
  {
   "cell_type": "code",
   "execution_count": 92,
   "metadata": {},
   "outputs": [
    {
     "name": "stdout",
     "output_type": "stream",
     "text": [
      "Scores: [156.37433851 124.29014467 133.78944776 128.17950145 139.5400545\n",
      " 132.32964824 131.93966073 140.86146443 145.64400938 147.25183664]\n",
      "Mean: 138.02001063145946\n",
      "Standard deviation: 9.290915428443157\n"
     ]
    }
   ],
   "source": [
    "def display_scores(scores):\n",
    "    print(\"Scores:\", scores)\n",
    "    print(\"Mean:\", scores.mean())\n",
    "    print(\"Standard deviation:\", scores.std())\n",
    "\n",
    "display_scores(tree_rmse_scores)"
   ]
  },
  {
   "cell_type": "code",
   "execution_count": 93,
   "metadata": {},
   "outputs": [
    {
     "name": "stdout",
     "output_type": "stream",
     "text": [
      "Scores: [8.49207574 8.14863276 8.16271694 8.23897312 8.05176911 8.1944819\n",
      " 8.28255886 8.13214541 8.09775686 8.57665211]\n",
      "Mean: 8.237776280571117\n",
      "Standard deviation: 0.16196568113321635\n"
     ]
    }
   ],
   "source": [
    "lin_scores = cross_val_score(LinearRegression(), X_pr, Y,\n",
    "                             scoring=\"neg_mean_absolute_error\", cv=10)\n",
    "lin_rmse_scores = np.sqrt(-lin_scores)\n",
    "display_scores(lin_rmse_scores)\n",
    "## bad performance, might need some regularisation."
   ]
  },
  {
   "cell_type": "code",
   "execution_count": 94,
   "metadata": {},
   "outputs": [
    {
     "data": {
      "text/plain": [
       "RandomForestRegressor(bootstrap=True, criterion='mse', max_depth=None,\n",
       "           max_features='auto', max_leaf_nodes=None,\n",
       "           min_impurity_decrease=0.0, min_impurity_split=None,\n",
       "           min_samples_leaf=1, min_samples_split=2,\n",
       "           min_weight_fraction_leaf=0.0, n_estimators=10, n_jobs=1,\n",
       "           oob_score=False, random_state=42, verbose=0, warm_start=False)"
      ]
     },
     "execution_count": 94,
     "metadata": {},
     "output_type": "execute_result"
    }
   ],
   "source": [
    "from sklearn.ensemble import RandomForestRegressor\n",
    "\n",
    "forest_reg = RandomForestRegressor(random_state=42)\n",
    "forest_reg.fit(X_pr, Y)"
   ]
  },
  {
   "cell_type": "code",
   "execution_count": 95,
   "metadata": {},
   "outputs": [
    {
     "data": {
      "text/plain": [
       "43.180267613571424"
      ]
     },
     "execution_count": 95,
     "metadata": {},
     "output_type": "execute_result"
    }
   ],
   "source": [
    "X_pred = forest_reg.predict(X_pr)\n",
    "forest_mse = mean_squared_error(Y, X_pred)\n",
    "forest_rmse = np.sqrt(forest_mse)\n",
    "forest_rmse"
   ]
  },
  {
   "cell_type": "code",
   "execution_count": 96,
   "metadata": {},
   "outputs": [
    {
     "name": "stdout",
     "output_type": "stream",
     "text": [
      "Scores: [102.63837103 101.78125991  93.98459517  97.78712336  99.43551069\n",
      "  98.48726268 102.69539506 103.61716143 101.67780032 120.08256618]\n",
      "Mean: 102.21870458247307\n",
      "Standard deviation: 6.56559074743104\n"
     ]
    }
   ],
   "source": [
    "from sklearn.model_selection import cross_val_score\n",
    "\n",
    "forest_scores = cross_val_score(forest_reg, X_pr, Y,\n",
    "                                scoring=\"neg_mean_squared_error\", cv=10)\n",
    "forest_rmse_scores = np.sqrt(-forest_scores)\n",
    "display_scores(forest_rmse_scores)"
   ]
  },
  {
   "cell_type": "code",
   "execution_count": 97,
   "metadata": {},
   "outputs": [
    {
     "data": {
      "text/plain": [
       "count     10.000000\n",
       "mean     106.860441\n",
       "std        7.980777\n",
       "min      101.432398\n",
       "25%      102.532852\n",
       "50%      103.917220\n",
       "75%      106.914584\n",
       "max      127.604757\n",
       "dtype: float64"
      ]
     },
     "execution_count": 97,
     "metadata": {},
     "output_type": "execute_result"
    }
   ],
   "source": [
    "scores = cross_val_score(lin_reg,  X_pr, Y, scoring=\"neg_mean_squared_error\", cv=10)\n",
    "pd.Series(np.sqrt(-scores)).describe()"
   ]
  },
  {
   "cell_type": "code",
   "execution_count": 98,
   "metadata": {},
   "outputs": [
    {
     "data": {
      "text/plain": [
       "115.17213979847584"
      ]
     },
     "execution_count": 98,
     "metadata": {},
     "output_type": "execute_result"
    }
   ],
   "source": [
    "from sklearn.svm import SVR\n",
    "\n",
    "svm_reg = SVR(kernel=\"linear\")\n",
    "svm_reg.fit( X_pr, Y,)\n",
    "X_pred = svm_reg.predict(X_pr)\n",
    "svm_mse = mean_squared_error(Y, X_pred)\n",
    "svm_rmse = np.sqrt(svm_mse)\n",
    "svm_rmse"
   ]
  },
  {
   "cell_type": "code",
   "execution_count": 99,
   "metadata": {},
   "outputs": [
    {
     "data": {
      "text/plain": [
       "GridSearchCV(cv=5, error_score='raise',\n",
       "       estimator=RandomForestRegressor(bootstrap=True, criterion='mse', max_depth=None,\n",
       "           max_features='auto', max_leaf_nodes=None,\n",
       "           min_impurity_decrease=0.0, min_impurity_split=None,\n",
       "           min_samples_leaf=1, min_samples_split=2,\n",
       "           min_weight_fraction_leaf=0.0, n_estimators=10, n_jobs=1,\n",
       "           oob_score=False, random_state=42, verbose=0, warm_start=False),\n",
       "       fit_params=None, iid=True, n_jobs=1,\n",
       "       param_grid=[{'n_estimators': [3, 10, 30], 'max_features': [2, 4, 6, 8]}, {'bootstrap': [False], 'n_estimators': [3, 10], 'max_features': [2, 3, 4]}],\n",
       "       pre_dispatch='2*n_jobs', refit=True, return_train_score=True,\n",
       "       scoring='neg_mean_squared_error', verbose=0)"
      ]
     },
     "execution_count": 99,
     "metadata": {},
     "output_type": "execute_result"
    }
   ],
   "source": [
    "## 30 Seconds to run this code block.\n",
    "from sklearn.model_selection import GridSearchCV\n",
    "\n",
    "param_grid = [\n",
    "    # try 12 (3×4) combinations of hyperparameters\n",
    "    {'n_estimators': [3, 10, 30], 'max_features': [2, 4, 6, 8]},\n",
    "    # then try 6 (2×3) combinations with bootstrap set as False\n",
    "    {'bootstrap': [False], 'n_estimators': [3, 10], 'max_features': [2, 3, 4]},\n",
    "  ]\n",
    "\n",
    "forest_reg = RandomForestRegressor(random_state=42)\n",
    "# train across 5 folds, that's a total of (12+6)*5=90 rounds of training \n",
    "grid_search = GridSearchCV(forest_reg, param_grid, cv=5,\n",
    "                           scoring='neg_mean_squared_error', return_train_score=True)\n",
    "grid_search.fit( X_pr, Y)"
   ]
  },
  {
   "cell_type": "markdown",
   "metadata": {},
   "source": [
    "The best hyperparameter combination found:"
   ]
  },
  {
   "cell_type": "code",
   "execution_count": 100,
   "metadata": {},
   "outputs": [
    {
     "data": {
      "text/plain": [
       "{'max_features': 8, 'n_estimators': 30}"
      ]
     },
     "execution_count": 100,
     "metadata": {},
     "output_type": "execute_result"
    }
   ],
   "source": [
    "grid_search.best_params_"
   ]
  },
  {
   "cell_type": "code",
   "execution_count": 101,
   "metadata": {},
   "outputs": [
    {
     "data": {
      "text/plain": [
       "RandomForestRegressor(bootstrap=True, criterion='mse', max_depth=None,\n",
       "           max_features=8, max_leaf_nodes=None, min_impurity_decrease=0.0,\n",
       "           min_impurity_split=None, min_samples_leaf=1,\n",
       "           min_samples_split=2, min_weight_fraction_leaf=0.0,\n",
       "           n_estimators=30, n_jobs=1, oob_score=False, random_state=42,\n",
       "           verbose=0, warm_start=False)"
      ]
     },
     "execution_count": 101,
     "metadata": {},
     "output_type": "execute_result"
    }
   ],
   "source": [
    "grid_search.best_estimator_"
   ]
  },
  {
   "cell_type": "markdown",
   "metadata": {},
   "source": [
    "Let's look at the score of each hyperparameter combination tested during the grid search:"
   ]
  },
  {
   "cell_type": "code",
   "execution_count": 104,
   "metadata": {},
   "outputs": [
    {
     "name": "stdout",
     "output_type": "stream",
     "text": [
      "122.53216888802996 {'max_features': 2, 'n_estimators': 3}\n",
      "107.72107830052916 {'max_features': 2, 'n_estimators': 10}\n",
      "103.31246657906125 {'max_features': 2, 'n_estimators': 30}\n",
      "116.78739525698246 {'max_features': 4, 'n_estimators': 3}\n",
      "104.53073568001024 {'max_features': 4, 'n_estimators': 10}\n",
      "100.58196457317348 {'max_features': 4, 'n_estimators': 30}\n",
      "114.81596163353014 {'max_features': 6, 'n_estimators': 3}\n",
      "102.32860069991564 {'max_features': 6, 'n_estimators': 10}\n",
      "99.25923178001497 {'max_features': 6, 'n_estimators': 30}\n",
      "113.20202818923381 {'max_features': 8, 'n_estimators': 3}\n",
      "102.30179138301911 {'max_features': 8, 'n_estimators': 10}\n",
      "98.96521152454342 {'max_features': 8, 'n_estimators': 30}\n",
      "117.52393660488787 {'bootstrap': False, 'max_features': 2, 'n_estimators': 3}\n",
      "103.20090901789297 {'bootstrap': False, 'max_features': 2, 'n_estimators': 10}\n",
      "119.65495869688043 {'bootstrap': False, 'max_features': 3, 'n_estimators': 3}\n",
      "105.74971044878427 {'bootstrap': False, 'max_features': 3, 'n_estimators': 10}\n",
      "115.7856597016526 {'bootstrap': False, 'max_features': 4, 'n_estimators': 3}\n",
      "103.73219063873505 {'bootstrap': False, 'max_features': 4, 'n_estimators': 10}\n",
      "\n",
      "Best grid-search performance:  98.96521152454342\n"
     ]
    }
   ],
   "source": [
    "cvres = grid_search.cv_results_\n",
    "for mean_score, params in zip(cvres[\"mean_test_score\"], cvres[\"params\"]):\n",
    "    print(np.sqrt(-mean_score), params)\n",
    "    \n",
    "print(\"\")\n",
    "print(\"Best grid-search performance: \", np.sqrt(-cvres[\"mean_test_score\"].max()))"
   ]
  },
  {
   "cell_type": "code",
   "execution_count": 105,
   "metadata": {},
   "outputs": [
    {
     "data": {
      "text/html": [
       "<div>\n",
       "<style scoped>\n",
       "    .dataframe tbody tr th:only-of-type {\n",
       "        vertical-align: middle;\n",
       "    }\n",
       "\n",
       "    .dataframe tbody tr th {\n",
       "        vertical-align: top;\n",
       "    }\n",
       "\n",
       "    .dataframe thead th {\n",
       "        text-align: right;\n",
       "    }\n",
       "</style>\n",
       "<table border=\"1\" class=\"dataframe\">\n",
       "  <thead>\n",
       "    <tr style=\"text-align: right;\">\n",
       "      <th></th>\n",
       "      <th>mean_fit_time</th>\n",
       "      <th>std_fit_time</th>\n",
       "      <th>mean_score_time</th>\n",
       "      <th>std_score_time</th>\n",
       "      <th>param_max_features</th>\n",
       "      <th>param_n_estimators</th>\n",
       "      <th>param_bootstrap</th>\n",
       "      <th>params</th>\n",
       "      <th>split0_test_score</th>\n",
       "      <th>split1_test_score</th>\n",
       "      <th>split2_test_score</th>\n",
       "      <th>split3_test_score</th>\n",
       "      <th>split4_test_score</th>\n",
       "      <th>mean_test_score</th>\n",
       "      <th>std_test_score</th>\n",
       "      <th>rank_test_score</th>\n",
       "      <th>split0_train_score</th>\n",
       "      <th>split1_train_score</th>\n",
       "      <th>split2_train_score</th>\n",
       "      <th>split3_train_score</th>\n",
       "      <th>split4_train_score</th>\n",
       "      <th>mean_train_score</th>\n",
       "      <th>std_train_score</th>\n",
       "    </tr>\n",
       "  </thead>\n",
       "  <tbody>\n",
       "    <tr>\n",
       "      <th>0</th>\n",
       "      <td>0.031029</td>\n",
       "      <td>0.001826</td>\n",
       "      <td>0.005008</td>\n",
       "      <td>0.002587</td>\n",
       "      <td>2</td>\n",
       "      <td>3</td>\n",
       "      <td>NaN</td>\n",
       "      <td>{'max_features': 2, 'n_estimators': 3}</td>\n",
       "      <td>-16714.053906</td>\n",
       "      <td>-13648.817613</td>\n",
       "      <td>-13592.366401</td>\n",
       "      <td>-14051.717382</td>\n",
       "      <td>-17063.706759</td>\n",
       "      <td>-15014.132412</td>\n",
       "      <td>1542.869656</td>\n",
       "      <td>18</td>\n",
       "      <td>-3757.207412</td>\n",
       "      <td>-4112.423113</td>\n",
       "      <td>-4172.277885</td>\n",
       "      <td>-4034.830956</td>\n",
       "      <td>-4049.533710</td>\n",
       "      <td>-4025.254615</td>\n",
       "      <td>142.649692</td>\n",
       "    </tr>\n",
       "    <tr>\n",
       "      <th>1</th>\n",
       "      <td>0.074020</td>\n",
       "      <td>0.007354</td>\n",
       "      <td>0.006141</td>\n",
       "      <td>0.000968</td>\n",
       "      <td>2</td>\n",
       "      <td>10</td>\n",
       "      <td>NaN</td>\n",
       "      <td>{'max_features': 2, 'n_estimators': 10}</td>\n",
       "      <td>-12361.051968</td>\n",
       "      <td>-9810.746895</td>\n",
       "      <td>-10804.608643</td>\n",
       "      <td>-10678.225667</td>\n",
       "      <td>-14364.520378</td>\n",
       "      <td>-11603.830710</td>\n",
       "      <td>1606.576587</td>\n",
       "      <td>11</td>\n",
       "      <td>-2144.223361</td>\n",
       "      <td>-2298.584473</td>\n",
       "      <td>-2228.440783</td>\n",
       "      <td>-2129.755091</td>\n",
       "      <td>-2065.273942</td>\n",
       "      <td>-2173.255530</td>\n",
       "      <td>81.422275</td>\n",
       "    </tr>\n",
       "    <tr>\n",
       "      <th>2</th>\n",
       "      <td>0.233764</td>\n",
       "      <td>0.011472</td>\n",
       "      <td>0.020721</td>\n",
       "      <td>0.005900</td>\n",
       "      <td>2</td>\n",
       "      <td>30</td>\n",
       "      <td>NaN</td>\n",
       "      <td>{'max_features': 2, 'n_estimators': 30}</td>\n",
       "      <td>-10880.082554</td>\n",
       "      <td>-9066.579664</td>\n",
       "      <td>-9563.717770</td>\n",
       "      <td>-9887.518520</td>\n",
       "      <td>-13969.430245</td>\n",
       "      <td>-10673.465751</td>\n",
       "      <td>1751.422792</td>\n",
       "      <td>7</td>\n",
       "      <td>-1745.701662</td>\n",
       "      <td>-1762.300056</td>\n",
       "      <td>-1744.754891</td>\n",
       "      <td>-1667.933554</td>\n",
       "      <td>-1555.704881</td>\n",
       "      <td>-1695.279009</td>\n",
       "      <td>77.085457</td>\n",
       "    </tr>\n",
       "    <tr>\n",
       "      <th>3</th>\n",
       "      <td>0.028513</td>\n",
       "      <td>0.002864</td>\n",
       "      <td>0.002887</td>\n",
       "      <td>0.001052</td>\n",
       "      <td>4</td>\n",
       "      <td>3</td>\n",
       "      <td>NaN</td>\n",
       "      <td>{'max_features': 4, 'n_estimators': 3}</td>\n",
       "      <td>-14174.000000</td>\n",
       "      <td>-12618.261115</td>\n",
       "      <td>-13306.852651</td>\n",
       "      <td>-13437.963763</td>\n",
       "      <td>-14659.400925</td>\n",
       "      <td>-13639.295691</td>\n",
       "      <td>709.941957</td>\n",
       "      <td>15</td>\n",
       "      <td>-3507.371691</td>\n",
       "      <td>-3937.699970</td>\n",
       "      <td>-3762.753555</td>\n",
       "      <td>-3524.275679</td>\n",
       "      <td>-3408.744924</td>\n",
       "      <td>-3628.169164</td>\n",
       "      <td>193.626011</td>\n",
       "    </tr>\n",
       "    <tr>\n",
       "      <th>4</th>\n",
       "      <td>0.087855</td>\n",
       "      <td>0.003268</td>\n",
       "      <td>0.005860</td>\n",
       "      <td>0.000500</td>\n",
       "      <td>4</td>\n",
       "      <td>10</td>\n",
       "      <td>NaN</td>\n",
       "      <td>{'max_features': 4, 'n_estimators': 10}</td>\n",
       "      <td>-10983.215883</td>\n",
       "      <td>-9879.402645</td>\n",
       "      <td>-10249.760979</td>\n",
       "      <td>-10540.120108</td>\n",
       "      <td>-12980.873894</td>\n",
       "      <td>-10926.674702</td>\n",
       "      <td>1088.792600</td>\n",
       "      <td>9</td>\n",
       "      <td>-2078.791131</td>\n",
       "      <td>-2143.179829</td>\n",
       "      <td>-2169.151343</td>\n",
       "      <td>-1940.715463</td>\n",
       "      <td>-1873.469136</td>\n",
       "      <td>-2041.061381</td>\n",
       "      <td>115.252083</td>\n",
       "    </tr>\n",
       "  </tbody>\n",
       "</table>\n",
       "</div>"
      ],
      "text/plain": [
       "   mean_fit_time  std_fit_time  mean_score_time  std_score_time  \\\n",
       "0       0.031029      0.001826         0.005008        0.002587   \n",
       "1       0.074020      0.007354         0.006141        0.000968   \n",
       "2       0.233764      0.011472         0.020721        0.005900   \n",
       "3       0.028513      0.002864         0.002887        0.001052   \n",
       "4       0.087855      0.003268         0.005860        0.000500   \n",
       "\n",
       "  param_max_features param_n_estimators param_bootstrap  \\\n",
       "0                  2                  3             NaN   \n",
       "1                  2                 10             NaN   \n",
       "2                  2                 30             NaN   \n",
       "3                  4                  3             NaN   \n",
       "4                  4                 10             NaN   \n",
       "\n",
       "                                    params  split0_test_score  \\\n",
       "0   {'max_features': 2, 'n_estimators': 3}      -16714.053906   \n",
       "1  {'max_features': 2, 'n_estimators': 10}      -12361.051968   \n",
       "2  {'max_features': 2, 'n_estimators': 30}      -10880.082554   \n",
       "3   {'max_features': 4, 'n_estimators': 3}      -14174.000000   \n",
       "4  {'max_features': 4, 'n_estimators': 10}      -10983.215883   \n",
       "\n",
       "   split1_test_score  split2_test_score  split3_test_score  split4_test_score  \\\n",
       "0      -13648.817613      -13592.366401      -14051.717382      -17063.706759   \n",
       "1       -9810.746895      -10804.608643      -10678.225667      -14364.520378   \n",
       "2       -9066.579664       -9563.717770       -9887.518520      -13969.430245   \n",
       "3      -12618.261115      -13306.852651      -13437.963763      -14659.400925   \n",
       "4       -9879.402645      -10249.760979      -10540.120108      -12980.873894   \n",
       "\n",
       "   mean_test_score  std_test_score  rank_test_score  split0_train_score  \\\n",
       "0    -15014.132412     1542.869656               18        -3757.207412   \n",
       "1    -11603.830710     1606.576587               11        -2144.223361   \n",
       "2    -10673.465751     1751.422792                7        -1745.701662   \n",
       "3    -13639.295691      709.941957               15        -3507.371691   \n",
       "4    -10926.674702     1088.792600                9        -2078.791131   \n",
       "\n",
       "   split1_train_score  split2_train_score  split3_train_score  \\\n",
       "0        -4112.423113        -4172.277885        -4034.830956   \n",
       "1        -2298.584473        -2228.440783        -2129.755091   \n",
       "2        -1762.300056        -1744.754891        -1667.933554   \n",
       "3        -3937.699970        -3762.753555        -3524.275679   \n",
       "4        -2143.179829        -2169.151343        -1940.715463   \n",
       "\n",
       "   split4_train_score  mean_train_score  std_train_score  \n",
       "0        -4049.533710      -4025.254615       142.649692  \n",
       "1        -2065.273942      -2173.255530        81.422275  \n",
       "2        -1555.704881      -1695.279009        77.085457  \n",
       "3        -3408.744924      -3628.169164       193.626011  \n",
       "4        -1873.469136      -2041.061381       115.252083  "
      ]
     },
     "execution_count": 105,
     "metadata": {},
     "output_type": "execute_result"
    }
   ],
   "source": [
    "# Top five results as presented in a dataframe\n",
    "pd.DataFrame(grid_search.cv_results_).head(5)\n"
   ]
  },
  {
   "cell_type": "code",
   "execution_count": 106,
   "metadata": {},
   "outputs": [
    {
     "data": {
      "text/plain": [
       "RandomizedSearchCV(cv=5, error_score='raise',\n",
       "          estimator=RandomForestRegressor(bootstrap=True, criterion='mse', max_depth=None,\n",
       "           max_features='auto', max_leaf_nodes=None,\n",
       "           min_impurity_decrease=0.0, min_impurity_split=None,\n",
       "           min_samples_leaf=1, min_samples_split=2,\n",
       "           min_weight_fraction_leaf=0.0, n_estimators=10, n_jobs=1,\n",
       "           oob_score=False, random_state=42, verbose=0, warm_start=False),\n",
       "          fit_params=None, iid=True, n_iter=5, n_jobs=1,\n",
       "          param_distributions={'n_estimators': <scipy.stats._distn_infrastructure.rv_frozen object at 0x117582e80>, 'max_features': <scipy.stats._distn_infrastructure.rv_frozen object at 0x117582710>},\n",
       "          pre_dispatch='2*n_jobs', random_state=42, refit=True,\n",
       "          return_train_score='warn', scoring='neg_mean_squared_error',\n",
       "          verbose=0)"
      ]
     },
     "execution_count": 106,
     "metadata": {},
     "output_type": "execute_result"
    }
   ],
   "source": [
    "from sklearn.model_selection import RandomizedSearchCV\n",
    "from scipy.stats import randint\n",
    "\n",
    "param_distribs = {\n",
    "        'n_estimators': randint(low=1, high=200),\n",
    "        'max_features': randint(low=1, high=8),\n",
    "    }\n",
    "\n",
    "forest_reg = RandomForestRegressor(random_state=42)\n",
    "rnd_search = RandomizedSearchCV(forest_reg, param_distributions=param_distribs,\n",
    "                                n_iter=5, cv=5, scoring='neg_mean_squared_error', random_state=42)\n",
    "rnd_search.fit( X_pr, Y)"
   ]
  },
  {
   "cell_type": "code",
   "execution_count": 107,
   "metadata": {},
   "outputs": [
    {
     "name": "stdout",
     "output_type": "stream",
     "text": [
      "97.96018093332522 {'max_features': 7, 'n_estimators': 180}\n",
      "101.88843081999556 {'max_features': 5, 'n_estimators': 15}\n",
      "101.21106112477466 {'max_features': 3, 'n_estimators': 72}\n",
      "100.63393859018225 {'max_features': 5, 'n_estimators': 21}\n",
      "98.1849958289238 {'max_features': 7, 'n_estimators': 122}\n",
      "Best grid-search performance:  97.96018093332522\n"
     ]
    }
   ],
   "source": [
    "cvres = rnd_search.cv_results_\n",
    "for mean_score, params in zip(cvres[\"mean_test_score\"], cvres[\"params\"]):\n",
    "    print(np.sqrt(-mean_score), params)\n",
    "    \n",
    "print(\"Best grid-search performance: \", np.sqrt(-cvres[\"mean_test_score\"].max()))"
   ]
  },
  {
   "cell_type": "code",
   "execution_count": 108,
   "metadata": {},
   "outputs": [
    {
     "data": {
      "text/plain": [
       "array([5.21516849e-02, 4.26770168e-02, 1.83638010e-02, 2.43596502e-02,\n",
       "       2.55534252e-02, 5.27505928e-02, 4.16792757e-02, 1.30305162e-01,\n",
       "       9.97171303e-02, 9.72528704e-02, 1.21297875e-01, 3.02257465e-02,\n",
       "       6.78430943e-03, 2.03658936e-03, 2.09530971e-02, 4.03208286e-02,\n",
       "       2.78096690e-02, 2.73549738e-03, 5.15415355e-03, 1.78486022e-03,\n",
       "       2.70978771e-03, 2.97859493e-03, 1.40150013e-03, 5.68502898e-03,\n",
       "       2.33712174e-03, 1.58189052e-03, 2.13285259e-03, 1.25708518e-02,\n",
       "       1.55850071e-04, 6.47611317e-04, 5.90204089e-05, 7.76555510e-04,\n",
       "       5.55735018e-04, 2.24163824e-02, 1.23442982e-04, 5.09695472e-04,\n",
       "       1.67304588e-04, 2.14379870e-03, 4.11953985e-04, 4.49042422e-02,\n",
       "       3.31642784e-02, 2.71052020e-03, 4.70309008e-03, 4.44714650e-03,\n",
       "       6.60464381e-03, 1.87864242e-04])"
      ]
     },
     "execution_count": 108,
     "metadata": {},
     "output_type": "execute_result"
    }
   ],
   "source": [
    "feature_importances = grid_search.best_estimator_.feature_importances_\n",
    "feature_importances"
   ]
  },
  {
   "cell_type": "code",
   "execution_count": 109,
   "metadata": {},
   "outputs": [],
   "source": [
    "feats = pd.DataFrame()\n",
    "feats[\"Name\"] = list(X_pr.columns)\n",
    "feats[\"Score\"] = feature_importances"
   ]
  },
  {
   "cell_type": "code",
   "execution_count": 110,
   "metadata": {},
   "outputs": [
    {
     "data": {
      "text/html": [
       "<div>\n",
       "<style scoped>\n",
       "    .dataframe tbody tr th:only-of-type {\n",
       "        vertical-align: middle;\n",
       "    }\n",
       "\n",
       "    .dataframe tbody tr th {\n",
       "        vertical-align: top;\n",
       "    }\n",
       "\n",
       "    .dataframe thead th {\n",
       "        text-align: right;\n",
       "    }\n",
       "</style>\n",
       "<table border=\"1\" class=\"dataframe\">\n",
       "  <thead>\n",
       "    <tr style=\"text-align: right;\">\n",
       "      <th></th>\n",
       "      <th>Name</th>\n",
       "      <th>Score</th>\n",
       "    </tr>\n",
       "  </thead>\n",
       "  <tbody>\n",
       "    <tr>\n",
       "      <th>7</th>\n",
       "      <td>accommodates</td>\n",
       "      <td>0.13031</td>\n",
       "    </tr>\n",
       "    <tr>\n",
       "      <th>10</th>\n",
       "      <td>beds</td>\n",
       "      <td>0.12130</td>\n",
       "    </tr>\n",
       "    <tr>\n",
       "      <th>8</th>\n",
       "      <td>bathrooms</td>\n",
       "      <td>0.09972</td>\n",
       "    </tr>\n",
       "    <tr>\n",
       "      <th>9</th>\n",
       "      <td>bedrooms</td>\n",
       "      <td>0.09725</td>\n",
       "    </tr>\n",
       "    <tr>\n",
       "      <th>5</th>\n",
       "      <td>security_deposit</td>\n",
       "      <td>0.05275</td>\n",
       "    </tr>\n",
       "    <tr>\n",
       "      <th>0</th>\n",
       "      <td>longitude</td>\n",
       "      <td>0.05215</td>\n",
       "    </tr>\n",
       "    <tr>\n",
       "      <th>39</th>\n",
       "      <td>Entire home/apt</td>\n",
       "      <td>0.04490</td>\n",
       "    </tr>\n",
       "    <tr>\n",
       "      <th>1</th>\n",
       "      <td>latitude</td>\n",
       "      <td>0.04268</td>\n",
       "    </tr>\n",
       "    <tr>\n",
       "      <th>6</th>\n",
       "      <td>cleaning_fee</td>\n",
       "      <td>0.04168</td>\n",
       "    </tr>\n",
       "    <tr>\n",
       "      <th>15</th>\n",
       "      <td>bathrooms_per_person</td>\n",
       "      <td>0.04032</td>\n",
       "    </tr>\n",
       "    <tr>\n",
       "      <th>40</th>\n",
       "      <td>Private room</td>\n",
       "      <td>0.03316</td>\n",
       "    </tr>\n",
       "    <tr>\n",
       "      <th>11</th>\n",
       "      <td>availability_365</td>\n",
       "      <td>0.03023</td>\n",
       "    </tr>\n",
       "    <tr>\n",
       "      <th>16</th>\n",
       "      <td>past_and_future_popularity</td>\n",
       "      <td>0.02781</td>\n",
       "    </tr>\n",
       "    <tr>\n",
       "      <th>4</th>\n",
       "      <td>minimum_nights</td>\n",
       "      <td>0.02555</td>\n",
       "    </tr>\n",
       "    <tr>\n",
       "      <th>3</th>\n",
       "      <td>number_of_reviews</td>\n",
       "      <td>0.02436</td>\n",
       "    </tr>\n",
       "    <tr>\n",
       "      <th>33</th>\n",
       "      <td>House</td>\n",
       "      <td>0.02242</td>\n",
       "    </tr>\n",
       "    <tr>\n",
       "      <th>14</th>\n",
       "      <td>bedrooms_per_person</td>\n",
       "      <td>0.02095</td>\n",
       "    </tr>\n",
       "    <tr>\n",
       "      <th>2</th>\n",
       "      <td>review_scores_rating</td>\n",
       "      <td>0.01836</td>\n",
       "    </tr>\n",
       "    <tr>\n",
       "      <th>27</th>\n",
       "      <td>Apartment</td>\n",
       "      <td>0.01257</td>\n",
       "    </tr>\n",
       "    <tr>\n",
       "      <th>12</th>\n",
       "      <td>host_identity_verified</td>\n",
       "      <td>0.00678</td>\n",
       "    </tr>\n",
       "  </tbody>\n",
       "</table>\n",
       "</div>"
      ],
      "text/plain": [
       "                          Name    Score\n",
       "7                 accommodates  0.13031\n",
       "10                        beds  0.12130\n",
       "8                    bathrooms  0.09972\n",
       "9                     bedrooms  0.09725\n",
       "5             security_deposit  0.05275\n",
       "0                    longitude  0.05215\n",
       "39             Entire home/apt  0.04490\n",
       "1                     latitude  0.04268\n",
       "6                 cleaning_fee  0.04168\n",
       "15        bathrooms_per_person  0.04032\n",
       "40                Private room  0.03316\n",
       "11            availability_365  0.03023\n",
       "16  past_and_future_popularity  0.02781\n",
       "4               minimum_nights  0.02555\n",
       "3            number_of_reviews  0.02436\n",
       "33                       House  0.02242\n",
       "14         bedrooms_per_person  0.02095\n",
       "2         review_scores_rating  0.01836\n",
       "27                   Apartment  0.01257\n",
       "12      host_identity_verified  0.00678"
      ]
     },
     "execution_count": 110,
     "metadata": {},
     "output_type": "execute_result"
    }
   ],
   "source": [
    "feats.sort_values(\"Score\",ascending=False).round(5).head(20)"
   ]
  },
  {
   "cell_type": "code",
   "execution_count": 111,
   "metadata": {},
   "outputs": [
    {
     "data": {
      "text/html": [
       "<div>\n",
       "<style scoped>\n",
       "    .dataframe tbody tr th:only-of-type {\n",
       "        vertical-align: middle;\n",
       "    }\n",
       "\n",
       "    .dataframe tbody tr th {\n",
       "        vertical-align: top;\n",
       "    }\n",
       "\n",
       "    .dataframe thead th {\n",
       "        text-align: right;\n",
       "    }\n",
       "</style>\n",
       "<table border=\"1\" class=\"dataframe\">\n",
       "  <thead>\n",
       "    <tr style=\"text-align: right;\">\n",
       "      <th></th>\n",
       "      <th>price</th>\n",
       "      <th>city</th>\n",
       "      <th>longitude</th>\n",
       "      <th>latitude</th>\n",
       "      <th>review_scores_rating</th>\n",
       "      <th>number_of_reviews</th>\n",
       "      <th>minimum_nights</th>\n",
       "      <th>security_deposit</th>\n",
       "      <th>cleaning_fee</th>\n",
       "      <th>accommodates</th>\n",
       "      <th>bathrooms</th>\n",
       "      <th>bedrooms</th>\n",
       "      <th>beds</th>\n",
       "      <th>property_type</th>\n",
       "      <th>room_type</th>\n",
       "      <th>availability_365</th>\n",
       "      <th>host_identity_verified</th>\n",
       "      <th>host_is_superhost</th>\n",
       "      <th>host_since</th>\n",
       "      <th>cancellation_policy</th>\n",
       "    </tr>\n",
       "  </thead>\n",
       "  <tbody>\n",
       "    <tr>\n",
       "      <th>1098</th>\n",
       "      <td>110.0</td>\n",
       "      <td>Darlinghurst</td>\n",
       "      <td>151.219597</td>\n",
       "      <td>-33.876213</td>\n",
       "      <td>NaN</td>\n",
       "      <td>0</td>\n",
       "      <td>2</td>\n",
       "      <td>250.0</td>\n",
       "      <td>50.0</td>\n",
       "      <td>2</td>\n",
       "      <td>1.0</td>\n",
       "      <td>1.0</td>\n",
       "      <td>1.0</td>\n",
       "      <td>Apartment</td>\n",
       "      <td>Entire home/apt</td>\n",
       "      <td>0</td>\n",
       "      <td>0</td>\n",
       "      <td>0</td>\n",
       "      <td>2014-07-16</td>\n",
       "      <td>moderate</td>\n",
       "    </tr>\n",
       "    <tr>\n",
       "      <th>4811</th>\n",
       "      <td>225.0</td>\n",
       "      <td>Manly</td>\n",
       "      <td>151.288501</td>\n",
       "      <td>-33.806436</td>\n",
       "      <td>100.0</td>\n",
       "      <td>1</td>\n",
       "      <td>3</td>\n",
       "      <td>750.0</td>\n",
       "      <td>219.0</td>\n",
       "      <td>4</td>\n",
       "      <td>1.0</td>\n",
       "      <td>2.0</td>\n",
       "      <td>2.0</td>\n",
       "      <td>Apartment</td>\n",
       "      <td>Entire home/apt</td>\n",
       "      <td>0</td>\n",
       "      <td>0</td>\n",
       "      <td>0</td>\n",
       "      <td>2012-09-18</td>\n",
       "      <td>strict_14_with_grace_period</td>\n",
       "    </tr>\n",
       "    <tr>\n",
       "      <th>3678</th>\n",
       "      <td>91.0</td>\n",
       "      <td>Bondi Beach</td>\n",
       "      <td>151.277634</td>\n",
       "      <td>-33.888887</td>\n",
       "      <td>NaN</td>\n",
       "      <td>0</td>\n",
       "      <td>3</td>\n",
       "      <td>200.0</td>\n",
       "      <td>25.0</td>\n",
       "      <td>1</td>\n",
       "      <td>1.0</td>\n",
       "      <td>1.0</td>\n",
       "      <td>1.0</td>\n",
       "      <td>Apartment</td>\n",
       "      <td>Private room</td>\n",
       "      <td>0</td>\n",
       "      <td>1</td>\n",
       "      <td>0</td>\n",
       "      <td>2013-10-14</td>\n",
       "      <td>strict_14_with_grace_period</td>\n",
       "    </tr>\n",
       "    <tr>\n",
       "      <th>2982</th>\n",
       "      <td>45.0</td>\n",
       "      <td>Bondi Beach</td>\n",
       "      <td>151.281182</td>\n",
       "      <td>-33.889755</td>\n",
       "      <td>84.0</td>\n",
       "      <td>25</td>\n",
       "      <td>7</td>\n",
       "      <td>400.0</td>\n",
       "      <td>50.0</td>\n",
       "      <td>2</td>\n",
       "      <td>1.0</td>\n",
       "      <td>1.0</td>\n",
       "      <td>1.0</td>\n",
       "      <td>Other</td>\n",
       "      <td>Private room</td>\n",
       "      <td>361</td>\n",
       "      <td>1</td>\n",
       "      <td>0</td>\n",
       "      <td>2015-05-07</td>\n",
       "      <td>strict_14_with_grace_period</td>\n",
       "    </tr>\n",
       "    <tr>\n",
       "      <th>5140</th>\n",
       "      <td>115.0</td>\n",
       "      <td>Manly</td>\n",
       "      <td>151.282273</td>\n",
       "      <td>-33.793341</td>\n",
       "      <td>100.0</td>\n",
       "      <td>14</td>\n",
       "      <td>1</td>\n",
       "      <td>0.0</td>\n",
       "      <td>0.0</td>\n",
       "      <td>2</td>\n",
       "      <td>1.0</td>\n",
       "      <td>1.0</td>\n",
       "      <td>1.0</td>\n",
       "      <td>House</td>\n",
       "      <td>Private room</td>\n",
       "      <td>19</td>\n",
       "      <td>1</td>\n",
       "      <td>0</td>\n",
       "      <td>2016-10-22</td>\n",
       "      <td>moderate</td>\n",
       "    </tr>\n",
       "  </tbody>\n",
       "</table>\n",
       "</div>"
      ],
      "text/plain": [
       "      price          city   longitude   latitude  review_scores_rating  \\\n",
       "1098  110.0  Darlinghurst  151.219597 -33.876213                   NaN   \n",
       "4811  225.0         Manly  151.288501 -33.806436                 100.0   \n",
       "3678   91.0   Bondi Beach  151.277634 -33.888887                   NaN   \n",
       "2982   45.0   Bondi Beach  151.281182 -33.889755                  84.0   \n",
       "5140  115.0         Manly  151.282273 -33.793341                 100.0   \n",
       "\n",
       "      number_of_reviews  minimum_nights  security_deposit  cleaning_fee  \\\n",
       "1098                  0               2             250.0          50.0   \n",
       "4811                  1               3             750.0         219.0   \n",
       "3678                  0               3             200.0          25.0   \n",
       "2982                 25               7             400.0          50.0   \n",
       "5140                 14               1               0.0           0.0   \n",
       "\n",
       "      accommodates  bathrooms  bedrooms  beds property_type        room_type  \\\n",
       "1098             2        1.0       1.0   1.0     Apartment  Entire home/apt   \n",
       "4811             4        1.0       2.0   2.0     Apartment  Entire home/apt   \n",
       "3678             1        1.0       1.0   1.0     Apartment     Private room   \n",
       "2982             2        1.0       1.0   1.0         Other     Private room   \n",
       "5140             2        1.0       1.0   1.0         House     Private room   \n",
       "\n",
       "      availability_365  host_identity_verified  host_is_superhost host_since  \\\n",
       "1098                 0                       0                  0 2014-07-16   \n",
       "4811                 0                       0                  0 2012-09-18   \n",
       "3678                 0                       1                  0 2013-10-14   \n",
       "2982               361                       1                  0 2015-05-07   \n",
       "5140                19                       1                  0 2016-10-22   \n",
       "\n",
       "              cancellation_policy  \n",
       "1098                     moderate  \n",
       "4811  strict_14_with_grace_period  \n",
       "3678  strict_14_with_grace_period  \n",
       "2982  strict_14_with_grace_period  \n",
       "5140                     moderate  "
      ]
     },
     "execution_count": 111,
     "metadata": {},
     "output_type": "execute_result"
    }
   ],
   "source": [
    "strat_test_set.head()"
   ]
  },
  {
   "cell_type": "code",
   "execution_count": 112,
   "metadata": {},
   "outputs": [],
   "source": [
    "### Now we can test the out of sample performance. \n",
    "\n",
    "final_model = grid_search.best_estimator_\n",
    "\n",
    "X_test = strat_test_set.drop(\"price\", axis=1)\n",
    "y_test = strat_test_set[\"price\"].copy()\n",
    "\n",
    "X_test_prepared = pipe(list(X_test.index)).transform(X_test)\n",
    "final_predictions = final_model.predict(X_test_prepared)\n",
    "\n",
    "final_mse = mean_squared_error(y_test, final_predictions)\n",
    "final_rmse = np.sqrt(final_mse)"
   ]
  },
  {
   "cell_type": "code",
   "execution_count": 113,
   "metadata": {},
   "outputs": [
    {
     "data": {
      "text/plain": [
       "96.42807099813533"
      ]
     },
     "execution_count": 113,
     "metadata": {},
     "output_type": "execute_result"
    }
   ],
   "source": [
    "final_rmse"
   ]
  },
  {
   "cell_type": "code",
   "execution_count": 114,
   "metadata": {},
   "outputs": [],
   "source": [
    "final_mae = mean_absolute_error(y_test, final_predictions)"
   ]
  },
  {
   "cell_type": "code",
   "execution_count": 115,
   "metadata": {},
   "outputs": [
    {
     "data": {
      "text/plain": [
       "58.31157007809289"
      ]
     },
     "execution_count": 115,
     "metadata": {},
     "output_type": "execute_result"
    }
   ],
   "source": [
    "final_mae ## not too bad"
   ]
  },
  {
   "cell_type": "code",
   "execution_count": 152,
   "metadata": {},
   "outputs": [],
   "source": [
    "## Value Estimation for Client"
   ]
  },
  {
   "cell_type": "code",
   "execution_count": 131,
   "metadata": {},
   "outputs": [],
   "source": [
    "df_client = pd.DataFrame.from_dict(dict_client, orient='index').T"
   ]
  },
  {
   "cell_type": "code",
   "execution_count": 132,
   "metadata": {},
   "outputs": [
    {
     "data": {
      "text/html": [
       "<div>\n",
       "<style scoped>\n",
       "    .dataframe tbody tr th:only-of-type {\n",
       "        vertical-align: middle;\n",
       "    }\n",
       "\n",
       "    .dataframe tbody tr th {\n",
       "        vertical-align: top;\n",
       "    }\n",
       "\n",
       "    .dataframe thead th {\n",
       "        text-align: right;\n",
       "    }\n",
       "</style>\n",
       "<table border=\"1\" class=\"dataframe\">\n",
       "  <thead>\n",
       "    <tr style=\"text-align: right;\">\n",
       "      <th></th>\n",
       "      <th>city</th>\n",
       "      <th>longitude</th>\n",
       "      <th>latitude</th>\n",
       "      <th>review_scores_rating</th>\n",
       "      <th>number_of_reviews</th>\n",
       "      <th>minimum_nights</th>\n",
       "      <th>accommodates</th>\n",
       "      <th>bathrooms</th>\n",
       "      <th>bedrooms</th>\n",
       "      <th>beds</th>\n",
       "      <th>security_deposit</th>\n",
       "      <th>cleaning_fee</th>\n",
       "      <th>property_type</th>\n",
       "      <th>room_type</th>\n",
       "      <th>availability_365</th>\n",
       "      <th>host_identity_verified</th>\n",
       "      <th>host_is_superhost</th>\n",
       "      <th>cancellation_policy</th>\n",
       "      <th>host_since</th>\n",
       "    </tr>\n",
       "  </thead>\n",
       "  <tbody>\n",
       "    <tr>\n",
       "      <th>0</th>\n",
       "      <td>Bondi Beach</td>\n",
       "      <td>151.275</td>\n",
       "      <td>-33.8891</td>\n",
       "      <td>95</td>\n",
       "      <td>53</td>\n",
       "      <td>4</td>\n",
       "      <td>10</td>\n",
       "      <td>3</td>\n",
       "      <td>5</td>\n",
       "      <td>7</td>\n",
       "      <td>1500</td>\n",
       "      <td>370</td>\n",
       "      <td>House</td>\n",
       "      <td>Entire home/apt</td>\n",
       "      <td>255</td>\n",
       "      <td>1</td>\n",
       "      <td>1</td>\n",
       "      <td>strict_14_with_grace_period</td>\n",
       "      <td>2010-01-08 00:00:00</td>\n",
       "    </tr>\n",
       "  </tbody>\n",
       "</table>\n",
       "</div>"
      ],
      "text/plain": [
       "          city longitude latitude review_scores_rating number_of_reviews  \\\n",
       "0  Bondi Beach   151.275 -33.8891                   95                53   \n",
       "\n",
       "  minimum_nights accommodates bathrooms bedrooms beds security_deposit  \\\n",
       "0              4           10         3        5    7             1500   \n",
       "\n",
       "  cleaning_fee property_type        room_type availability_365  \\\n",
       "0          370         House  Entire home/apt              255   \n",
       "\n",
       "  host_identity_verified host_is_superhost          cancellation_policy  \\\n",
       "0                      1                 1  strict_14_with_grace_period   \n",
       "\n",
       "            host_since  \n",
       "0  2010-01-08 00:00:00  "
      ]
     },
     "execution_count": 132,
     "metadata": {},
     "output_type": "execute_result"
    }
   ],
   "source": [
    "df_client"
   ]
  },
  {
   "cell_type": "code",
   "execution_count": 134,
   "metadata": {},
   "outputs": [],
   "source": [
    "df_client = pipe(list(df_client.index)).transform(df_client)"
   ]
  },
  {
   "cell_type": "code",
   "execution_count": 135,
   "metadata": {},
   "outputs": [],
   "source": [
    "client_pred = final_model.predict(df_client)"
   ]
  },
  {
   "cell_type": "code",
   "execution_count": 136,
   "metadata": {},
   "outputs": [
    {
     "name": "stdout",
     "output_type": "stream",
     "text": [
      "\u001b[1;31m648.5666666666667\u001b[0m\n",
      "\u001b[1;31m-500\u001b[0m\n",
      "\u001b[1;31m= 148.56666666666672\u001b[0m\n"
     ]
    }
   ],
   "source": [
    "### Client should be charging about $150 more. \n",
    "print('\\x1b[1;31m'+str(client_pred[0])+'\\x1b[0m')\n",
    "print('\\x1b[1;31m'+str(-500)+'\\x1b[0m')\n",
    "print('\\x1b[1;31m'+\"= \"+str(client_pred[0]-500)+'\\x1b[0m')"
   ]
  },
  {
   "cell_type": "markdown",
   "metadata": {},
   "source": [
    "#### We can compute a 95% confidence interval for the test RMSE:"
   ]
  },
  {
   "cell_type": "code",
   "execution_count": 137,
   "metadata": {},
   "outputs": [],
   "source": [
    "from scipy import stats"
   ]
  },
  {
   "cell_type": "code",
   "execution_count": 138,
   "metadata": {},
   "outputs": [
    {
     "data": {
      "text/plain": [
       "22.0"
      ]
     },
     "execution_count": 138,
     "metadata": {},
     "output_type": "execute_result"
    }
   ],
   "source": [
    "y_test.min()"
   ]
  },
  {
   "cell_type": "code",
   "execution_count": 140,
   "metadata": {},
   "outputs": [
    {
     "name": "stdout",
     "output_type": "stream",
     "text": [
      "MSE Interval:  [ 87.00690678 105.00735177]\n"
     ]
    }
   ],
   "source": [
    "## This calculates the RMSE confidence interval\n",
    "\n",
    "confidence = 0.95\n",
    "squared_errors = (final_predictions - y_test) ** 2\n",
    "mean = squared_errors.mean()\n",
    "m = len(squared_errors)\n",
    "\n",
    "## MSE\n",
    "MSE_int = np.sqrt(stats.t.interval(confidence, m - 1,\n",
    "                         loc=np.mean(squared_errors),\n",
    "                         scale=stats.sem(squared_errors)))\n",
    "\n",
    "print(\"MSE Interval: \", MSE_int)\n"
   ]
  },
  {
   "cell_type": "markdown",
   "metadata": {},
   "source": [
    "We could also compute the interval manually like this:"
   ]
  },
  {
   "cell_type": "code",
   "execution_count": 141,
   "metadata": {},
   "outputs": [
    {
     "data": {
      "text/plain": [
       "(87.00690677598931, 105.00735177175524)"
      ]
     },
     "execution_count": 141,
     "metadata": {},
     "output_type": "execute_result"
    }
   ],
   "source": [
    "tscore = stats.t.ppf((1 + confidence) / 2, df=m - 1)\n",
    "tmargin = tscore * squared_errors.std(ddof=1) / np.sqrt(m)\n",
    "np.sqrt(mean - tmargin), np.sqrt(mean + tmargin)"
   ]
  },
  {
   "cell_type": "markdown",
   "metadata": {},
   "source": [
    "Alternatively, we could use a z-scores rather than t-scores:"
   ]
  },
  {
   "cell_type": "code",
   "execution_count": 142,
   "metadata": {},
   "outputs": [
    {
     "data": {
      "text/plain": [
       "(87.01432179318299, 105.00120740122584)"
      ]
     },
     "execution_count": 142,
     "metadata": {},
     "output_type": "execute_result"
    }
   ],
   "source": [
    "zscore = stats.norm.ppf((1 + confidence) / 2)\n",
    "zmargin = zscore * squared_errors.std(ddof=1) / np.sqrt(m)\n",
    "np.sqrt(mean - zmargin), np.sqrt(mean + zmargin)"
   ]
  },
  {
   "cell_type": "code",
   "execution_count": 143,
   "metadata": {},
   "outputs": [
    {
     "name": "stdout",
     "output_type": "stream",
     "text": [
      "MAE Interval:  (54.57013439378276, 62.05300576240288)\n"
     ]
    }
   ],
   "source": [
    "####### What about for MAE \n",
    "\n",
    "absolute_errors = (final_predictions - y_test).abs()\n",
    "mean = absolute_errors.mean()\n",
    "m = len(absolute_errors)\n",
    "\n",
    "MAE_int = stats.t.interval(confidence, m - 1,\n",
    "                         loc=np.mean(absolute_errors),\n",
    "                         scale=stats.sem(absolute_errors))\n",
    "\n",
    "print(\"MAE Interval: \", MAE_int)\n"
   ]
  },
  {
   "cell_type": "markdown",
   "metadata": {},
   "source": [
    "# Extra material"
   ]
  },
  {
   "cell_type": "markdown",
   "metadata": {},
   "source": [
    "## You can also include the parameter optimisation in a pipline"
   ]
  },
  {
   "cell_type": "code",
   "execution_count": 144,
   "metadata": {},
   "outputs": [
    {
     "data": {
      "text/html": [
       "<div>\n",
       "<style scoped>\n",
       "    .dataframe tbody tr th:only-of-type {\n",
       "        vertical-align: middle;\n",
       "    }\n",
       "\n",
       "    .dataframe tbody tr th {\n",
       "        vertical-align: top;\n",
       "    }\n",
       "\n",
       "    .dataframe thead th {\n",
       "        text-align: right;\n",
       "    }\n",
       "</style>\n",
       "<table border=\"1\" class=\"dataframe\">\n",
       "  <thead>\n",
       "    <tr style=\"text-align: right;\">\n",
       "      <th></th>\n",
       "      <th>city</th>\n",
       "      <th>longitude</th>\n",
       "      <th>latitude</th>\n",
       "      <th>review_scores_rating</th>\n",
       "      <th>number_of_reviews</th>\n",
       "      <th>minimum_nights</th>\n",
       "      <th>security_deposit</th>\n",
       "      <th>cleaning_fee</th>\n",
       "      <th>accommodates</th>\n",
       "      <th>bathrooms</th>\n",
       "      <th>bedrooms</th>\n",
       "      <th>beds</th>\n",
       "      <th>property_type</th>\n",
       "      <th>room_type</th>\n",
       "      <th>availability_365</th>\n",
       "      <th>host_identity_verified</th>\n",
       "      <th>host_is_superhost</th>\n",
       "      <th>host_since</th>\n",
       "      <th>cancellation_policy</th>\n",
       "    </tr>\n",
       "  </thead>\n",
       "  <tbody>\n",
       "    <tr>\n",
       "      <th>5484</th>\n",
       "      <td>Newtown</td>\n",
       "      <td>151.178552</td>\n",
       "      <td>-33.907150</td>\n",
       "      <td>96.0</td>\n",
       "      <td>61</td>\n",
       "      <td>2</td>\n",
       "      <td>250.0</td>\n",
       "      <td>85.0</td>\n",
       "      <td>4</td>\n",
       "      <td>1.0</td>\n",
       "      <td>2.0</td>\n",
       "      <td>2.0</td>\n",
       "      <td>House</td>\n",
       "      <td>Entire home/apt</td>\n",
       "      <td>127</td>\n",
       "      <td>1</td>\n",
       "      <td>0</td>\n",
       "      <td>2016-01-22</td>\n",
       "      <td>moderate</td>\n",
       "    </tr>\n",
       "    <tr>\n",
       "      <th>1267</th>\n",
       "      <td>Randwick</td>\n",
       "      <td>151.249030</td>\n",
       "      <td>-33.906190</td>\n",
       "      <td>97.0</td>\n",
       "      <td>6</td>\n",
       "      <td>4</td>\n",
       "      <td>0.0</td>\n",
       "      <td>20.0</td>\n",
       "      <td>2</td>\n",
       "      <td>1.0</td>\n",
       "      <td>1.0</td>\n",
       "      <td>1.0</td>\n",
       "      <td>Apartment</td>\n",
       "      <td>Private room</td>\n",
       "      <td>0</td>\n",
       "      <td>1</td>\n",
       "      <td>0</td>\n",
       "      <td>2014-03-28</td>\n",
       "      <td>moderate</td>\n",
       "    </tr>\n",
       "    <tr>\n",
       "      <th>6658</th>\n",
       "      <td>Manly</td>\n",
       "      <td>151.288491</td>\n",
       "      <td>-33.802074</td>\n",
       "      <td>100.0</td>\n",
       "      <td>2</td>\n",
       "      <td>2</td>\n",
       "      <td>0.0</td>\n",
       "      <td>40.0</td>\n",
       "      <td>2</td>\n",
       "      <td>1.0</td>\n",
       "      <td>1.0</td>\n",
       "      <td>1.0</td>\n",
       "      <td>Apartment</td>\n",
       "      <td>Entire home/apt</td>\n",
       "      <td>0</td>\n",
       "      <td>1</td>\n",
       "      <td>0</td>\n",
       "      <td>2014-01-09</td>\n",
       "      <td>strict_14_with_grace_period</td>\n",
       "    </tr>\n",
       "    <tr>\n",
       "      <th>2522</th>\n",
       "      <td>Randwick</td>\n",
       "      <td>151.236423</td>\n",
       "      <td>-33.913614</td>\n",
       "      <td>94.0</td>\n",
       "      <td>20</td>\n",
       "      <td>3</td>\n",
       "      <td>0.0</td>\n",
       "      <td>0.0</td>\n",
       "      <td>2</td>\n",
       "      <td>1.0</td>\n",
       "      <td>1.0</td>\n",
       "      <td>1.0</td>\n",
       "      <td>Apartment</td>\n",
       "      <td>Private room</td>\n",
       "      <td>90</td>\n",
       "      <td>0</td>\n",
       "      <td>0</td>\n",
       "      <td>2015-11-22</td>\n",
       "      <td>flexible</td>\n",
       "    </tr>\n",
       "    <tr>\n",
       "      <th>722</th>\n",
       "      <td>Coogee</td>\n",
       "      <td>151.259342</td>\n",
       "      <td>-33.918435</td>\n",
       "      <td>92.0</td>\n",
       "      <td>139</td>\n",
       "      <td>30</td>\n",
       "      <td>0.0</td>\n",
       "      <td>0.0</td>\n",
       "      <td>3</td>\n",
       "      <td>1.0</td>\n",
       "      <td>1.0</td>\n",
       "      <td>2.0</td>\n",
       "      <td>Apartment</td>\n",
       "      <td>Private room</td>\n",
       "      <td>0</td>\n",
       "      <td>1</td>\n",
       "      <td>0</td>\n",
       "      <td>2014-01-07</td>\n",
       "      <td>strict_14_with_grace_period</td>\n",
       "    </tr>\n",
       "  </tbody>\n",
       "</table>\n",
       "</div>"
      ],
      "text/plain": [
       "          city   longitude   latitude  review_scores_rating  \\\n",
       "5484   Newtown  151.178552 -33.907150                  96.0   \n",
       "1267  Randwick  151.249030 -33.906190                  97.0   \n",
       "6658     Manly  151.288491 -33.802074                 100.0   \n",
       "2522  Randwick  151.236423 -33.913614                  94.0   \n",
       "722     Coogee  151.259342 -33.918435                  92.0   \n",
       "\n",
       "      number_of_reviews  minimum_nights  security_deposit  cleaning_fee  \\\n",
       "5484                 61               2             250.0          85.0   \n",
       "1267                  6               4               0.0          20.0   \n",
       "6658                  2               2               0.0          40.0   \n",
       "2522                 20               3               0.0           0.0   \n",
       "722                 139              30               0.0           0.0   \n",
       "\n",
       "      accommodates  bathrooms  bedrooms  beds property_type        room_type  \\\n",
       "5484             4        1.0       2.0   2.0         House  Entire home/apt   \n",
       "1267             2        1.0       1.0   1.0     Apartment     Private room   \n",
       "6658             2        1.0       1.0   1.0     Apartment  Entire home/apt   \n",
       "2522             2        1.0       1.0   1.0     Apartment     Private room   \n",
       "722              3        1.0       1.0   2.0     Apartment     Private room   \n",
       "\n",
       "      availability_365  host_identity_verified  host_is_superhost host_since  \\\n",
       "5484               127                       1                  0 2016-01-22   \n",
       "1267                 0                       1                  0 2014-03-28   \n",
       "6658                 0                       1                  0 2014-01-09   \n",
       "2522                90                       0                  0 2015-11-22   \n",
       "722                  0                       1                  0 2014-01-07   \n",
       "\n",
       "              cancellation_policy  \n",
       "5484                     moderate  \n",
       "1267                     moderate  \n",
       "6658  strict_14_with_grace_period  \n",
       "2522                     flexible  \n",
       "722   strict_14_with_grace_period  "
      ]
     },
     "execution_count": 144,
     "metadata": {},
     "output_type": "execute_result"
    }
   ],
   "source": [
    "X.head()"
   ]
  },
  {
   "cell_type": "code",
   "execution_count": 145,
   "metadata": {},
   "outputs": [
    {
     "data": {
      "text/plain": [
       "5484    200.0\n",
       "1267    183.0\n",
       "6658    175.0\n",
       "2522     85.0\n",
       "722      80.0\n",
       "Name: price, dtype: float64"
      ]
     },
     "execution_count": 145,
     "metadata": {},
     "output_type": "execute_result"
    }
   ],
   "source": [
    "Y.head()"
   ]
  },
  {
   "cell_type": "code",
   "execution_count": 146,
   "metadata": {},
   "outputs": [],
   "source": [
    "from sklearn.model_selection import RandomizedSearchCV\n",
    "from scipy.stats import randint\n",
    "\n",
    "class Optimise(BaseEstimator, TransformerMixin):\n",
    "    def __init__(self, Y=[] ): # no *args or **kargs\n",
    "        self.Y = Y\n",
    "    def fit(self, X_df, y=None):\n",
    "        return self  # nothing else to do\n",
    "    def transform(self, X_df, y=None):\n",
    "        param_distribs = {\n",
    "                'n_estimators': randint(low=1, high=200),\n",
    "                'max_features': randint(low=1, high=8),\n",
    "            }\n",
    "\n",
    "        forest_reg = RandomForestRegressor(random_state=42)\n",
    "        rnd_search = RandomizedSearchCV(forest_reg, param_distributions=param_distribs,\n",
    "                                        n_iter=5, cv=5, scoring='neg_mean_squared_error', random_state=42)\n",
    "        \n",
    "        rnd_search.fit(X_df, self.Y)\n",
    "        \n",
    "        return rnd_search.best_estimator_\n",
    "\n",
    "def pipe_full(inds, Y):\n",
    "    return Pipeline([\n",
    "            (\"first\", pipe(inds)),\n",
    "            (\"opt\", Optimise(Y)),\n",
    "        ])\n",
    "    \n",
    "params = {\"inds\" : list(X.index),\"Y\" : Y}\n",
    "\n",
    "modell = pipe_full(**params).fit_transform(X) # Now we have done all the preprocessing instead of\n",
    "                                   #.. doing it bit by bit. The pipeline becomes \n",
    "                                   #.. extremely handy in the cross-validation step.\n"
   ]
  },
  {
   "cell_type": "code",
   "execution_count": 147,
   "metadata": {},
   "outputs": [],
   "source": [
    "X_test_prepared = pipe(list(X_test.index)).transform(X_test)\n",
    "X_pred = modell.predict(X_test_prepared)"
   ]
  },
  {
   "cell_type": "code",
   "execution_count": 148,
   "metadata": {},
   "outputs": [
    {
     "data": {
      "text/plain": [
       "array([142.5       , 267.38888889,  78.03333333,  67.78888889,\n",
       "        93.05      , 121.19444444,  65.49444444, 189.74444444,\n",
       "       113.12222222, 286.07777778])"
      ]
     },
     "execution_count": 148,
     "metadata": {},
     "output_type": "execute_result"
    }
   ],
   "source": [
    "X_pred[:10]"
   ]
  },
  {
   "cell_type": "markdown",
   "metadata": {},
   "source": [
    "## Model persistence using joblib"
   ]
  },
  {
   "cell_type": "code",
   "execution_count": 149,
   "metadata": {},
   "outputs": [],
   "source": [
    "my_model = final_model"
   ]
  },
  {
   "cell_type": "code",
   "execution_count": 150,
   "metadata": {},
   "outputs": [],
   "source": [
    "from sklearn.externals import joblib\n",
    "joblib.dump(my_model, \"my_model.pkl\") # DIFF\n",
    "#...\n",
    "my_model_loaded = joblib.load(\"my_model.pkl\") # DIFF"
   ]
  },
  {
   "cell_type": "markdown",
   "metadata": {},
   "source": [
    "## Example SciPy distributions for `RandomizedSearchCV`"
   ]
  },
  {
   "cell_type": "code",
   "execution_count": 151,
   "metadata": {},
   "outputs": [
    {
     "data": {
      "image/png": "[encoded data removed]",
      "text/plain": [
       "<matplotlib.figure.Figure at 0x118958ac8>"
      ]
     },
     "metadata": {},
     "output_type": "display_data"
    },
    {
     "data": {
      "image/png": "[encoded data removed]",
      "text/plain": [
       "<matplotlib.figure.Figure at 0x1177d0320>"
      ]
     },
     "metadata": {},
     "output_type": "display_data"
    }
   ],
   "source": [
    "from scipy.stats import geom, expon\n",
    "geom_distrib=geom(0.5).rvs(10000, random_state=42)\n",
    "expon_distrib=expon(scale=1).rvs(10000, random_state=42)\n",
    "plt.hist(geom_distrib, bins=50)\n",
    "plt.show()\n",
    "plt.hist(expon_distrib, bins=50)\n",
    "plt.show()"
   ]
  },
  {
   "cell_type": "code",
   "execution_count": null,
   "metadata": {},
   "outputs": [],
   "source": []
  }
 ],
 "metadata": {
  "kernelspec": {
   "display_name": "Python 3",
   "language": "python",
   "name": "python3"
  },
  "language_info": {
   "codemirror_mode": {
    "name": "ipython",
    "version": 3
   },
   "file_extension": ".py",
   "mimetype": "text/x-python",
   "name": "python",
   "nbconvert_exporter": "python",
   "pygments_lexer": "ipython3",
   "version": "3.6.3"
  },
  "nav_menu": {
   "height": "279px",
   "width": "309px"
  },
  "toc": {
   "nav_menu": {},
   "number_sections": true,
   "sideBar": true,
   "skip_h1_title": false,
   "toc_cell": false,
   "toc_position": {},
   "toc_section_display": "block",
   "toc_window_display": false
  }
 },
 "nbformat": 4,
 "nbformat_minor": 2
}
